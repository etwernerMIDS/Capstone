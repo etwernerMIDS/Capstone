{
 "cells": [
  {
   "cell_type": "code",
   "execution_count": 20,
   "id": "a31949be-42c2-4069-a4b0-f990b34e5829",
   "metadata": {},
   "outputs": [
    {
     "name": "stdout",
     "output_type": "stream",
     "text": [
      "Requirement already satisfied: pip in /opt/conda/lib/python3.9/site-packages (21.3.1)\n",
      "Requirement already satisfied: pandas in /opt/conda/lib/python3.9/site-packages (1.3.5)\n",
      "Requirement already satisfied: python-dateutil>=2.7.3 in /opt/conda/lib/python3.9/site-packages (from pandas) (2.8.2)\n",
      "Requirement already satisfied: pytz>=2017.3 in /opt/conda/lib/python3.9/site-packages (from pandas) (2021.3)\n",
      "Requirement already satisfied: numpy>=1.19.2 in /opt/conda/lib/python3.9/site-packages (from pandas) (1.21.5)\n",
      "Requirement already satisfied: six>=1.5 in /opt/conda/lib/python3.9/site-packages (from python-dateutil>=2.7.3->pandas) (1.16.0)\n",
      "Requirement already satisfied: requests in /opt/conda/lib/python3.9/site-packages (2.27.1)\n",
      "Requirement already satisfied: idna<4,>=2.5 in /opt/conda/lib/python3.9/site-packages (from requests) (3.3)\n",
      "Requirement already satisfied: certifi>=2017.4.17 in /opt/conda/lib/python3.9/site-packages (from requests) (2021.10.8)\n",
      "Requirement already satisfied: charset-normalizer~=2.0.0 in /opt/conda/lib/python3.9/site-packages (from requests) (2.0.10)\n",
      "Requirement already satisfied: urllib3<1.27,>=1.21.1 in /opt/conda/lib/python3.9/site-packages (from requests) (1.26.8)\n",
      "Requirement already satisfied: datetime in /opt/conda/lib/python3.9/site-packages (4.3)\n",
      "Requirement already satisfied: zope.interface in /opt/conda/lib/python3.9/site-packages (from datetime) (5.4.0)\n",
      "Requirement already satisfied: pytz in /opt/conda/lib/python3.9/site-packages (from datetime) (2021.3)\n",
      "Requirement already satisfied: setuptools in /opt/conda/lib/python3.9/site-packages (from zope.interface->datetime) (59.8.0)\n",
      "Requirement already satisfied: gql in /opt/conda/lib/python3.9/site-packages (3.0.0)\n",
      "Requirement already satisfied: graphql-core<3.3,>=3.2 in /opt/conda/lib/python3.9/site-packages (from gql) (3.2.0)\n",
      "Requirement already satisfied: yarl<2.0,>=1.6 in /opt/conda/lib/python3.9/site-packages (from gql) (1.7.2)\n",
      "Requirement already satisfied: multidict>=4.0 in /opt/conda/lib/python3.9/site-packages (from yarl<2.0,>=1.6->gql) (6.0.0)\n",
      "Requirement already satisfied: idna>=2.0 in /opt/conda/lib/python3.9/site-packages (from yarl<2.0,>=1.6->gql) (3.3)\n"
     ]
    }
   ],
   "source": [
    "# Install dependencies\n",
    "\n",
    "!pip install --upgrade pip\n",
    "\n",
    "!pip install pandas\n",
    "!pip install requests\n",
    "!pip install datetime\n",
    "!pip install gql"
   ]
  },
  {
   "cell_type": "code",
   "execution_count": 88,
   "id": "db1fd36c-4fe0-48dd-ac36-1f8f59e059f9",
   "metadata": {},
   "outputs": [],
   "source": [
    "# Import modules\n",
    "import matplotlib.pyplot as plt\n",
    "import pandas as pd\n",
    "from scipy import stats"
   ]
  },
  {
   "cell_type": "code",
   "execution_count": 22,
   "id": "c260fe15-3bc1-436b-8d0e-bb6b58d4cacf",
   "metadata": {},
   "outputs": [
    {
     "name": "stderr",
     "output_type": "stream",
     "text": [
      "/opt/conda/lib/python3.9/site-packages/IPython/core/interactiveshell.py:3251: DtypeWarning: Columns (0,1,2,4,6,8,9,10,14,15,20) have mixed types.Specify dtype option on import or set low_memory=False.\n",
      "  exec(code_obj, self.user_global_ns, self.user_ns)\n"
     ]
    }
   ],
   "source": [
    "# Load trade data\n",
    "df_trades = pd.read_csv('https://nft-capstone.s3.us-west-1.amazonaws.com/Data_API.csv.gz')"
   ]
  },
  {
   "cell_type": "code",
   "execution_count": 25,
   "id": "6fad1dc2-ea01-4e9c-a96a-4c022081692b",
   "metadata": {},
   "outputs": [
    {
     "data": {
      "text/html": [
       "<div>\n",
       "<style scoped>\n",
       "    .dataframe tbody tr th:only-of-type {\n",
       "        vertical-align: middle;\n",
       "    }\n",
       "\n",
       "    .dataframe tbody tr th {\n",
       "        vertical-align: top;\n",
       "    }\n",
       "\n",
       "    .dataframe thead th {\n",
       "        text-align: right;\n",
       "    }\n",
       "</style>\n",
       "<table border=\"1\" class=\"dataframe\">\n",
       "  <thead>\n",
       "    <tr style=\"text-align: right;\">\n",
       "      <th></th>\n",
       "      <th>Smart_contract</th>\n",
       "      <th>ID_token</th>\n",
       "      <th>Transaction_hash</th>\n",
       "      <th>Seller_address</th>\n",
       "      <th>Seller_username</th>\n",
       "      <th>Buyer_address</th>\n",
       "      <th>Buyer_username</th>\n",
       "      <th>Image_url_1</th>\n",
       "      <th>Image_url_2</th>\n",
       "      <th>Image_url_3</th>\n",
       "      <th>Image_url_4</th>\n",
       "      <th>Price_Crypto</th>\n",
       "      <th>Crypto</th>\n",
       "      <th>Price_USD</th>\n",
       "      <th>Name</th>\n",
       "      <th>Description</th>\n",
       "      <th>Collection</th>\n",
       "      <th>Market</th>\n",
       "      <th>Datetime_updated</th>\n",
       "      <th>Datetime_updated_seconds</th>\n",
       "      <th>Permanent_link</th>\n",
       "      <th>Unique_id_collection</th>\n",
       "      <th>Collection_cleaned</th>\n",
       "      <th>Category</th>\n",
       "    </tr>\n",
       "  </thead>\n",
       "  <tbody>\n",
       "    <tr>\n",
       "      <th>6071020</th>\n",
       "      <td>0xf5b0a3efb8e8e4c201e2a935f110eaaf3ffecb8d</td>\n",
       "      <td>237702</td>\n",
       "      <td>0x5410fd51c7d538e110b0e5d845a19d1b0cad9033da9c...</td>\n",
       "      <td>0xac61a6ca9e4266c083c11f6ab87925bd657113da</td>\n",
       "      <td>NaN</td>\n",
       "      <td>0xf1730ba1538cc0934c8b2bc3db630a573d154c9f</td>\n",
       "      <td>NaN</td>\n",
       "      <td>https://lh3.googleusercontent.com/NYNaDSKGA5B1...</td>\n",
       "      <td>https://lh3.googleusercontent.com/lpjsH83fNiAT...</td>\n",
       "      <td>https://lh3.googleusercontent.com/NYNaDSKGA5B1...</td>\n",
       "      <td>https://lh3.googleusercontent.com/NYNaDSKGA5B1...</td>\n",
       "      <td>0.115308</td>\n",
       "      <td>ETH</td>\n",
       "      <td>223.169254</td>\n",
       "      <td>Comfident reptile w Incisor!</td>\n",
       "      <td>Axies are digital pets, each Axie has its own ...</td>\n",
       "      <td>Axie</td>\n",
       "      <td>OpenSea</td>\n",
       "      <td>2021-04-01 00:00:00</td>\n",
       "      <td>2021-04-01 00:04:49</td>\n",
       "      <td>https://opensea.io/assets/0xf5b0a3efb8e8e4c201...</td>\n",
       "      <td>('Axie', '237702')</td>\n",
       "      <td>Axie</td>\n",
       "      <td>Games</td>\n",
       "    </tr>\n",
       "    <tr>\n",
       "      <th>6071021</th>\n",
       "      <td>0x2a46f2ffd99e19a89476e2f62270e0a35bbf0756</td>\n",
       "      <td>51703</td>\n",
       "      <td>0xd67c640b3ec8c590701796d6e317038c6337e25681d5...</td>\n",
       "      <td>0xc11c20ade395abd5aec1a6040f8ee9b5ffd6b6a6</td>\n",
       "      <td>NaN</td>\n",
       "      <td>0x08b5d278a116665aeecf16e60f87891abbbe492a</td>\n",
       "      <td>NaN</td>\n",
       "      <td>https://lh3.googleusercontent.com/8c75baJSPY0b...</td>\n",
       "      <td>https://ipfsgateway.makersplace.com/ipfs/QmSmu...</td>\n",
       "      <td>https://lh3.googleusercontent.com/8c75baJSPY0b...</td>\n",
       "      <td>https://lh3.googleusercontent.com/8c75baJSPY0b...</td>\n",
       "      <td>1.500000</td>\n",
       "      <td>ETH</td>\n",
       "      <td>2903.122500</td>\n",
       "      <td>F1AT.</td>\n",
       "      <td>RIP USD.</td>\n",
       "      <td>Makersplace</td>\n",
       "      <td>OpenSea</td>\n",
       "      <td>2021-04-01 00:00:00</td>\n",
       "      <td>2021-04-01 00:03:24</td>\n",
       "      <td>https://opensea.io/assets/0x2a46f2ffd99e19a894...</td>\n",
       "      <td>('Makersplace', '51703')</td>\n",
       "      <td>Maker</td>\n",
       "      <td>Art</td>\n",
       "    </tr>\n",
       "    <tr>\n",
       "      <th>6071022</th>\n",
       "      <td>0xb932a70a57673d89f4acffbe830e8ed7f75fb9e0</td>\n",
       "      <td>16412</td>\n",
       "      <td>0x346561b3f7a233c4245f91c68940b2d750df26ef1b04...</td>\n",
       "      <td>0x9f37284b3a538be8eea2d401b595f44c96d39b70</td>\n",
       "      <td>NaN</td>\n",
       "      <td>0xa353401738e7ec6a4db9c0ee4c66eb5252f681c4</td>\n",
       "      <td>NaN</td>\n",
       "      <td>https://lh3.googleusercontent.com/isSUPEsJJWpF...</td>\n",
       "      <td>https://ipfs.pixura.io/ipfs/QmSHxximuHUZV54pAA...</td>\n",
       "      <td>https://lh3.googleusercontent.com/isSUPEsJJWpF...</td>\n",
       "      <td>https://lh3.googleusercontent.com/isSUPEsJJWpF...</td>\n",
       "      <td>0.500000</td>\n",
       "      <td>ETH</td>\n",
       "      <td>967.707500</td>\n",
       "      <td>Pájaro Doctor 13/40</td>\n",
       "      <td>Digital piece made by using a variety of softw...</td>\n",
       "      <td>Superrare</td>\n",
       "      <td>OpenSea</td>\n",
       "      <td>2021-04-01 00:00:00</td>\n",
       "      <td>2021-04-01 00:00:52</td>\n",
       "      <td>https://opensea.io/assets/0xb932a70a57673d89f4...</td>\n",
       "      <td>('Superrare', '16412')</td>\n",
       "      <td>Superrare</td>\n",
       "      <td>Art</td>\n",
       "    </tr>\n",
       "    <tr>\n",
       "      <th>6071023</th>\n",
       "      <td>0x495f947276749ce646f68ac8c248420045cb7b5e</td>\n",
       "      <td>1062274196422536302774639391540663457511117433...</td>\n",
       "      <td>0xd507715bb835252a65d572037ac8eb36854b05ecc672...</td>\n",
       "      <td>0xeada96bf164643bdfe3e657a9f380854694a49dd</td>\n",
       "      <td>Mistcop</td>\n",
       "      <td>0xe2fe53f9bcb33e3e0fc65f2f627ca4eb8e958347</td>\n",
       "      <td>NaN</td>\n",
       "      <td>https://lh3.googleusercontent.com/qdzZDtYHHVdi...</td>\n",
       "      <td>NaN</td>\n",
       "      <td>https://lh3.googleusercontent.com/qdzZDtYHHVdi...</td>\n",
       "      <td>https://lh3.googleusercontent.com/qdzZDtYHHVdi...</td>\n",
       "      <td>0.050000</td>\n",
       "      <td>ETH</td>\n",
       "      <td>96.770750</td>\n",
       "      <td>Kawaii Monster #2</td>\n",
       "      <td>NaN</td>\n",
       "      <td>Kawaii-monsters</td>\n",
       "      <td>OpenSea</td>\n",
       "      <td>2021-04-01 00:00:00</td>\n",
       "      <td>2021-04-01 00:00:50</td>\n",
       "      <td>https://opensea.io/assets/0x495f947276749ce646...</td>\n",
       "      <td>('Kawaii-monsters', '1062274196422536302774639...</td>\n",
       "      <td>Kawaiimonster</td>\n",
       "      <td>Other</td>\n",
       "    </tr>\n",
       "    <tr>\n",
       "      <th>6071024</th>\n",
       "      <td>0x495f947276749ce646f68ac8c248420045cb7b5e</td>\n",
       "      <td>4602588071276327231659212203812866312085457052...</td>\n",
       "      <td>0x4cb90a775619a9483c003050de47c403fae957e5352b...</td>\n",
       "      <td>0x65c1b9ae4e4d8dcccfd3dc41b940840fe8570f2a</td>\n",
       "      <td>International_Megadigital</td>\n",
       "      <td>0x220d20310f52d97e353028ebd742d2c690eaf0a1</td>\n",
       "      <td>WanderlustNFT</td>\n",
       "      <td>https://lh3.googleusercontent.com/SoTAV8k4UC90...</td>\n",
       "      <td>NaN</td>\n",
       "      <td>https://lh3.googleusercontent.com/SoTAV8k4UC90...</td>\n",
       "      <td>https://lh3.googleusercontent.com/SoTAV8k4UC90...</td>\n",
       "      <td>0.018500</td>\n",
       "      <td>ETH</td>\n",
       "      <td>35.805177</td>\n",
       "      <td>Bishoujo Originals - #4977</td>\n",
       "      <td>The original source for collectible Bishoujo h...</td>\n",
       "      <td>Moe-tokens</td>\n",
       "      <td>OpenSea</td>\n",
       "      <td>2021-04-01 00:00:00</td>\n",
       "      <td>2021-04-01 00:00:51</td>\n",
       "      <td>https://opensea.io/assets/0x495f947276749ce646...</td>\n",
       "      <td>('Moe-tokens', '460258807127632723165921220381...</td>\n",
       "      <td>Moetoken</td>\n",
       "      <td>Other</td>\n",
       "    </tr>\n",
       "    <tr>\n",
       "      <th>6071025</th>\n",
       "      <td>0x495f947276749ce646f68ac8c248420045cb7b5e</td>\n",
       "      <td>8060875342503467325201444233539848397816312727...</td>\n",
       "      <td>0x76068e84592753bb1e076c5320c7e3ecfe41e4da8ebe...</td>\n",
       "      <td>0xb236f00808a9f88b3117af95c881966288dfbcbb</td>\n",
       "      <td>TheOfficialGarrett</td>\n",
       "      <td>0xd543a0be0684f0556786586b83f4c9fd16a4dc35</td>\n",
       "      <td>kittylord</td>\n",
       "      <td>https://lh3.googleusercontent.com/AWwjq0cuTjHF...</td>\n",
       "      <td>NaN</td>\n",
       "      <td>https://lh3.googleusercontent.com/AWwjq0cuTjHF...</td>\n",
       "      <td>https://lh3.googleusercontent.com/AWwjq0cuTjHF...</td>\n",
       "      <td>0.010000</td>\n",
       "      <td>ETH</td>\n",
       "      <td>19.354150</td>\n",
       "      <td>Smile 0066</td>\n",
       "      <td>Coming to you hot!  Not Fun Tokens or (NFT's)!...</td>\n",
       "      <td>Not-fun-tokens</td>\n",
       "      <td>OpenSea</td>\n",
       "      <td>2021-04-01 00:00:00</td>\n",
       "      <td>2021-04-01 00:00:40</td>\n",
       "      <td>https://opensea.io/assets/0x495f947276749ce646...</td>\n",
       "      <td>('Not-fun-tokens', '80608753425034673252014442...</td>\n",
       "      <td>Notfuntoken</td>\n",
       "      <td>Other</td>\n",
       "    </tr>\n",
       "    <tr>\n",
       "      <th>6071026</th>\n",
       "      <td>0x495f947276749ce646f68ac8c248420045cb7b5e</td>\n",
       "      <td>8060875342503467325201444233539848397816312727...</td>\n",
       "      <td>0x6efdcfde266760201767ba099c1f10f47937a8098720...</td>\n",
       "      <td>0xb236f00808a9f88b3117af95c881966288dfbcbb</td>\n",
       "      <td>TheOfficialGarrett</td>\n",
       "      <td>0xd543a0be0684f0556786586b83f4c9fd16a4dc35</td>\n",
       "      <td>kittylord</td>\n",
       "      <td>https://lh3.googleusercontent.com/1PSAAdTKWB5p...</td>\n",
       "      <td>NaN</td>\n",
       "      <td>https://lh3.googleusercontent.com/1PSAAdTKWB5p...</td>\n",
       "      <td>https://lh3.googleusercontent.com/1PSAAdTKWB5p...</td>\n",
       "      <td>0.010000</td>\n",
       "      <td>ETH</td>\n",
       "      <td>19.354150</td>\n",
       "      <td>Smile 0023</td>\n",
       "      <td>Coming to you hot!  Not Fun Tokens or (NFT's)!...</td>\n",
       "      <td>Not-fun-tokens</td>\n",
       "      <td>OpenSea</td>\n",
       "      <td>2021-04-01 00:00:00</td>\n",
       "      <td>2021-04-01 00:00:40</td>\n",
       "      <td>https://opensea.io/assets/0x495f947276749ce646...</td>\n",
       "      <td>('Not-fun-tokens', '80608753425034673252014442...</td>\n",
       "      <td>Notfuntoken</td>\n",
       "      <td>Other</td>\n",
       "    </tr>\n",
       "  </tbody>\n",
       "</table>\n",
       "</div>"
      ],
      "text/plain": [
       "                                     Smart_contract  \\\n",
       "6071020  0xf5b0a3efb8e8e4c201e2a935f110eaaf3ffecb8d   \n",
       "6071021  0x2a46f2ffd99e19a89476e2f62270e0a35bbf0756   \n",
       "6071022  0xb932a70a57673d89f4acffbe830e8ed7f75fb9e0   \n",
       "6071023  0x495f947276749ce646f68ac8c248420045cb7b5e   \n",
       "6071024  0x495f947276749ce646f68ac8c248420045cb7b5e   \n",
       "6071025  0x495f947276749ce646f68ac8c248420045cb7b5e   \n",
       "6071026  0x495f947276749ce646f68ac8c248420045cb7b5e   \n",
       "\n",
       "                                                  ID_token  \\\n",
       "6071020                                             237702   \n",
       "6071021                                              51703   \n",
       "6071022                                              16412   \n",
       "6071023  1062274196422536302774639391540663457511117433...   \n",
       "6071024  4602588071276327231659212203812866312085457052...   \n",
       "6071025  8060875342503467325201444233539848397816312727...   \n",
       "6071026  8060875342503467325201444233539848397816312727...   \n",
       "\n",
       "                                          Transaction_hash  \\\n",
       "6071020  0x5410fd51c7d538e110b0e5d845a19d1b0cad9033da9c...   \n",
       "6071021  0xd67c640b3ec8c590701796d6e317038c6337e25681d5...   \n",
       "6071022  0x346561b3f7a233c4245f91c68940b2d750df26ef1b04...   \n",
       "6071023  0xd507715bb835252a65d572037ac8eb36854b05ecc672...   \n",
       "6071024  0x4cb90a775619a9483c003050de47c403fae957e5352b...   \n",
       "6071025  0x76068e84592753bb1e076c5320c7e3ecfe41e4da8ebe...   \n",
       "6071026  0x6efdcfde266760201767ba099c1f10f47937a8098720...   \n",
       "\n",
       "                                     Seller_address  \\\n",
       "6071020  0xac61a6ca9e4266c083c11f6ab87925bd657113da   \n",
       "6071021  0xc11c20ade395abd5aec1a6040f8ee9b5ffd6b6a6   \n",
       "6071022  0x9f37284b3a538be8eea2d401b595f44c96d39b70   \n",
       "6071023  0xeada96bf164643bdfe3e657a9f380854694a49dd   \n",
       "6071024  0x65c1b9ae4e4d8dcccfd3dc41b940840fe8570f2a   \n",
       "6071025  0xb236f00808a9f88b3117af95c881966288dfbcbb   \n",
       "6071026  0xb236f00808a9f88b3117af95c881966288dfbcbb   \n",
       "\n",
       "                   Seller_username  \\\n",
       "6071020                        NaN   \n",
       "6071021                        NaN   \n",
       "6071022                        NaN   \n",
       "6071023                    Mistcop   \n",
       "6071024  International_Megadigital   \n",
       "6071025         TheOfficialGarrett   \n",
       "6071026         TheOfficialGarrett   \n",
       "\n",
       "                                      Buyer_address Buyer_username  \\\n",
       "6071020  0xf1730ba1538cc0934c8b2bc3db630a573d154c9f            NaN   \n",
       "6071021  0x08b5d278a116665aeecf16e60f87891abbbe492a            NaN   \n",
       "6071022  0xa353401738e7ec6a4db9c0ee4c66eb5252f681c4            NaN   \n",
       "6071023  0xe2fe53f9bcb33e3e0fc65f2f627ca4eb8e958347            NaN   \n",
       "6071024  0x220d20310f52d97e353028ebd742d2c690eaf0a1  WanderlustNFT   \n",
       "6071025  0xd543a0be0684f0556786586b83f4c9fd16a4dc35      kittylord   \n",
       "6071026  0xd543a0be0684f0556786586b83f4c9fd16a4dc35      kittylord   \n",
       "\n",
       "                                               Image_url_1  \\\n",
       "6071020  https://lh3.googleusercontent.com/NYNaDSKGA5B1...   \n",
       "6071021  https://lh3.googleusercontent.com/8c75baJSPY0b...   \n",
       "6071022  https://lh3.googleusercontent.com/isSUPEsJJWpF...   \n",
       "6071023  https://lh3.googleusercontent.com/qdzZDtYHHVdi...   \n",
       "6071024  https://lh3.googleusercontent.com/SoTAV8k4UC90...   \n",
       "6071025  https://lh3.googleusercontent.com/AWwjq0cuTjHF...   \n",
       "6071026  https://lh3.googleusercontent.com/1PSAAdTKWB5p...   \n",
       "\n",
       "                                               Image_url_2  \\\n",
       "6071020  https://lh3.googleusercontent.com/lpjsH83fNiAT...   \n",
       "6071021  https://ipfsgateway.makersplace.com/ipfs/QmSmu...   \n",
       "6071022  https://ipfs.pixura.io/ipfs/QmSHxximuHUZV54pAA...   \n",
       "6071023                                                NaN   \n",
       "6071024                                                NaN   \n",
       "6071025                                                NaN   \n",
       "6071026                                                NaN   \n",
       "\n",
       "                                               Image_url_3  \\\n",
       "6071020  https://lh3.googleusercontent.com/NYNaDSKGA5B1...   \n",
       "6071021  https://lh3.googleusercontent.com/8c75baJSPY0b...   \n",
       "6071022  https://lh3.googleusercontent.com/isSUPEsJJWpF...   \n",
       "6071023  https://lh3.googleusercontent.com/qdzZDtYHHVdi...   \n",
       "6071024  https://lh3.googleusercontent.com/SoTAV8k4UC90...   \n",
       "6071025  https://lh3.googleusercontent.com/AWwjq0cuTjHF...   \n",
       "6071026  https://lh3.googleusercontent.com/1PSAAdTKWB5p...   \n",
       "\n",
       "                                               Image_url_4  Price_Crypto  \\\n",
       "6071020  https://lh3.googleusercontent.com/NYNaDSKGA5B1...      0.115308   \n",
       "6071021  https://lh3.googleusercontent.com/8c75baJSPY0b...      1.500000   \n",
       "6071022  https://lh3.googleusercontent.com/isSUPEsJJWpF...      0.500000   \n",
       "6071023  https://lh3.googleusercontent.com/qdzZDtYHHVdi...      0.050000   \n",
       "6071024  https://lh3.googleusercontent.com/SoTAV8k4UC90...      0.018500   \n",
       "6071025  https://lh3.googleusercontent.com/AWwjq0cuTjHF...      0.010000   \n",
       "6071026  https://lh3.googleusercontent.com/1PSAAdTKWB5p...      0.010000   \n",
       "\n",
       "        Crypto    Price_USD                          Name  \\\n",
       "6071020    ETH   223.169254  Comfident reptile w Incisor!   \n",
       "6071021    ETH  2903.122500                         F1AT.   \n",
       "6071022    ETH   967.707500           Pájaro Doctor 13/40   \n",
       "6071023    ETH    96.770750             Kawaii Monster #2   \n",
       "6071024    ETH    35.805177    Bishoujo Originals - #4977   \n",
       "6071025    ETH    19.354150                    Smile 0066   \n",
       "6071026    ETH    19.354150                    Smile 0023   \n",
       "\n",
       "                                               Description       Collection  \\\n",
       "6071020  Axies are digital pets, each Axie has its own ...             Axie   \n",
       "6071021                                           RIP USD.      Makersplace   \n",
       "6071022  Digital piece made by using a variety of softw...        Superrare   \n",
       "6071023                                                NaN  Kawaii-monsters   \n",
       "6071024  The original source for collectible Bishoujo h...       Moe-tokens   \n",
       "6071025  Coming to you hot!  Not Fun Tokens or (NFT's)!...   Not-fun-tokens   \n",
       "6071026  Coming to you hot!  Not Fun Tokens or (NFT's)!...   Not-fun-tokens   \n",
       "\n",
       "          Market     Datetime_updated Datetime_updated_seconds  \\\n",
       "6071020  OpenSea  2021-04-01 00:00:00      2021-04-01 00:04:49   \n",
       "6071021  OpenSea  2021-04-01 00:00:00      2021-04-01 00:03:24   \n",
       "6071022  OpenSea  2021-04-01 00:00:00      2021-04-01 00:00:52   \n",
       "6071023  OpenSea  2021-04-01 00:00:00      2021-04-01 00:00:50   \n",
       "6071024  OpenSea  2021-04-01 00:00:00      2021-04-01 00:00:51   \n",
       "6071025  OpenSea  2021-04-01 00:00:00      2021-04-01 00:00:40   \n",
       "6071026  OpenSea  2021-04-01 00:00:00      2021-04-01 00:00:40   \n",
       "\n",
       "                                            Permanent_link  \\\n",
       "6071020  https://opensea.io/assets/0xf5b0a3efb8e8e4c201...   \n",
       "6071021  https://opensea.io/assets/0x2a46f2ffd99e19a894...   \n",
       "6071022  https://opensea.io/assets/0xb932a70a57673d89f4...   \n",
       "6071023  https://opensea.io/assets/0x495f947276749ce646...   \n",
       "6071024  https://opensea.io/assets/0x495f947276749ce646...   \n",
       "6071025  https://opensea.io/assets/0x495f947276749ce646...   \n",
       "6071026  https://opensea.io/assets/0x495f947276749ce646...   \n",
       "\n",
       "                                      Unique_id_collection Collection_cleaned  \\\n",
       "6071020                                 ('Axie', '237702')               Axie   \n",
       "6071021                           ('Makersplace', '51703')              Maker   \n",
       "6071022                             ('Superrare', '16412')          Superrare   \n",
       "6071023  ('Kawaii-monsters', '1062274196422536302774639...      Kawaiimonster   \n",
       "6071024  ('Moe-tokens', '460258807127632723165921220381...           Moetoken   \n",
       "6071025  ('Not-fun-tokens', '80608753425034673252014442...        Notfuntoken   \n",
       "6071026  ('Not-fun-tokens', '80608753425034673252014442...        Notfuntoken   \n",
       "\n",
       "        Category  \n",
       "6071020    Games  \n",
       "6071021      Art  \n",
       "6071022      Art  \n",
       "6071023    Other  \n",
       "6071024    Other  \n",
       "6071025    Other  \n",
       "6071026    Other  "
      ]
     },
     "execution_count": 25,
     "metadata": {},
     "output_type": "execute_result"
    }
   ],
   "source": [
    "pd.set_option('display.max_columns', None)\n",
    "df_trades.tail(7)"
   ]
  },
  {
   "cell_type": "markdown",
   "id": "2ca92cbb-2b94-4edc-9eb3-0ab9b69ed04f",
   "metadata": {},
   "source": [
    "Summary of columns:\n",
    "\n",
    "* **Smart_contract**: string, Smart contract of the given NFT\n",
    "* **Unique_id_collection**: string, Unique ID for a given NFT\n",
    "* **Price_Crypto, Crypto, Price_USD**: np.float64, Conversion in USD is done with a daily resolution\n",
    "* **Seller_address, Seller_username, Buyer_address, Buyer_username**: strings, Addresses for sellers and buyers and (when available) their username used on the NFT marketplace\n",
    "* **Image_url_1, Image_url_2, Image_url_3, Image_url_4**: strings, Url to the digital object associate with the NFT. Given that urls may change over time, first try to download Image_url_1, then Image_url_2, and so on..\n",
    "* **Datetime_updated, Datetime_updated_seconds**: string, It identifies the time of the transaction with either a day or second resolution\n",
    "* **ID_token**: string, ID of the NFT asset within a given smart contract\n",
    "* **Transaction_hash**: string, hash of the transaction involving a NFT sale\n",
    "* **Collection**: string, It corresponds to the collection in which the NFT belongs to\n",
    "* **Collection_cleaned**: string, It removes common mispellings in the field Collection. It also uses words in Cleaning_collections.csv to smooth the names. For instance, Aavegotchi renames all collections starting with that string in Aavegotchi. Some unnamed collections are here called Miscellanea\n",
    "* **Market**: It is where data are downloaded from (so the API).\n",
    "* **Name**: string, Title of the NFT listing\n",
    "* **Description**: string, Description of the NFT listings\n",
    "* **Permanent_link**: string, A link that allows to verify the NFT authenticity (valid only for the OpenSea Market)\n",
    "* **Category**: string, Category in which the NFT belongs to. Examples are: Art, Games, and Collectible"
   ]
  },
  {
   "cell_type": "code",
   "execution_count": 89,
   "id": "163519cf-5a43-4d70-8d26-78ef2651e997",
   "metadata": {},
   "outputs": [
    {
     "data": {
      "text/plain": [
       "str"
      ]
     },
     "execution_count": 89,
     "metadata": {},
     "output_type": "execute_result"
    }
   ],
   "source": [
    "type(df_trades.tail(1)['Unique_id_collection'].values[0])"
   ]
  },
  {
   "cell_type": "markdown",
   "id": "fa422cfa-e0db-4b1c-9d7c-b546537a64c0",
   "metadata": {},
   "source": [
    "Ideas for EDA:\n",
    "* Distributions of USD Price\n",
    "* Collection: convert to some number representation\n",
    "* Split up unique id dataset\n",
    "* Collection vs Collection cleaned\n",
    "* Examine the different categories\n",
    "* What percentage of dataset is ETH\n",
    "* Should we one hot encode all of the categorical variables?"
   ]
  },
  {
   "cell_type": "code",
   "execution_count": null,
   "id": "8fe53c10-77f6-468a-8e8b-815f1c18fd20",
   "metadata": {},
   "outputs": [],
   "source": [
    "# Number of unique NFTs in dataset\n",
    "df_trades"
   ]
  },
  {
   "cell_type": "code",
   "execution_count": 44,
   "id": "e8134790-b404-4196-8ef3-a36a07866d72",
   "metadata": {},
   "outputs": [
    {
     "data": {
      "text/plain": [
       "count    6.062744e+06\n",
       "mean     1.463413e+02\n",
       "std      5.488389e+03\n",
       "min      1.514250e-16\n",
       "25%      2.277600e-01\n",
       "50%      1.426470e+00\n",
       "75%      1.385100e+01\n",
       "max      7.501893e+06\n",
       "Name: Price_USD, dtype: float64"
      ]
     },
     "execution_count": 44,
     "metadata": {},
     "output_type": "execute_result"
    }
   ],
   "source": [
    "df_trades['Price_USD'].describe()"
   ]
  },
  {
   "cell_type": "code",
   "execution_count": 54,
   "id": "080fefae-d9ab-438d-bd9d-43b10a6c081e",
   "metadata": {},
   "outputs": [
    {
     "data": {
      "text/plain": [
       "0.10      0.076950\n",
       "0.20      0.154632\n",
       "0.30      0.346450\n",
       "0.40      0.723180\n",
       "0.50      1.426470\n",
       "0.60      3.317250\n",
       "0.70      8.325456\n",
       "0.80     23.876820\n",
       "0.90     83.023239\n",
       "0.95    247.355625\n",
       "Name: Price_USD, dtype: float64"
      ]
     },
     "execution_count": 54,
     "metadata": {},
     "output_type": "execute_result"
    }
   ],
   "source": [
    "df_trades['Price_USD'].quantile([0.1, 0.2, 0.3, 0.4, 0.5, 0.6, 0.7, 0.8, 0.9, 0.95])"
   ]
  },
  {
   "cell_type": "code",
   "execution_count": 68,
   "id": "ac042905-3500-45f1-96d9-061ff4e31aec",
   "metadata": {},
   "outputs": [
    {
     "name": "stdout",
     "output_type": "stream",
     "text": [
      "There are 6283 unique collection entries and 4624 unique cleaned collection entries\n"
     ]
    }
   ],
   "source": [
    "collections_unique = df_trades['Collection'].nunique()\n",
    "cleaned_collections_unique = df_trades['Collection_cleaned'].nunique()\n",
    "print('There are', collections_unique, 'unique collection entries and', cleaned_collections_unique, 'unique cleaned collection entries')"
   ]
  },
  {
   "cell_type": "code",
   "execution_count": 62,
   "id": "ed1305e6-3805-46be-a826-8fddf74c594c",
   "metadata": {},
   "outputs": [
    {
     "data": {
      "text/plain": [
       "(array([2643014.,       0., 1472515.,       0.,  272772.,       0.,\n",
       "        1605657.,       0.,   68372.,    8697.]),\n",
       " array([0. , 0.5, 1. , 1.5, 2. , 2.5, 3. , 3.5, 4. , 4.5, 5. ]),\n",
       " <BarContainer object of 10 artists>)"
      ]
     },
     "execution_count": 62,
     "metadata": {},
     "output_type": "execute_result"
    },
    {
     "data": {
      "image/png": "[encoded data removed]",
      "text/plain": [
       "<Figure size 432x288 with 1 Axes>"
      ]
     },
     "metadata": {
      "needs_background": "light"
     },
     "output_type": "display_data"
    }
   ],
   "source": [
    "plt.hist(df_trades[\"Category\"])"
   ]
  },
  {
   "cell_type": "code",
   "execution_count": 76,
   "id": "f4dde792-98e5-468c-b709-2e9047ccfd67",
   "metadata": {},
   "outputs": [
    {
     "data": {
      "text/plain": [
       "Atomic           3185292\n",
       "OpenSea          1907262\n",
       "Cryptokitties     725400\n",
       "Godsunchained     236210\n",
       "Decentraland       16863\n",
       "Name: Market, dtype: int64"
      ]
     },
     "execution_count": 76,
     "metadata": {},
     "output_type": "execute_result"
    }
   ],
   "source": [
    "# Get an idea of the different exchanges NFT data are traded on\n",
    "\n",
    "df_trades['Market'].value_counts()"
   ]
  },
  {
   "cell_type": "code",
   "execution_count": 77,
   "id": "361aa682-b958-40d2-9fa3-447599401ce9",
   "metadata": {},
   "outputs": [
    {
     "data": {
      "text/plain": [
       "(array([ 236210.,       0.,  725400.,       0.,       0., 3185292.,\n",
       "              0.,   16863.,       0., 1907262.]),\n",
       " array([0. , 0.4, 0.8, 1.2, 1.6, 2. , 2.4, 2.8, 3.2, 3.6, 4. ]),\n",
       " <BarContainer object of 10 artists>)"
      ]
     },
     "execution_count": 77,
     "metadata": {},
     "output_type": "execute_result"
    },
    {
     "data": {
      "image/png": "[encoded data removed]",
      "text/plain": [
       "<Figure size 432x288 with 1 Axes>"
      ]
     },
     "metadata": {
      "needs_background": "light"
     },
     "output_type": "display_data"
    }
   ],
   "source": [
    "plt.hist(df_trades['Market'])"
   ]
  },
  {
   "cell_type": "code",
   "execution_count": 81,
   "id": "9fb60724-b807-496b-b626-333217efb72a",
   "metadata": {},
   "outputs": [
    {
     "name": "stdout",
     "output_type": "stream",
     "text": [
      "Godsunchained\n",
      "ETH    236210\n",
      "Name: Crypto, dtype: int64\n",
      "Cryptokitties\n",
      "ETH    725400\n",
      "Name: Crypto, dtype: int64\n",
      "Atomic\n",
      "WAX    3185292\n",
      "Name: Crypto, dtype: int64\n",
      "Decentraland\n",
      "MANA    16863\n",
      "Name: Crypto, dtype: int64\n",
      "OpenSea\n",
      "ETH      1443615\n",
      "WETH      436355\n",
      "MANA       12776\n",
      "DAI         2141\n",
      "USDC        1491\n",
      "          ...   \n",
      "eFAME          1\n",
      "LAR            1\n",
      "PXART          1\n",
      "THREE          1\n",
      "PIXIE          1\n",
      "Name: Crypto, Length: 159, dtype: int64\n"
     ]
    }
   ],
   "source": [
    "# For each market, what are the different cryptos used in that market\n",
    "\n",
    "for market in df_trades['Market'].unique():\n",
    "    print(market)\n",
    "    print(df_trades[df_trades['Market'] == market]['Crypto'].value_counts())"
   ]
  },
  {
   "cell_type": "code",
   "execution_count": 84,
   "id": "914c11b2-4ec0-4e5f-84b6-999e6e79e764",
   "metadata": {},
   "outputs": [
    {
     "data": {
      "text/plain": [
       "Smart_contract               961610\n",
       "ID_token                          0\n",
       "Transaction_hash            3185640\n",
       "Seller_address                    0\n",
       "Seller_username             4977773\n",
       "Buyer_address                     0\n",
       "Buyer_username              5178164\n",
       "Image_url_1                   54798\n",
       "Image_url_2                 1122022\n",
       "Image_url_3                 1032330\n",
       "Image_url_4                 1036942\n",
       "Price_Crypto                      0\n",
       "Crypto                            0\n",
       "Price_USD                      8283\n",
       "Name                        4219063\n",
       "Description                 4340298\n",
       "Collection                        0\n",
       "Market                            0\n",
       "Datetime_updated                  0\n",
       "Datetime_updated_seconds          0\n",
       "Permanent_link              4163765\n",
       "Unique_id_collection              0\n",
       "Collection_cleaned                0\n",
       "Category                          0\n",
       "dtype: int64"
      ]
     },
     "execution_count": 84,
     "metadata": {},
     "output_type": "execute_result"
    }
   ],
   "source": [
    "# Count of na's in dataset\n",
    "\n",
    "# Biggest questions from this:\n",
    "# 1. Why some missing Price_USD?\n",
    "# 2. Why some missing transaction hash?\n",
    "\n",
    "df_trades.isna().sum()"
   ]
  },
  {
   "cell_type": "code",
   "execution_count": 90,
   "id": "8db2ac1e-470b-4c28-98d1-59cac2677305",
   "metadata": {},
   "outputs": [
    {
     "name": "stdout",
     "output_type": "stream",
     "text": [
      "OpenSea          7935\n",
      "Cryptokitties     348\n",
      "Name: Market, dtype: int64\n"
     ]
    }
   ],
   "source": [
    "print(df_trades[df_trades['Price_USD'].isna()]['Market'].value_counts())\n",
    "# Small percentage, do we just ignore?"
   ]
  },
  {
   "cell_type": "code",
   "execution_count": null,
   "id": "820ad726-33f8-4065-bb8a-0a71eba880d3",
   "metadata": {},
   "outputs": [],
   "source": [
    "from scipy.stats import f_oneway\n",
    "\n",
    "CategoryGroupLists=df_trades.groupby('Unique_id_collection')['Price_USD'].apply(list)\n",
    " \n",
    "# Performing the ANOVA test\n",
    "# We accept the Assumption(H0) only when P-Value &gt; 0.05\n",
    "#AnovaResults = f_oneway(*CategoryGroupLists)\n",
    "#print('P-Value for Anova is: ', AnovaResults[1])\n",
    "CategoryGroupLists\n"
   ]
  },
  {
   "cell_type": "code",
   "execution_count": null,
   "id": "6222e249-0fdb-48c9-9675-0070c7bd61b3",
   "metadata": {},
   "outputs": [],
   "source": []
  }
 ],
 "metadata": {
  "kernelspec": {
   "display_name": "Python 3 (ipykernel)",
   "language": "python",
   "name": "python3"
  },
  "language_info": {
   "codemirror_mode": {
    "name": "ipython",
    "version": 3
   },
   "file_extension": ".py",
   "mimetype": "text/x-python",
   "name": "python",
   "nbconvert_exporter": "python",
   "pygments_lexer": "ipython3",
   "version": "3.9.7"
  }
 },
 "nbformat": 4,
 "nbformat_minor": 5
}
