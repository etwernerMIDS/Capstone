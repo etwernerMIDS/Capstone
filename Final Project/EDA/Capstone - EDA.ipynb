{
 "cells": [
  {
   "cell_type": "code",
   "execution_count": 1,
   "id": "fb04aa0b-c0b0-409c-a901-40df651eebb9",
   "metadata": {},
   "outputs": [],
   "source": [
    "import numpy as np\n",
    "import csv\n",
    "import pandas as pd \n",
    "import matplotlib.mlab as mlab\n",
    "import matplotlib.pyplot as plt\n",
    "import importlib\n",
    "import re\n",
    "from os import path\n",
    "import gzip\n",
    "from collections import defaultdict\n",
    "import networkx as nx\n",
    "import seaborn as sns\n",
    "from matplotlib import rcParams\n",
    "from datetime import date\n",
    "from datetime import datetime"
   ]
  },
  {
   "cell_type": "code",
   "execution_count": 2,
   "id": "52ea9717-7a1f-4ea1-a78c-e07666239f7c",
   "metadata": {},
   "outputs": [
    {
     "name": "stderr",
     "output_type": "stream",
     "text": [
      "/opt/conda/lib/python3.7/site-packages/IPython/core/interactiveshell.py:3444: DtypeWarning: Columns (0,1,2,4,6,8,9,10,14,15,20) have mixed types.Specify dtype option on import or set low_memory=False.\n",
      "  exec(code_obj, self.user_global_ns, self.user_ns)\n"
     ]
    }
   ],
   "source": [
    "df = pd.read_csv('Data_API.csv')"
   ]
  },
  {
   "cell_type": "code",
   "execution_count": 3,
   "id": "cffe0ff7-8ff0-49cd-9725-a0306b4f496e",
   "metadata": {},
   "outputs": [
    {
     "data": {
      "text/html": [
       "<div>\n",
       "<style scoped>\n",
       "    .dataframe tbody tr th:only-of-type {\n",
       "        vertical-align: middle;\n",
       "    }\n",
       "\n",
       "    .dataframe tbody tr th {\n",
       "        vertical-align: top;\n",
       "    }\n",
       "\n",
       "    .dataframe thead th {\n",
       "        text-align: right;\n",
       "    }\n",
       "</style>\n",
       "<table border=\"1\" class=\"dataframe\">\n",
       "  <thead>\n",
       "    <tr style=\"text-align: right;\">\n",
       "      <th></th>\n",
       "      <th>Smart_contract</th>\n",
       "      <th>ID_token</th>\n",
       "      <th>Transaction_hash</th>\n",
       "      <th>Seller_address</th>\n",
       "      <th>Seller_username</th>\n",
       "      <th>Buyer_address</th>\n",
       "      <th>Buyer_username</th>\n",
       "      <th>Image_url_1</th>\n",
       "      <th>Image_url_2</th>\n",
       "      <th>Image_url_3</th>\n",
       "      <th>...</th>\n",
       "      <th>Name</th>\n",
       "      <th>Description</th>\n",
       "      <th>Collection</th>\n",
       "      <th>Market</th>\n",
       "      <th>Datetime_updated</th>\n",
       "      <th>Datetime_updated_seconds</th>\n",
       "      <th>Permanent_link</th>\n",
       "      <th>Unique_id_collection</th>\n",
       "      <th>Collection_cleaned</th>\n",
       "      <th>Category</th>\n",
       "    </tr>\n",
       "  </thead>\n",
       "  <tbody>\n",
       "    <tr>\n",
       "      <th>0</th>\n",
       "      <td>NaN</td>\n",
       "      <td>87094722.0</td>\n",
       "      <td>0xed9ff1c311a611e5c457ce0a49bbbb7ed55efca98842...</td>\n",
       "      <td>0x76481caa104b5f6bccb540dae4cefaf1c398ebea</td>\n",
       "      <td>NaN</td>\n",
       "      <td>0xe0fb7622091e3d9ef9b438471b10b9ea88c7cf6b</td>\n",
       "      <td>NaN</td>\n",
       "      <td>https://card.godsunchained.com/?id=33&amp;q=4</td>\n",
       "      <td>NaN</td>\n",
       "      <td>NaN</td>\n",
       "      <td>...</td>\n",
       "      <td>NaN</td>\n",
       "      <td>NaN</td>\n",
       "      <td>Godsunchained</td>\n",
       "      <td>Godsunchained</td>\n",
       "      <td>2019-11-30 00:00:00</td>\n",
       "      <td>2019-11-30 23:59:33</td>\n",
       "      <td>NaN</td>\n",
       "      <td>('Godsunchained', '87094722.0')</td>\n",
       "      <td>Godsunchained</td>\n",
       "      <td>Games</td>\n",
       "    </tr>\n",
       "    <tr>\n",
       "      <th>1</th>\n",
       "      <td>NaN</td>\n",
       "      <td>73044643.0</td>\n",
       "      <td>0xbc8412594ffa7382e8306215ece5b4e041fc641b1813...</td>\n",
       "      <td>0x76481caa104b5f6bccb540dae4cefaf1c398ebea</td>\n",
       "      <td>NaN</td>\n",
       "      <td>0x2c00d05ff7ffe93d77145dfe12aa56e622ae6f40</td>\n",
       "      <td>NaN</td>\n",
       "      <td>https://card.godsunchained.com/?id=79&amp;q=4</td>\n",
       "      <td>NaN</td>\n",
       "      <td>NaN</td>\n",
       "      <td>...</td>\n",
       "      <td>NaN</td>\n",
       "      <td>NaN</td>\n",
       "      <td>Godsunchained</td>\n",
       "      <td>Godsunchained</td>\n",
       "      <td>2019-11-30 00:00:00</td>\n",
       "      <td>2019-11-30 23:59:33</td>\n",
       "      <td>NaN</td>\n",
       "      <td>('Godsunchained', '73044643.0')</td>\n",
       "      <td>Godsunchained</td>\n",
       "      <td>Games</td>\n",
       "    </tr>\n",
       "    <tr>\n",
       "      <th>2</th>\n",
       "      <td>NaN</td>\n",
       "      <td>17107482.0</td>\n",
       "      <td>0x92672baf5e9e23de230dee8e57ddf443ab6d5a336341...</td>\n",
       "      <td>0x76481caa104b5f6bccb540dae4cefaf1c398ebea</td>\n",
       "      <td>NaN</td>\n",
       "      <td>0xe0fb7622091e3d9ef9b438471b10b9ea88c7cf6b</td>\n",
       "      <td>NaN</td>\n",
       "      <td>https://card.godsunchained.com/?id=33&amp;q=4</td>\n",
       "      <td>NaN</td>\n",
       "      <td>NaN</td>\n",
       "      <td>...</td>\n",
       "      <td>NaN</td>\n",
       "      <td>NaN</td>\n",
       "      <td>Godsunchained</td>\n",
       "      <td>Godsunchained</td>\n",
       "      <td>2019-11-30 00:00:00</td>\n",
       "      <td>2019-11-30 23:59:33</td>\n",
       "      <td>NaN</td>\n",
       "      <td>('Godsunchained', '17107482.0')</td>\n",
       "      <td>Godsunchained</td>\n",
       "      <td>Games</td>\n",
       "    </tr>\n",
       "    <tr>\n",
       "      <th>3</th>\n",
       "      <td>NaN</td>\n",
       "      <td>82230857.0</td>\n",
       "      <td>0x3d157249e3083622c2d756f07a05caa3a76687288b32...</td>\n",
       "      <td>0x76481caa104b5f6bccb540dae4cefaf1c398ebea</td>\n",
       "      <td>NaN</td>\n",
       "      <td>0x2c00d05ff7ffe93d77145dfe12aa56e622ae6f40</td>\n",
       "      <td>NaN</td>\n",
       "      <td>https://card.godsunchained.com/?id=227&amp;q=4</td>\n",
       "      <td>NaN</td>\n",
       "      <td>NaN</td>\n",
       "      <td>...</td>\n",
       "      <td>NaN</td>\n",
       "      <td>NaN</td>\n",
       "      <td>Godsunchained</td>\n",
       "      <td>Godsunchained</td>\n",
       "      <td>2019-11-30 00:00:00</td>\n",
       "      <td>2019-11-30 23:59:33</td>\n",
       "      <td>NaN</td>\n",
       "      <td>('Godsunchained', '82230857.0')</td>\n",
       "      <td>Godsunchained</td>\n",
       "      <td>Games</td>\n",
       "    </tr>\n",
       "    <tr>\n",
       "      <th>4</th>\n",
       "      <td>NaN</td>\n",
       "      <td>40925443.0</td>\n",
       "      <td>0xa892b3569dc8e6b3c7db93aade62372637ebbc61fb63...</td>\n",
       "      <td>0x76481caa104b5f6bccb540dae4cefaf1c398ebea</td>\n",
       "      <td>NaN</td>\n",
       "      <td>0x2c00d05ff7ffe93d77145dfe12aa56e622ae6f40</td>\n",
       "      <td>NaN</td>\n",
       "      <td>https://card.godsunchained.com/?id=62&amp;q=4</td>\n",
       "      <td>NaN</td>\n",
       "      <td>NaN</td>\n",
       "      <td>...</td>\n",
       "      <td>NaN</td>\n",
       "      <td>NaN</td>\n",
       "      <td>Godsunchained</td>\n",
       "      <td>Godsunchained</td>\n",
       "      <td>2019-11-30 00:00:00</td>\n",
       "      <td>2019-11-30 23:58:44</td>\n",
       "      <td>NaN</td>\n",
       "      <td>('Godsunchained', '40925443.0')</td>\n",
       "      <td>Godsunchained</td>\n",
       "      <td>Games</td>\n",
       "    </tr>\n",
       "    <tr>\n",
       "      <th>5</th>\n",
       "      <td>NaN</td>\n",
       "      <td>43107083.0</td>\n",
       "      <td>0x986ecc59dc28e84ad987a52e4a4fdade67d1fbb5f81b...</td>\n",
       "      <td>0x76481caa104b5f6bccb540dae4cefaf1c398ebea</td>\n",
       "      <td>NaN</td>\n",
       "      <td>0x2c00d05ff7ffe93d77145dfe12aa56e622ae6f40</td>\n",
       "      <td>NaN</td>\n",
       "      <td>https://card.godsunchained.com/?id=116&amp;q=4</td>\n",
       "      <td>NaN</td>\n",
       "      <td>NaN</td>\n",
       "      <td>...</td>\n",
       "      <td>NaN</td>\n",
       "      <td>NaN</td>\n",
       "      <td>Godsunchained</td>\n",
       "      <td>Godsunchained</td>\n",
       "      <td>2019-11-30 00:00:00</td>\n",
       "      <td>2019-11-30 23:58:44</td>\n",
       "      <td>NaN</td>\n",
       "      <td>('Godsunchained', '43107083.0')</td>\n",
       "      <td>Godsunchained</td>\n",
       "      <td>Games</td>\n",
       "    </tr>\n",
       "    <tr>\n",
       "      <th>6</th>\n",
       "      <td>NaN</td>\n",
       "      <td>7713824.0</td>\n",
       "      <td>0x72c1bfec2a020b5cb55ee3fc2f8ae1e66568ec881f62...</td>\n",
       "      <td>0x76481caa104b5f6bccb540dae4cefaf1c398ebea</td>\n",
       "      <td>NaN</td>\n",
       "      <td>0x2c00d05ff7ffe93d77145dfe12aa56e622ae6f40</td>\n",
       "      <td>NaN</td>\n",
       "      <td>https://card.godsunchained.com/?id=190&amp;q=4</td>\n",
       "      <td>NaN</td>\n",
       "      <td>NaN</td>\n",
       "      <td>...</td>\n",
       "      <td>NaN</td>\n",
       "      <td>NaN</td>\n",
       "      <td>Godsunchained</td>\n",
       "      <td>Godsunchained</td>\n",
       "      <td>2019-11-30 00:00:00</td>\n",
       "      <td>2019-11-30 23:58:44</td>\n",
       "      <td>NaN</td>\n",
       "      <td>('Godsunchained', '7713824.0')</td>\n",
       "      <td>Godsunchained</td>\n",
       "      <td>Games</td>\n",
       "    </tr>\n",
       "    <tr>\n",
       "      <th>7</th>\n",
       "      <td>NaN</td>\n",
       "      <td>45951791.0</td>\n",
       "      <td>0x34baab28115bdadbcbc50846220060bb8e516f754c3b...</td>\n",
       "      <td>0x76481caa104b5f6bccb540dae4cefaf1c398ebea</td>\n",
       "      <td>NaN</td>\n",
       "      <td>0x2c00d05ff7ffe93d77145dfe12aa56e622ae6f40</td>\n",
       "      <td>NaN</td>\n",
       "      <td>https://card.godsunchained.com/?id=173&amp;q=4</td>\n",
       "      <td>NaN</td>\n",
       "      <td>NaN</td>\n",
       "      <td>...</td>\n",
       "      <td>NaN</td>\n",
       "      <td>NaN</td>\n",
       "      <td>Godsunchained</td>\n",
       "      <td>Godsunchained</td>\n",
       "      <td>2019-11-30 00:00:00</td>\n",
       "      <td>2019-11-30 23:58:44</td>\n",
       "      <td>NaN</td>\n",
       "      <td>('Godsunchained', '45951791.0')</td>\n",
       "      <td>Godsunchained</td>\n",
       "      <td>Games</td>\n",
       "    </tr>\n",
       "    <tr>\n",
       "      <th>8</th>\n",
       "      <td>NaN</td>\n",
       "      <td>5400581.0</td>\n",
       "      <td>0xf52ba58317f3ab62fb43da3e9d417fe4fa88bff86d9c...</td>\n",
       "      <td>0x76481caa104b5f6bccb540dae4cefaf1c398ebea</td>\n",
       "      <td>NaN</td>\n",
       "      <td>0x2c5968ee5ce21ad7324c97014fcb99f87f7fec6f</td>\n",
       "      <td>NaN</td>\n",
       "      <td>https://card.godsunchained.com/?id=27&amp;q=4</td>\n",
       "      <td>NaN</td>\n",
       "      <td>NaN</td>\n",
       "      <td>...</td>\n",
       "      <td>NaN</td>\n",
       "      <td>NaN</td>\n",
       "      <td>Godsunchained</td>\n",
       "      <td>Godsunchained</td>\n",
       "      <td>2019-11-30 00:00:00</td>\n",
       "      <td>2019-11-30 23:58:28</td>\n",
       "      <td>NaN</td>\n",
       "      <td>('Godsunchained', '5400581.0')</td>\n",
       "      <td>Godsunchained</td>\n",
       "      <td>Games</td>\n",
       "    </tr>\n",
       "    <tr>\n",
       "      <th>9</th>\n",
       "      <td>NaN</td>\n",
       "      <td>117891743.0</td>\n",
       "      <td>0xb70b159f02200125a258726694299931a8c69651053d...</td>\n",
       "      <td>0x76481caa104b5f6bccb540dae4cefaf1c398ebea</td>\n",
       "      <td>NaN</td>\n",
       "      <td>0xe0fb7622091e3d9ef9b438471b10b9ea88c7cf6b</td>\n",
       "      <td>NaN</td>\n",
       "      <td>https://card.godsunchained.com/?id=33&amp;q=4</td>\n",
       "      <td>NaN</td>\n",
       "      <td>NaN</td>\n",
       "      <td>...</td>\n",
       "      <td>NaN</td>\n",
       "      <td>NaN</td>\n",
       "      <td>Godsunchained</td>\n",
       "      <td>Godsunchained</td>\n",
       "      <td>2019-11-30 00:00:00</td>\n",
       "      <td>2019-11-30 23:57:50</td>\n",
       "      <td>NaN</td>\n",
       "      <td>('Godsunchained', '117891743.0')</td>\n",
       "      <td>Godsunchained</td>\n",
       "      <td>Games</td>\n",
       "    </tr>\n",
       "  </tbody>\n",
       "</table>\n",
       "<p>10 rows × 24 columns</p>\n",
       "</div>"
      ],
      "text/plain": [
       "  Smart_contract     ID_token  \\\n",
       "0            NaN   87094722.0   \n",
       "1            NaN   73044643.0   \n",
       "2            NaN   17107482.0   \n",
       "3            NaN   82230857.0   \n",
       "4            NaN   40925443.0   \n",
       "5            NaN   43107083.0   \n",
       "6            NaN    7713824.0   \n",
       "7            NaN   45951791.0   \n",
       "8            NaN    5400581.0   \n",
       "9            NaN  117891743.0   \n",
       "\n",
       "                                    Transaction_hash  \\\n",
       "0  0xed9ff1c311a611e5c457ce0a49bbbb7ed55efca98842...   \n",
       "1  0xbc8412594ffa7382e8306215ece5b4e041fc641b1813...   \n",
       "2  0x92672baf5e9e23de230dee8e57ddf443ab6d5a336341...   \n",
       "3  0x3d157249e3083622c2d756f07a05caa3a76687288b32...   \n",
       "4  0xa892b3569dc8e6b3c7db93aade62372637ebbc61fb63...   \n",
       "5  0x986ecc59dc28e84ad987a52e4a4fdade67d1fbb5f81b...   \n",
       "6  0x72c1bfec2a020b5cb55ee3fc2f8ae1e66568ec881f62...   \n",
       "7  0x34baab28115bdadbcbc50846220060bb8e516f754c3b...   \n",
       "8  0xf52ba58317f3ab62fb43da3e9d417fe4fa88bff86d9c...   \n",
       "9  0xb70b159f02200125a258726694299931a8c69651053d...   \n",
       "\n",
       "                               Seller_address Seller_username  \\\n",
       "0  0x76481caa104b5f6bccb540dae4cefaf1c398ebea             NaN   \n",
       "1  0x76481caa104b5f6bccb540dae4cefaf1c398ebea             NaN   \n",
       "2  0x76481caa104b5f6bccb540dae4cefaf1c398ebea             NaN   \n",
       "3  0x76481caa104b5f6bccb540dae4cefaf1c398ebea             NaN   \n",
       "4  0x76481caa104b5f6bccb540dae4cefaf1c398ebea             NaN   \n",
       "5  0x76481caa104b5f6bccb540dae4cefaf1c398ebea             NaN   \n",
       "6  0x76481caa104b5f6bccb540dae4cefaf1c398ebea             NaN   \n",
       "7  0x76481caa104b5f6bccb540dae4cefaf1c398ebea             NaN   \n",
       "8  0x76481caa104b5f6bccb540dae4cefaf1c398ebea             NaN   \n",
       "9  0x76481caa104b5f6bccb540dae4cefaf1c398ebea             NaN   \n",
       "\n",
       "                                Buyer_address Buyer_username  \\\n",
       "0  0xe0fb7622091e3d9ef9b438471b10b9ea88c7cf6b            NaN   \n",
       "1  0x2c00d05ff7ffe93d77145dfe12aa56e622ae6f40            NaN   \n",
       "2  0xe0fb7622091e3d9ef9b438471b10b9ea88c7cf6b            NaN   \n",
       "3  0x2c00d05ff7ffe93d77145dfe12aa56e622ae6f40            NaN   \n",
       "4  0x2c00d05ff7ffe93d77145dfe12aa56e622ae6f40            NaN   \n",
       "5  0x2c00d05ff7ffe93d77145dfe12aa56e622ae6f40            NaN   \n",
       "6  0x2c00d05ff7ffe93d77145dfe12aa56e622ae6f40            NaN   \n",
       "7  0x2c00d05ff7ffe93d77145dfe12aa56e622ae6f40            NaN   \n",
       "8  0x2c5968ee5ce21ad7324c97014fcb99f87f7fec6f            NaN   \n",
       "9  0xe0fb7622091e3d9ef9b438471b10b9ea88c7cf6b            NaN   \n",
       "\n",
       "                                  Image_url_1 Image_url_2 Image_url_3  ...  \\\n",
       "0   https://card.godsunchained.com/?id=33&q=4         NaN         NaN  ...   \n",
       "1   https://card.godsunchained.com/?id=79&q=4         NaN         NaN  ...   \n",
       "2   https://card.godsunchained.com/?id=33&q=4         NaN         NaN  ...   \n",
       "3  https://card.godsunchained.com/?id=227&q=4         NaN         NaN  ...   \n",
       "4   https://card.godsunchained.com/?id=62&q=4         NaN         NaN  ...   \n",
       "5  https://card.godsunchained.com/?id=116&q=4         NaN         NaN  ...   \n",
       "6  https://card.godsunchained.com/?id=190&q=4         NaN         NaN  ...   \n",
       "7  https://card.godsunchained.com/?id=173&q=4         NaN         NaN  ...   \n",
       "8   https://card.godsunchained.com/?id=27&q=4         NaN         NaN  ...   \n",
       "9   https://card.godsunchained.com/?id=33&q=4         NaN         NaN  ...   \n",
       "\n",
       "  Name  Description     Collection         Market     Datetime_updated  \\\n",
       "0  NaN          NaN  Godsunchained  Godsunchained  2019-11-30 00:00:00   \n",
       "1  NaN          NaN  Godsunchained  Godsunchained  2019-11-30 00:00:00   \n",
       "2  NaN          NaN  Godsunchained  Godsunchained  2019-11-30 00:00:00   \n",
       "3  NaN          NaN  Godsunchained  Godsunchained  2019-11-30 00:00:00   \n",
       "4  NaN          NaN  Godsunchained  Godsunchained  2019-11-30 00:00:00   \n",
       "5  NaN          NaN  Godsunchained  Godsunchained  2019-11-30 00:00:00   \n",
       "6  NaN          NaN  Godsunchained  Godsunchained  2019-11-30 00:00:00   \n",
       "7  NaN          NaN  Godsunchained  Godsunchained  2019-11-30 00:00:00   \n",
       "8  NaN          NaN  Godsunchained  Godsunchained  2019-11-30 00:00:00   \n",
       "9  NaN          NaN  Godsunchained  Godsunchained  2019-11-30 00:00:00   \n",
       "\n",
       "  Datetime_updated_seconds Permanent_link              Unique_id_collection  \\\n",
       "0      2019-11-30 23:59:33            NaN   ('Godsunchained', '87094722.0')   \n",
       "1      2019-11-30 23:59:33            NaN   ('Godsunchained', '73044643.0')   \n",
       "2      2019-11-30 23:59:33            NaN   ('Godsunchained', '17107482.0')   \n",
       "3      2019-11-30 23:59:33            NaN   ('Godsunchained', '82230857.0')   \n",
       "4      2019-11-30 23:58:44            NaN   ('Godsunchained', '40925443.0')   \n",
       "5      2019-11-30 23:58:44            NaN   ('Godsunchained', '43107083.0')   \n",
       "6      2019-11-30 23:58:44            NaN    ('Godsunchained', '7713824.0')   \n",
       "7      2019-11-30 23:58:44            NaN   ('Godsunchained', '45951791.0')   \n",
       "8      2019-11-30 23:58:28            NaN    ('Godsunchained', '5400581.0')   \n",
       "9      2019-11-30 23:57:50            NaN  ('Godsunchained', '117891743.0')   \n",
       "\n",
       "  Collection_cleaned Category  \n",
       "0      Godsunchained    Games  \n",
       "1      Godsunchained    Games  \n",
       "2      Godsunchained    Games  \n",
       "3      Godsunchained    Games  \n",
       "4      Godsunchained    Games  \n",
       "5      Godsunchained    Games  \n",
       "6      Godsunchained    Games  \n",
       "7      Godsunchained    Games  \n",
       "8      Godsunchained    Games  \n",
       "9      Godsunchained    Games  \n",
       "\n",
       "[10 rows x 24 columns]"
      ]
     },
     "execution_count": 3,
     "metadata": {},
     "output_type": "execute_result"
    }
   ],
   "source": [
    "df.head(10)"
   ]
  },
  {
   "cell_type": "code",
   "execution_count": 4,
   "id": "29e1808d-7f3e-4d74-a7a2-9e7f63b11e29",
   "metadata": {},
   "outputs": [
    {
     "data": {
      "text/html": [
       "<div>\n",
       "<style scoped>\n",
       "    .dataframe tbody tr th:only-of-type {\n",
       "        vertical-align: middle;\n",
       "    }\n",
       "\n",
       "    .dataframe tbody tr th {\n",
       "        vertical-align: top;\n",
       "    }\n",
       "\n",
       "    .dataframe thead th {\n",
       "        text-align: right;\n",
       "    }\n",
       "</style>\n",
       "<table border=\"1\" class=\"dataframe\">\n",
       "  <thead>\n",
       "    <tr style=\"text-align: right;\">\n",
       "      <th></th>\n",
       "      <th>Smart_contract</th>\n",
       "      <th>ID_token</th>\n",
       "      <th>Transaction_hash</th>\n",
       "      <th>Seller_address</th>\n",
       "      <th>Seller_username</th>\n",
       "      <th>Buyer_address</th>\n",
       "      <th>Buyer_username</th>\n",
       "      <th>Image_url_1</th>\n",
       "      <th>Image_url_2</th>\n",
       "      <th>Image_url_3</th>\n",
       "      <th>...</th>\n",
       "      <th>Name</th>\n",
       "      <th>Description</th>\n",
       "      <th>Collection</th>\n",
       "      <th>Market</th>\n",
       "      <th>Datetime_updated</th>\n",
       "      <th>Datetime_updated_seconds</th>\n",
       "      <th>Permanent_link</th>\n",
       "      <th>Unique_id_collection</th>\n",
       "      <th>Collection_cleaned</th>\n",
       "      <th>Category</th>\n",
       "    </tr>\n",
       "  </thead>\n",
       "  <tbody>\n",
       "    <tr>\n",
       "      <th>4495559</th>\n",
       "      <td>0x06012c8cf97bead5deae237070f9587f8e7a266d</td>\n",
       "      <td>973739</td>\n",
       "      <td>0xb96d97cb0800295a0f62b6d1897a39b4794ac3ef1559...</td>\n",
       "      <td>0x4fabda075e15e9245ed7cfb5db398b4683bfcf54</td>\n",
       "      <td>0x4FabDA</td>\n",
       "      <td>0x0aa9e616a097627b71e499e5c464e294d15e26aa</td>\n",
       "      <td>Merlion</td>\n",
       "      <td>https://storage.opensea.io/0x06012c8cf97bead5d...</td>\n",
       "      <td>https://img.cryptokitties.co/0x06012c8cf97bead...</td>\n",
       "      <td>https://storage.opensea.io/0x06012c8cf97bead5d...</td>\n",
       "      <td>...</td>\n",
       "      <td>🎗 Common Gen 1 Mewt</td>\n",
       "      <td>Namaste. I'm 🎗 Common Gen 1 Mewt. I feel like ...</td>\n",
       "      <td>Cryptokitties</td>\n",
       "      <td>OpenSea</td>\n",
       "      <td>2019-06-07 00:00:00</td>\n",
       "      <td>2019-06-07 01:00:48</td>\n",
       "      <td>https://opensea.io/assets/0x06012c8cf97bead5de...</td>\n",
       "      <td>('Cryptokitties', '973739')</td>\n",
       "      <td>Cryptokittie</td>\n",
       "      <td>Art</td>\n",
       "    </tr>\n",
       "    <tr>\n",
       "      <th>4495560</th>\n",
       "      <td>0x31af195db332bc9203d758c74df5a5c5e597cdb7</td>\n",
       "      <td>15905</td>\n",
       "      <td>0xf6759f042276ec3394904e8f57f0bee484867add9b97...</td>\n",
       "      <td>0x1e0a8bcab64489766cd96f3e29d91f1717d168a2</td>\n",
       "      <td>0x1e0a8bcab64489766cd96f3e29d91f1717d168a2</td>\n",
       "      <td>0x69a67822df2801f4a7cdd419f5e6585bbf8db4f4</td>\n",
       "      <td>jt</td>\n",
       "      <td>https://storage.opensea.io/0x31af195db332bc920...</td>\n",
       "      <td>https://cryptoassault.io/units/unit_18.png</td>\n",
       "      <td>https://storage.opensea.io/0x31af195db332bc920...</td>\n",
       "      <td>...</td>\n",
       "      <td>Common Falcon #15905</td>\n",
       "      <td>Strong against helis &amp; tanks\\n\\nWeak against m...</td>\n",
       "      <td>Cryptoassault</td>\n",
       "      <td>OpenSea</td>\n",
       "      <td>2019-06-07 00:00:00</td>\n",
       "      <td>2019-06-07 00:59:26</td>\n",
       "      <td>https://opensea.io/assets/0x31af195db332bc9203...</td>\n",
       "      <td>('Cryptoassault', '15905')</td>\n",
       "      <td>Cryptoassault</td>\n",
       "      <td>Other</td>\n",
       "    </tr>\n",
       "    <tr>\n",
       "      <th>4495561</th>\n",
       "      <td>0xd73be539d6b2076bab83ca6ba62dfe189abc6bbe</td>\n",
       "      <td>75307</td>\n",
       "      <td>0x94778873024077f1909475d7edbdf1d2a79bb0fc40f1...</td>\n",
       "      <td>0x80e7e06f096380dd0d3f9cec4fdece370db4cdbd</td>\n",
       "      <td>Sotech</td>\n",
       "      <td>0xcc7cf01aa54726245764bbd9a53e896520f22ef6</td>\n",
       "      <td>chronor</td>\n",
       "      <td>https://storage.opensea.io/0xd73be539d6b2076ba...</td>\n",
       "      <td>https://blockchaincuties.co/rest/svga/13/75307...</td>\n",
       "      <td>https://blockchaincuties.co/rest/svga/13/75307...</td>\n",
       "      <td>...</td>\n",
       "      <td>Good Life</td>\n",
       "      <td>NaN</td>\n",
       "      <td>Blockchaincuties</td>\n",
       "      <td>OpenSea</td>\n",
       "      <td>2019-06-07 00:00:00</td>\n",
       "      <td>2019-06-07 00:58:33</td>\n",
       "      <td>https://opensea.io/assets/0xd73be539d6b2076bab...</td>\n",
       "      <td>('Blockchaincuties', '75307')</td>\n",
       "      <td>Block</td>\n",
       "      <td>Collectible</td>\n",
       "    </tr>\n",
       "    <tr>\n",
       "      <th>4495562</th>\n",
       "      <td>0x1276dce965ada590e42d62b3953ddc1ddceb0392</td>\n",
       "      <td>33155</td>\n",
       "      <td>0xb03e7da17461ecfe0c25d33af92fd0a6d37567ca9d19...</td>\n",
       "      <td>0x02d388e416a977b09e31b36aeb7ead15248bc852</td>\n",
       "      <td>Discordia</td>\n",
       "      <td>0xdf0635793e91d4f8e7426dbd9ed08471186f428d</td>\n",
       "      <td>WalletTest1</td>\n",
       "      <td>https://storage.opensea.io/0x1276dce965ada590e...</td>\n",
       "      <td>https://s3.amazonaws.com/neon-district-founder...</td>\n",
       "      <td>https://storage.opensea.io/0x1276dce965ada590e...</td>\n",
       "      <td>...</td>\n",
       "      <td>Pistol</td>\n",
       "      <td>NaN</td>\n",
       "      <td>Neon-district</td>\n",
       "      <td>OpenSea</td>\n",
       "      <td>2019-06-07 00:00:00</td>\n",
       "      <td>2019-06-07 00:57:25</td>\n",
       "      <td>https://opensea.io/assets/0x1276dce965ada590e4...</td>\n",
       "      <td>('Neon-district', '33155')</td>\n",
       "      <td>Neon</td>\n",
       "      <td>Games</td>\n",
       "    </tr>\n",
       "    <tr>\n",
       "      <th>4495563</th>\n",
       "      <td>0x06012c8cf97bead5deae237070f9587f8e7a266d</td>\n",
       "      <td>1538764</td>\n",
       "      <td>0xa91ae19b93c288d3cf0ab3ced42a2485586f999e5c82...</td>\n",
       "      <td>0x4fabda075e15e9245ed7cfb5db398b4683bfcf54</td>\n",
       "      <td>0x4FabDA</td>\n",
       "      <td>0x491fd53e5e0d8b4a5f28d008856060cda5380aaf</td>\n",
       "      <td>jonnyrevolution</td>\n",
       "      <td>https://lh3.googleusercontent.com/QUlE6jFq6dRY...</td>\n",
       "      <td>https://img.cryptokitties.co/0x06012c8cf97bead...</td>\n",
       "      <td>https://lh3.googleusercontent.com/QUlE6jFq6dRY...</td>\n",
       "      <td>...</td>\n",
       "      <td>🂡 Kotkasi 🂡</td>\n",
       "      <td>Welcome, I'm 🂡 Kotkasi 🂡. Wait! No, let me sta...</td>\n",
       "      <td>Cryptokitties</td>\n",
       "      <td>OpenSea</td>\n",
       "      <td>2019-06-07 00:00:00</td>\n",
       "      <td>2019-06-07 00:54:53</td>\n",
       "      <td>https://opensea.io/assets/0x06012c8cf97bead5de...</td>\n",
       "      <td>('Cryptokitties', '1538764')</td>\n",
       "      <td>Cryptokittie</td>\n",
       "      <td>Art</td>\n",
       "    </tr>\n",
       "    <tr>\n",
       "      <th>4495564</th>\n",
       "      <td>0xdceaf1652a131f32a821468dc03a92df0edd86ea</td>\n",
       "      <td>30030096</td>\n",
       "      <td>0x8611ff334af847630b47b7067d97994765a70932121c...</td>\n",
       "      <td>0xcc0b13b539c8c08817868a9855e40ff7fb8df92d</td>\n",
       "      <td>sukiyakiman</td>\n",
       "      <td>0x8cb09026212c7bf2e906bb8248ad5826bd55e35b</td>\n",
       "      <td>NaN</td>\n",
       "      <td>https://lh3.googleusercontent.com/-bv5Qhhs3EpZ...</td>\n",
       "      <td>https://www.mycryptoheroes.net/images/extensio...</td>\n",
       "      <td>https://lh3.googleusercontent.com/-bv5Qhhs3EpZ...</td>\n",
       "      <td>...</td>\n",
       "      <td>MCH Extension: #30030096 Lv.80</td>\n",
       "      <td>Extensions are unique weapons, originated from...</td>\n",
       "      <td>Mycryptoheroes</td>\n",
       "      <td>OpenSea</td>\n",
       "      <td>2019-06-07 00:00:00</td>\n",
       "      <td>2019-06-07 00:54:41</td>\n",
       "      <td>https://opensea.io/assets/0xdceaf1652a131f32a8...</td>\n",
       "      <td>('Mycryptoheroes', '30030096')</td>\n",
       "      <td>Mycrypto</td>\n",
       "      <td>Games</td>\n",
       "    </tr>\n",
       "    <tr>\n",
       "      <th>4495565</th>\n",
       "      <td>0x31af195db332bc9203d758c74df5a5c5e597cdb7</td>\n",
       "      <td>20455</td>\n",
       "      <td>0xec8616978e73a31dcf5c73720110c86b970ffde3e3ea...</td>\n",
       "      <td>0x1e0a8bcab64489766cd96f3e29d91f1717d168a2</td>\n",
       "      <td>0x1e0a8bcab64489766cd96f3e29d91f1717d168a2</td>\n",
       "      <td>0x69a67822df2801f4a7cdd419f5e6585bbf8db4f4</td>\n",
       "      <td>jt</td>\n",
       "      <td>https://storage.opensea.io/0x31af195db332bc920...</td>\n",
       "      <td>https://cryptoassault.io/units/unit_24.png</td>\n",
       "      <td>https://storage.opensea.io/0x31af195db332bc920...</td>\n",
       "      <td>...</td>\n",
       "      <td>Common Chieftain #20455</td>\n",
       "      <td>Strong against tanks &amp; trucks\\n\\nWeak against ...</td>\n",
       "      <td>Cryptoassault</td>\n",
       "      <td>OpenSea</td>\n",
       "      <td>2019-06-07 00:00:00</td>\n",
       "      <td>2019-06-07 00:53:04</td>\n",
       "      <td>https://opensea.io/assets/0x31af195db332bc9203...</td>\n",
       "      <td>('Cryptoassault', '20455')</td>\n",
       "      <td>Cryptoassault</td>\n",
       "      <td>Other</td>\n",
       "    </tr>\n",
       "    <tr>\n",
       "      <th>4495566</th>\n",
       "      <td>0xdceaf1652a131f32a821468dc03a92df0edd86ea</td>\n",
       "      <td>30030712</td>\n",
       "      <td>0x26620ea2d403330949a732d0a14f7e5ecaf480e07d7d...</td>\n",
       "      <td>0x939ce144fac867f0d79c141bafcf4dd499c476f3</td>\n",
       "      <td>Pewpers</td>\n",
       "      <td>0x8cb09026212c7bf2e906bb8248ad5826bd55e35b</td>\n",
       "      <td>NaN</td>\n",
       "      <td>https://lh3.googleusercontent.com/-bv5Qhhs3EpZ...</td>\n",
       "      <td>https://www.mycryptoheroes.net/images/extensio...</td>\n",
       "      <td>https://lh3.googleusercontent.com/-bv5Qhhs3EpZ...</td>\n",
       "      <td>...</td>\n",
       "      <td>MCH Extension: #30030712 Lv.80</td>\n",
       "      <td>Extensions are unique weapons, originated from...</td>\n",
       "      <td>Mycryptoheroes</td>\n",
       "      <td>OpenSea</td>\n",
       "      <td>2019-06-07 00:00:00</td>\n",
       "      <td>2019-06-07 00:50:12</td>\n",
       "      <td>https://opensea.io/assets/0xdceaf1652a131f32a8...</td>\n",
       "      <td>('Mycryptoheroes', '30030712')</td>\n",
       "      <td>Mycrypto</td>\n",
       "      <td>Games</td>\n",
       "    </tr>\n",
       "    <tr>\n",
       "      <th>4495567</th>\n",
       "      <td>0x79986af15539de2db9a5086382daeda917a9cf0c</td>\n",
       "      <td>2992</td>\n",
       "      <td>0x7a7a3c9d15f56ec02999e4edf06a38e56d2cfbea3086...</td>\n",
       "      <td>0x2d891ed45c4c3eab978513df4b92a35cf131d2e2</td>\n",
       "      <td>bnolan</td>\n",
       "      <td>0x4595ff64328faf80a8cf0d52355639984b6af23c</td>\n",
       "      <td>RedBear</td>\n",
       "      <td>https://lh3.googleusercontent.com/hIAKwmRdDtDu...</td>\n",
       "      <td>https://map.cryptovoxels.com/tile/parcel?x=-4....</td>\n",
       "      <td>https://lh3.googleusercontent.com/hIAKwmRdDtDu...</td>\n",
       "      <td>...</td>\n",
       "      <td>2 Process Extension</td>\n",
       "      <td>390m² plot title parcel near Mars in Origin Ci...</td>\n",
       "      <td>Cryptovoxels</td>\n",
       "      <td>OpenSea</td>\n",
       "      <td>2019-06-07 00:00:00</td>\n",
       "      <td>2019-06-07 00:47:38</td>\n",
       "      <td>https://opensea.io/assets/0x79986af15539de2db9...</td>\n",
       "      <td>('Cryptovoxels', '2992')</td>\n",
       "      <td>Cryptovoxel</td>\n",
       "      <td>Metaverse</td>\n",
       "    </tr>\n",
       "    <tr>\n",
       "      <th>4495568</th>\n",
       "      <td>0x79986af15539de2db9a5086382daeda917a9cf0c</td>\n",
       "      <td>162</td>\n",
       "      <td>0x8b21a0cb5b70794115cc205665bfc11de739e3cadb92...</td>\n",
       "      <td>NaN</td>\n",
       "      <td>NaN</td>\n",
       "      <td>NaN</td>\n",
       "      <td>NaN</td>\n",
       "      <td>NaN</td>\n",
       "      <td>NaN</td>\n",
       "      <td>NaN</td>\n",
       "      <td>...</td>\n",
       "      <td>NaN</td>\n",
       "      <td>NaN</td>\n",
       "      <td>NaN</td>\n",
       "      <td>NaN</td>\n",
       "      <td>NaN</td>\n",
       "      <td>NaN</td>\n",
       "      <td>NaN</td>\n",
       "      <td>NaN</td>\n",
       "      <td>NaN</td>\n",
       "      <td>NaN</td>\n",
       "    </tr>\n",
       "  </tbody>\n",
       "</table>\n",
       "<p>10 rows × 24 columns</p>\n",
       "</div>"
      ],
      "text/plain": [
       "                                     Smart_contract  ID_token  \\\n",
       "4495559  0x06012c8cf97bead5deae237070f9587f8e7a266d    973739   \n",
       "4495560  0x31af195db332bc9203d758c74df5a5c5e597cdb7     15905   \n",
       "4495561  0xd73be539d6b2076bab83ca6ba62dfe189abc6bbe     75307   \n",
       "4495562  0x1276dce965ada590e42d62b3953ddc1ddceb0392     33155   \n",
       "4495563  0x06012c8cf97bead5deae237070f9587f8e7a266d   1538764   \n",
       "4495564  0xdceaf1652a131f32a821468dc03a92df0edd86ea  30030096   \n",
       "4495565  0x31af195db332bc9203d758c74df5a5c5e597cdb7     20455   \n",
       "4495566  0xdceaf1652a131f32a821468dc03a92df0edd86ea  30030712   \n",
       "4495567  0x79986af15539de2db9a5086382daeda917a9cf0c      2992   \n",
       "4495568  0x79986af15539de2db9a5086382daeda917a9cf0c       162   \n",
       "\n",
       "                                          Transaction_hash  \\\n",
       "4495559  0xb96d97cb0800295a0f62b6d1897a39b4794ac3ef1559...   \n",
       "4495560  0xf6759f042276ec3394904e8f57f0bee484867add9b97...   \n",
       "4495561  0x94778873024077f1909475d7edbdf1d2a79bb0fc40f1...   \n",
       "4495562  0xb03e7da17461ecfe0c25d33af92fd0a6d37567ca9d19...   \n",
       "4495563  0xa91ae19b93c288d3cf0ab3ced42a2485586f999e5c82...   \n",
       "4495564  0x8611ff334af847630b47b7067d97994765a70932121c...   \n",
       "4495565  0xec8616978e73a31dcf5c73720110c86b970ffde3e3ea...   \n",
       "4495566  0x26620ea2d403330949a732d0a14f7e5ecaf480e07d7d...   \n",
       "4495567  0x7a7a3c9d15f56ec02999e4edf06a38e56d2cfbea3086...   \n",
       "4495568  0x8b21a0cb5b70794115cc205665bfc11de739e3cadb92...   \n",
       "\n",
       "                                     Seller_address  \\\n",
       "4495559  0x4fabda075e15e9245ed7cfb5db398b4683bfcf54   \n",
       "4495560  0x1e0a8bcab64489766cd96f3e29d91f1717d168a2   \n",
       "4495561  0x80e7e06f096380dd0d3f9cec4fdece370db4cdbd   \n",
       "4495562  0x02d388e416a977b09e31b36aeb7ead15248bc852   \n",
       "4495563  0x4fabda075e15e9245ed7cfb5db398b4683bfcf54   \n",
       "4495564  0xcc0b13b539c8c08817868a9855e40ff7fb8df92d   \n",
       "4495565  0x1e0a8bcab64489766cd96f3e29d91f1717d168a2   \n",
       "4495566  0x939ce144fac867f0d79c141bafcf4dd499c476f3   \n",
       "4495567  0x2d891ed45c4c3eab978513df4b92a35cf131d2e2   \n",
       "4495568                                         NaN   \n",
       "\n",
       "                                    Seller_username  \\\n",
       "4495559                                    0x4FabDA   \n",
       "4495560  0x1e0a8bcab64489766cd96f3e29d91f1717d168a2   \n",
       "4495561                                      Sotech   \n",
       "4495562                                   Discordia   \n",
       "4495563                                    0x4FabDA   \n",
       "4495564                                 sukiyakiman   \n",
       "4495565  0x1e0a8bcab64489766cd96f3e29d91f1717d168a2   \n",
       "4495566                                     Pewpers   \n",
       "4495567                                      bnolan   \n",
       "4495568                                         NaN   \n",
       "\n",
       "                                      Buyer_address   Buyer_username  \\\n",
       "4495559  0x0aa9e616a097627b71e499e5c464e294d15e26aa          Merlion   \n",
       "4495560  0x69a67822df2801f4a7cdd419f5e6585bbf8db4f4               jt   \n",
       "4495561  0xcc7cf01aa54726245764bbd9a53e896520f22ef6          chronor   \n",
       "4495562  0xdf0635793e91d4f8e7426dbd9ed08471186f428d      WalletTest1   \n",
       "4495563  0x491fd53e5e0d8b4a5f28d008856060cda5380aaf  jonnyrevolution   \n",
       "4495564  0x8cb09026212c7bf2e906bb8248ad5826bd55e35b              NaN   \n",
       "4495565  0x69a67822df2801f4a7cdd419f5e6585bbf8db4f4               jt   \n",
       "4495566  0x8cb09026212c7bf2e906bb8248ad5826bd55e35b              NaN   \n",
       "4495567  0x4595ff64328faf80a8cf0d52355639984b6af23c          RedBear   \n",
       "4495568                                         NaN              NaN   \n",
       "\n",
       "                                               Image_url_1  \\\n",
       "4495559  https://storage.opensea.io/0x06012c8cf97bead5d...   \n",
       "4495560  https://storage.opensea.io/0x31af195db332bc920...   \n",
       "4495561  https://storage.opensea.io/0xd73be539d6b2076ba...   \n",
       "4495562  https://storage.opensea.io/0x1276dce965ada590e...   \n",
       "4495563  https://lh3.googleusercontent.com/QUlE6jFq6dRY...   \n",
       "4495564  https://lh3.googleusercontent.com/-bv5Qhhs3EpZ...   \n",
       "4495565  https://storage.opensea.io/0x31af195db332bc920...   \n",
       "4495566  https://lh3.googleusercontent.com/-bv5Qhhs3EpZ...   \n",
       "4495567  https://lh3.googleusercontent.com/hIAKwmRdDtDu...   \n",
       "4495568                                                NaN   \n",
       "\n",
       "                                               Image_url_2  \\\n",
       "4495559  https://img.cryptokitties.co/0x06012c8cf97bead...   \n",
       "4495560         https://cryptoassault.io/units/unit_18.png   \n",
       "4495561  https://blockchaincuties.co/rest/svga/13/75307...   \n",
       "4495562  https://s3.amazonaws.com/neon-district-founder...   \n",
       "4495563  https://img.cryptokitties.co/0x06012c8cf97bead...   \n",
       "4495564  https://www.mycryptoheroes.net/images/extensio...   \n",
       "4495565         https://cryptoassault.io/units/unit_24.png   \n",
       "4495566  https://www.mycryptoheroes.net/images/extensio...   \n",
       "4495567  https://map.cryptovoxels.com/tile/parcel?x=-4....   \n",
       "4495568                                                NaN   \n",
       "\n",
       "                                               Image_url_3  ...  \\\n",
       "4495559  https://storage.opensea.io/0x06012c8cf97bead5d...  ...   \n",
       "4495560  https://storage.opensea.io/0x31af195db332bc920...  ...   \n",
       "4495561  https://blockchaincuties.co/rest/svga/13/75307...  ...   \n",
       "4495562  https://storage.opensea.io/0x1276dce965ada590e...  ...   \n",
       "4495563  https://lh3.googleusercontent.com/QUlE6jFq6dRY...  ...   \n",
       "4495564  https://lh3.googleusercontent.com/-bv5Qhhs3EpZ...  ...   \n",
       "4495565  https://storage.opensea.io/0x31af195db332bc920...  ...   \n",
       "4495566  https://lh3.googleusercontent.com/-bv5Qhhs3EpZ...  ...   \n",
       "4495567  https://lh3.googleusercontent.com/hIAKwmRdDtDu...  ...   \n",
       "4495568                                                NaN  ...   \n",
       "\n",
       "                                   Name  \\\n",
       "4495559             🎗 Common Gen 1 Mewt   \n",
       "4495560            Common Falcon #15905   \n",
       "4495561                       Good Life   \n",
       "4495562                          Pistol   \n",
       "4495563                     🂡 Kotkasi 🂡   \n",
       "4495564  MCH Extension: #30030096 Lv.80   \n",
       "4495565         Common Chieftain #20455   \n",
       "4495566  MCH Extension: #30030712 Lv.80   \n",
       "4495567             2 Process Extension   \n",
       "4495568                             NaN   \n",
       "\n",
       "                                               Description        Collection  \\\n",
       "4495559  Namaste. I'm 🎗 Common Gen 1 Mewt. I feel like ...     Cryptokitties   \n",
       "4495560  Strong against helis & tanks\\n\\nWeak against m...     Cryptoassault   \n",
       "4495561                                                NaN  Blockchaincuties   \n",
       "4495562                                                NaN     Neon-district   \n",
       "4495563  Welcome, I'm 🂡 Kotkasi 🂡. Wait! No, let me sta...     Cryptokitties   \n",
       "4495564  Extensions are unique weapons, originated from...    Mycryptoheroes   \n",
       "4495565  Strong against tanks & trucks\\n\\nWeak against ...     Cryptoassault   \n",
       "4495566  Extensions are unique weapons, originated from...    Mycryptoheroes   \n",
       "4495567  390m² plot title parcel near Mars in Origin Ci...      Cryptovoxels   \n",
       "4495568                                                NaN               NaN   \n",
       "\n",
       "          Market     Datetime_updated Datetime_updated_seconds  \\\n",
       "4495559  OpenSea  2019-06-07 00:00:00      2019-06-07 01:00:48   \n",
       "4495560  OpenSea  2019-06-07 00:00:00      2019-06-07 00:59:26   \n",
       "4495561  OpenSea  2019-06-07 00:00:00      2019-06-07 00:58:33   \n",
       "4495562  OpenSea  2019-06-07 00:00:00      2019-06-07 00:57:25   \n",
       "4495563  OpenSea  2019-06-07 00:00:00      2019-06-07 00:54:53   \n",
       "4495564  OpenSea  2019-06-07 00:00:00      2019-06-07 00:54:41   \n",
       "4495565  OpenSea  2019-06-07 00:00:00      2019-06-07 00:53:04   \n",
       "4495566  OpenSea  2019-06-07 00:00:00      2019-06-07 00:50:12   \n",
       "4495567  OpenSea  2019-06-07 00:00:00      2019-06-07 00:47:38   \n",
       "4495568      NaN                  NaN                      NaN   \n",
       "\n",
       "                                            Permanent_link  \\\n",
       "4495559  https://opensea.io/assets/0x06012c8cf97bead5de...   \n",
       "4495560  https://opensea.io/assets/0x31af195db332bc9203...   \n",
       "4495561  https://opensea.io/assets/0xd73be539d6b2076bab...   \n",
       "4495562  https://opensea.io/assets/0x1276dce965ada590e4...   \n",
       "4495563  https://opensea.io/assets/0x06012c8cf97bead5de...   \n",
       "4495564  https://opensea.io/assets/0xdceaf1652a131f32a8...   \n",
       "4495565  https://opensea.io/assets/0x31af195db332bc9203...   \n",
       "4495566  https://opensea.io/assets/0xdceaf1652a131f32a8...   \n",
       "4495567  https://opensea.io/assets/0x79986af15539de2db9...   \n",
       "4495568                                                NaN   \n",
       "\n",
       "                   Unique_id_collection Collection_cleaned     Category  \n",
       "4495559     ('Cryptokitties', '973739')       Cryptokittie          Art  \n",
       "4495560      ('Cryptoassault', '15905')      Cryptoassault        Other  \n",
       "4495561   ('Blockchaincuties', '75307')              Block  Collectible  \n",
       "4495562      ('Neon-district', '33155')               Neon        Games  \n",
       "4495563    ('Cryptokitties', '1538764')       Cryptokittie          Art  \n",
       "4495564  ('Mycryptoheroes', '30030096')           Mycrypto        Games  \n",
       "4495565      ('Cryptoassault', '20455')      Cryptoassault        Other  \n",
       "4495566  ('Mycryptoheroes', '30030712')           Mycrypto        Games  \n",
       "4495567        ('Cryptovoxels', '2992')        Cryptovoxel    Metaverse  \n",
       "4495568                             NaN                NaN          NaN  \n",
       "\n",
       "[10 rows x 24 columns]"
      ]
     },
     "execution_count": 4,
     "metadata": {},
     "output_type": "execute_result"
    }
   ],
   "source": [
    "df.tail(10)"
   ]
  },
  {
   "cell_type": "code",
   "execution_count": 5,
   "id": "2971b978-d7cc-46d1-8e9a-8122ca55564b",
   "metadata": {},
   "outputs": [
    {
     "data": {
      "text/plain": [
       "4495569"
      ]
     },
     "execution_count": 5,
     "metadata": {},
     "output_type": "execute_result"
    }
   ],
   "source": [
    "len(df)"
   ]
  },
  {
   "cell_type": "code",
   "execution_count": 6,
   "id": "29689a53-9f79-4a7a-a8fa-b9012b01da40",
   "metadata": {},
   "outputs": [
    {
     "data": {
      "text/plain": [
       "Index(['Smart_contract', 'ID_token', 'Transaction_hash', 'Seller_address',\n",
       "       'Seller_username', 'Buyer_address', 'Buyer_username', 'Image_url_1',\n",
       "       'Image_url_2', 'Image_url_3', 'Image_url_4', 'Price_Crypto', 'Crypto',\n",
       "       'Price_USD', 'Name', 'Description', 'Collection', 'Market',\n",
       "       'Datetime_updated', 'Datetime_updated_seconds', 'Permanent_link',\n",
       "       'Unique_id_collection', 'Collection_cleaned', 'Category'],\n",
       "      dtype='object')"
      ]
     },
     "execution_count": 6,
     "metadata": {},
     "output_type": "execute_result"
    }
   ],
   "source": [
    "df.columns"
   ]
  },
  {
   "cell_type": "code",
   "execution_count": 7,
   "id": "83b50ea8-6778-49f6-a03b-78dd75f9b159",
   "metadata": {},
   "outputs": [
    {
     "data": {
      "text/plain": [
       "<AxesSubplot:>"
      ]
     },
     "execution_count": 7,
     "metadata": {},
     "output_type": "execute_result"
    },
    {
     "data": {
      "image/png": "[encoded data removed]",
      "text/plain": [
       "<Figure size 1080x720 with 2 Axes>"
      ]
     },
     "metadata": {
      "needs_background": "light"
     },
     "output_type": "display_data"
    }
   ],
   "source": [
    "plt.figure(figsize=(15, 10))\n",
    "sns.heatmap(df.corr(), annot=True)"
   ]
  },
  {
   "cell_type": "code",
   "execution_count": 8,
   "id": "ada3bf7a-38b6-4602-be17-7110c7d6d1bd",
   "metadata": {},
   "outputs": [],
   "source": [
    "df['index'] = np.arange(len(df))"
   ]
  },
  {
   "cell_type": "markdown",
   "id": "faf31d0d-38c3-43ae-9a50-fed2ced9b43a",
   "metadata": {},
   "source": [
    "### EDA - Category"
   ]
  },
  {
   "cell_type": "code",
   "execution_count": 9,
   "id": "4071bf89-d0ef-4dea-8ced-8161b5e07d95",
   "metadata": {},
   "outputs": [
    {
     "data": {
      "text/plain": [
       "array(['Games', 'Art', 'Other', 'Collectible', 'Metaverse', 'Utility',\n",
       "       nan], dtype=object)"
      ]
     },
     "execution_count": 9,
     "metadata": {},
     "output_type": "execute_result"
    }
   ],
   "source": [
    "df[\"Category\"].unique()"
   ]
  },
  {
   "cell_type": "code",
   "execution_count": 10,
   "id": "ad7293c9-16ba-424b-8a87-e3ba3921cc82",
   "metadata": {},
   "outputs": [
    {
     "data": {
      "text/html": [
       "<div>\n",
       "<style scoped>\n",
       "    .dataframe tbody tr th:only-of-type {\n",
       "        vertical-align: middle;\n",
       "    }\n",
       "\n",
       "    .dataframe tbody tr th {\n",
       "        vertical-align: top;\n",
       "    }\n",
       "\n",
       "    .dataframe thead th {\n",
       "        text-align: right;\n",
       "    }\n",
       "</style>\n",
       "<table border=\"1\" class=\"dataframe\">\n",
       "  <thead>\n",
       "    <tr style=\"text-align: right;\">\n",
       "      <th></th>\n",
       "      <th>index</th>\n",
       "    </tr>\n",
       "    <tr>\n",
       "      <th>Category</th>\n",
       "      <th></th>\n",
       "    </tr>\n",
       "  </thead>\n",
       "  <tbody>\n",
       "    <tr>\n",
       "      <th>Art</th>\n",
       "      <td>1068840</td>\n",
       "    </tr>\n",
       "    <tr>\n",
       "      <th>Collectible</th>\n",
       "      <td>1252203</td>\n",
       "    </tr>\n",
       "    <tr>\n",
       "      <th>Games</th>\n",
       "      <td>1956215</td>\n",
       "    </tr>\n",
       "    <tr>\n",
       "      <th>Metaverse</th>\n",
       "      <td>32014</td>\n",
       "    </tr>\n",
       "    <tr>\n",
       "      <th>Other</th>\n",
       "      <td>185791</td>\n",
       "    </tr>\n",
       "    <tr>\n",
       "      <th>Utility</th>\n",
       "      <td>505</td>\n",
       "    </tr>\n",
       "  </tbody>\n",
       "</table>\n",
       "</div>"
      ],
      "text/plain": [
       "               index\n",
       "Category            \n",
       "Art          1068840\n",
       "Collectible  1252203\n",
       "Games        1956215\n",
       "Metaverse      32014\n",
       "Other         185791\n",
       "Utility          505"
      ]
     },
     "execution_count": 10,
     "metadata": {},
     "output_type": "execute_result"
    }
   ],
   "source": [
    "summary_data = df.groupby('Category').count()\n",
    "summary_data[['index']]"
   ]
  },
  {
   "cell_type": "code",
   "execution_count": 11,
   "id": "e9b846e7-d152-403c-b73d-acdbcf3fe99f",
   "metadata": {},
   "outputs": [
    {
     "data": {
      "text/plain": [
       "<seaborn.axisgrid.FacetGrid at 0x7f367f9acd10>"
      ]
     },
     "execution_count": 11,
     "metadata": {},
     "output_type": "execute_result"
    },
    {
     "data": {
      "image/png": "[encoded data removed]",
      "text/plain": [
       "<Figure size 1080x576 with 1 Axes>"
      ]
     },
     "metadata": {
      "needs_background": "light"
     },
     "output_type": "display_data"
    }
   ],
   "source": [
    "sns.catplot(x=\"Category\", kind=\"count\", data=df, height=8, aspect=15/8)"
   ]
  },
  {
   "cell_type": "code",
   "execution_count": 12,
   "id": "5a062739-72d4-4340-a0c1-b64d8cf61d3c",
   "metadata": {},
   "outputs": [
    {
     "data": {
      "text/plain": [
       "<seaborn.axisgrid.FacetGrid at 0x7f363c517fd0>"
      ]
     },
     "execution_count": 12,
     "metadata": {},
     "output_type": "execute_result"
    },
    {
     "data": {
      "image/png": "[encoded data removed]",
      "text/plain": [
       "<Figure size 1080x576 with 1 Axes>"
      ]
     },
     "metadata": {
      "needs_background": "light"
     },
     "output_type": "display_data"
    }
   ],
   "source": [
    "sns.catplot(x=\"Category\", y=\"Price_USD\", data=df, height=8, aspect=15/8)"
   ]
  },
  {
   "cell_type": "code",
   "execution_count": 13,
   "id": "b90acba7-dd09-4c8c-adb4-531d146f7cdb",
   "metadata": {},
   "outputs": [
    {
     "data": {
      "text/plain": [
       "<seaborn.axisgrid.FacetGrid at 0x7f363c533f50>"
      ]
     },
     "execution_count": 13,
     "metadata": {},
     "output_type": "execute_result"
    },
    {
     "data": {
      "image/png": "[encoded data removed]",
      "text/plain": [
       "<Figure size 1080x576 with 1 Axes>"
      ]
     },
     "metadata": {
      "needs_background": "light"
     },
     "output_type": "display_data"
    }
   ],
   "source": [
    "sns.catplot(x=\"Category\", y=\"Price_Crypto\", data=df, height=8, aspect=15/8)"
   ]
  },
  {
   "cell_type": "markdown",
   "id": "557981f3-b474-4835-bec5-852f76961678",
   "metadata": {},
   "source": [
    "### EDA - Market"
   ]
  },
  {
   "cell_type": "code",
   "execution_count": 14,
   "id": "3b3ff43b-f3c7-4483-9667-fd2c40ae4348",
   "metadata": {},
   "outputs": [
    {
     "data": {
      "text/plain": [
       "array(['Godsunchained', 'Cryptokitties', 'Atomic', 'Decentraland',\n",
       "       'OpenSea', nan], dtype=object)"
      ]
     },
     "execution_count": 14,
     "metadata": {},
     "output_type": "execute_result"
    }
   ],
   "source": [
    "df[\"Market\"].unique()"
   ]
  },
  {
   "cell_type": "code",
   "execution_count": 15,
   "id": "7e008117-4866-492c-8010-f6615bd254ba",
   "metadata": {},
   "outputs": [
    {
     "data": {
      "text/html": [
       "<div>\n",
       "<style scoped>\n",
       "    .dataframe tbody tr th:only-of-type {\n",
       "        vertical-align: middle;\n",
       "    }\n",
       "\n",
       "    .dataframe tbody tr th {\n",
       "        vertical-align: top;\n",
       "    }\n",
       "\n",
       "    .dataframe thead th {\n",
       "        text-align: right;\n",
       "    }\n",
       "</style>\n",
       "<table border=\"1\" class=\"dataframe\">\n",
       "  <thead>\n",
       "    <tr style=\"text-align: right;\">\n",
       "      <th></th>\n",
       "      <th>index</th>\n",
       "    </tr>\n",
       "    <tr>\n",
       "      <th>Market</th>\n",
       "      <th></th>\n",
       "    </tr>\n",
       "  </thead>\n",
       "  <tbody>\n",
       "    <tr>\n",
       "      <th>Atomic</th>\n",
       "      <td>3185292</td>\n",
       "    </tr>\n",
       "    <tr>\n",
       "      <th>Cryptokitties</th>\n",
       "      <td>725400</td>\n",
       "    </tr>\n",
       "    <tr>\n",
       "      <th>Decentraland</th>\n",
       "      <td>16863</td>\n",
       "    </tr>\n",
       "    <tr>\n",
       "      <th>Godsunchained</th>\n",
       "      <td>236210</td>\n",
       "    </tr>\n",
       "    <tr>\n",
       "      <th>OpenSea</th>\n",
       "      <td>331803</td>\n",
       "    </tr>\n",
       "  </tbody>\n",
       "</table>\n",
       "</div>"
      ],
      "text/plain": [
       "                 index\n",
       "Market                \n",
       "Atomic         3185292\n",
       "Cryptokitties   725400\n",
       "Decentraland     16863\n",
       "Godsunchained   236210\n",
       "OpenSea         331803"
      ]
     },
     "execution_count": 15,
     "metadata": {},
     "output_type": "execute_result"
    }
   ],
   "source": [
    "summary_data = df.groupby('Market').count()\n",
    "summary_data[['index']]"
   ]
  },
  {
   "cell_type": "code",
   "execution_count": 16,
   "id": "e7f7e3b8-4421-45d8-bc24-349fa783acf9",
   "metadata": {},
   "outputs": [
    {
     "data": {
      "text/plain": [
       "<seaborn.axisgrid.FacetGrid at 0x7f367f967210>"
      ]
     },
     "execution_count": 16,
     "metadata": {},
     "output_type": "execute_result"
    },
    {
     "data": {
      "image/png": "[encoded data removed]",
      "text/plain": [
       "<Figure size 1080x576 with 1 Axes>"
      ]
     },
     "metadata": {
      "needs_background": "light"
     },
     "output_type": "display_data"
    }
   ],
   "source": [
    "sns.set_palette(\"Paired\")\n",
    "sns.catplot(x=\"Market\", kind=\"count\", data=df, height=8, aspect=15/8)"
   ]
  },
  {
   "cell_type": "code",
   "execution_count": 17,
   "id": "84ed7fc5-e6a9-432b-9101-c93643b1b177",
   "metadata": {},
   "outputs": [
    {
     "data": {
      "text/plain": [
       "<seaborn.axisgrid.FacetGrid at 0x7f3614ced490>"
      ]
     },
     "execution_count": 17,
     "metadata": {},
     "output_type": "execute_result"
    },
    {
     "data": {
      "image/png": "[encoded data removed]",
      "text/plain": [
       "<Figure size 1080x576 with 1 Axes>"
      ]
     },
     "metadata": {
      "needs_background": "light"
     },
     "output_type": "display_data"
    }
   ],
   "source": [
    "sns.catplot(x=\"Market\", y=\"Price_USD\", data=df, height=8, aspect=15/8)"
   ]
  },
  {
   "cell_type": "markdown",
   "id": "99ac96e9-0348-427f-a7ec-9ee1fec2f7d5",
   "metadata": {},
   "source": [
    "### EDA - Crypto"
   ]
  },
  {
   "cell_type": "code",
   "execution_count": 18,
   "id": "f8777195-6217-4445-b414-fe105913ae2c",
   "metadata": {},
   "outputs": [
    {
     "data": {
      "text/plain": [
       "array(['ETH', 'WAX', 'MANA', 'WETH', 'BZN', 'USDC', 'SAI', 'EMONT', 'IMP',\n",
       "       'NVT', 'LESS', 'GUSD', 'ENJ', 'ELET', 'WCK', nan], dtype=object)"
      ]
     },
     "execution_count": 18,
     "metadata": {},
     "output_type": "execute_result"
    }
   ],
   "source": [
    "df[\"Crypto\"].unique()"
   ]
  },
  {
   "cell_type": "code",
   "execution_count": 19,
   "id": "7beb2c2c-1355-42bc-88f6-d5e0a6475554",
   "metadata": {},
   "outputs": [
    {
     "data": {
      "text/html": [
       "<div>\n",
       "<style scoped>\n",
       "    .dataframe tbody tr th:only-of-type {\n",
       "        vertical-align: middle;\n",
       "    }\n",
       "\n",
       "    .dataframe tbody tr th {\n",
       "        vertical-align: top;\n",
       "    }\n",
       "\n",
       "    .dataframe thead th {\n",
       "        text-align: right;\n",
       "    }\n",
       "</style>\n",
       "<table border=\"1\" class=\"dataframe\">\n",
       "  <thead>\n",
       "    <tr style=\"text-align: right;\">\n",
       "      <th></th>\n",
       "      <th>index</th>\n",
       "    </tr>\n",
       "    <tr>\n",
       "      <th>Crypto</th>\n",
       "      <th></th>\n",
       "    </tr>\n",
       "  </thead>\n",
       "  <tbody>\n",
       "    <tr>\n",
       "      <th>BZN</th>\n",
       "      <td>2</td>\n",
       "    </tr>\n",
       "    <tr>\n",
       "      <th>ELET</th>\n",
       "      <td>5</td>\n",
       "    </tr>\n",
       "    <tr>\n",
       "      <th>EMONT</th>\n",
       "      <td>167</td>\n",
       "    </tr>\n",
       "    <tr>\n",
       "      <th>ENJ</th>\n",
       "      <td>1</td>\n",
       "    </tr>\n",
       "    <tr>\n",
       "      <th>ETH</th>\n",
       "      <td>1284689</td>\n",
       "    </tr>\n",
       "    <tr>\n",
       "      <th>GUSD</th>\n",
       "      <td>9</td>\n",
       "    </tr>\n",
       "    <tr>\n",
       "      <th>IMP</th>\n",
       "      <td>105</td>\n",
       "    </tr>\n",
       "    <tr>\n",
       "      <th>LESS</th>\n",
       "      <td>383</td>\n",
       "    </tr>\n",
       "    <tr>\n",
       "      <th>MANA</th>\n",
       "      <td>20362</td>\n",
       "    </tr>\n",
       "    <tr>\n",
       "      <th>NVT</th>\n",
       "      <td>3</td>\n",
       "    </tr>\n",
       "    <tr>\n",
       "      <th>SAI</th>\n",
       "      <td>76</td>\n",
       "    </tr>\n",
       "    <tr>\n",
       "      <th>USDC</th>\n",
       "      <td>10</td>\n",
       "    </tr>\n",
       "    <tr>\n",
       "      <th>WAX</th>\n",
       "      <td>3185292</td>\n",
       "    </tr>\n",
       "    <tr>\n",
       "      <th>WCK</th>\n",
       "      <td>194</td>\n",
       "    </tr>\n",
       "    <tr>\n",
       "      <th>WETH</th>\n",
       "      <td>4270</td>\n",
       "    </tr>\n",
       "  </tbody>\n",
       "</table>\n",
       "</div>"
      ],
      "text/plain": [
       "          index\n",
       "Crypto         \n",
       "BZN           2\n",
       "ELET          5\n",
       "EMONT       167\n",
       "ENJ           1\n",
       "ETH     1284689\n",
       "GUSD          9\n",
       "IMP         105\n",
       "LESS        383\n",
       "MANA      20362\n",
       "NVT           3\n",
       "SAI          76\n",
       "USDC         10\n",
       "WAX     3185292\n",
       "WCK         194\n",
       "WETH       4270"
      ]
     },
     "execution_count": 19,
     "metadata": {},
     "output_type": "execute_result"
    }
   ],
   "source": [
    "summary_data = df.groupby('Crypto').count()\n",
    "summary_data[['index']]"
   ]
  },
  {
   "cell_type": "code",
   "execution_count": 20,
   "id": "cb5b9193-4d34-4bf0-929d-d7410479837f",
   "metadata": {},
   "outputs": [
    {
     "data": {
      "text/plain": [
       "<seaborn.axisgrid.FacetGrid at 0x7f3600363050>"
      ]
     },
     "execution_count": 20,
     "metadata": {},
     "output_type": "execute_result"
    },
    {
     "data": {
      "image/png": "[encoded data removed]",
      "text/plain": [
       "<Figure size 1080x576 with 1 Axes>"
      ]
     },
     "metadata": {
      "needs_background": "light"
     },
     "output_type": "display_data"
    }
   ],
   "source": [
    "sns.catplot(x=\"Crypto\", kind=\"count\", data=df, height=8, aspect=15/8)"
   ]
  },
  {
   "cell_type": "markdown",
   "id": "6cdf10f4-7e4b-4948-a86c-ca5e96524cdb",
   "metadata": {},
   "source": [
    "### EDA - Collection Cleaned"
   ]
  },
  {
   "cell_type": "code",
   "execution_count": 21,
   "id": "8af97688-e8b2-42b2-aa80-6278af22c56e",
   "metadata": {},
   "outputs": [
    {
     "data": {
      "text/plain": [
       "array(['Godsunchained', 'Cryptokittie', 'Oghodlergang', ...,\n",
       "       'Conniedigital', 'Cryptoser', nan], dtype=object)"
      ]
     },
     "execution_count": 21,
     "metadata": {},
     "output_type": "execute_result"
    }
   ],
   "source": [
    "df[\"Collection_cleaned\"].unique()"
   ]
  },
  {
   "cell_type": "code",
   "execution_count": 22,
   "id": "a7aa17f8-0f53-40b6-a53d-828da0a3ae71",
   "metadata": {},
   "outputs": [
    {
     "data": {
      "text/html": [
       "<div>\n",
       "<style scoped>\n",
       "    .dataframe tbody tr th:only-of-type {\n",
       "        vertical-align: middle;\n",
       "    }\n",
       "\n",
       "    .dataframe tbody tr th {\n",
       "        vertical-align: top;\n",
       "    }\n",
       "\n",
       "    .dataframe thead th {\n",
       "        text-align: right;\n",
       "    }\n",
       "</style>\n",
       "<table border=\"1\" class=\"dataframe\">\n",
       "  <thead>\n",
       "    <tr style=\"text-align: right;\">\n",
       "      <th></th>\n",
       "      <th>index</th>\n",
       "    </tr>\n",
       "    <tr>\n",
       "      <th>Collection_cleaned</th>\n",
       "      <th></th>\n",
       "    </tr>\n",
       "  </thead>\n",
       "  <tbody>\n",
       "    <tr>\n",
       "      <th>Abrehmiii</th>\n",
       "      <td>9</td>\n",
       "    </tr>\n",
       "    <tr>\n",
       "      <th>Abstract</th>\n",
       "      <td>51</td>\n",
       "    </tr>\n",
       "    <tr>\n",
       "      <th>Abstrametric</th>\n",
       "      <td>6</td>\n",
       "    </tr>\n",
       "    <tr>\n",
       "      <th>Absurd</th>\n",
       "      <td>11</td>\n",
       "    </tr>\n",
       "    <tr>\n",
       "      <th>Acebgznft</th>\n",
       "      <td>203</td>\n",
       "    </tr>\n",
       "    <tr>\n",
       "      <th>...</th>\n",
       "      <td>...</td>\n",
       "    </tr>\n",
       "    <tr>\n",
       "      <th>Zlfhomedecor</th>\n",
       "      <td>14</td>\n",
       "    </tr>\n",
       "    <tr>\n",
       "      <th>Zodiac</th>\n",
       "      <td>16</td>\n",
       "    </tr>\n",
       "    <tr>\n",
       "      <th>Zombie</th>\n",
       "      <td>1285</td>\n",
       "    </tr>\n",
       "    <tr>\n",
       "      <th>Zrohrogame</th>\n",
       "      <td>2</td>\n",
       "    </tr>\n",
       "    <tr>\n",
       "      <th>Zweihspacert</th>\n",
       "      <td>1</td>\n",
       "    </tr>\n",
       "  </tbody>\n",
       "</table>\n",
       "<p>2050 rows × 1 columns</p>\n",
       "</div>"
      ],
      "text/plain": [
       "                    index\n",
       "Collection_cleaned       \n",
       "Abrehmiii               9\n",
       "Abstract               51\n",
       "Abstrametric            6\n",
       "Absurd                 11\n",
       "Acebgznft             203\n",
       "...                   ...\n",
       "Zlfhomedecor           14\n",
       "Zodiac                 16\n",
       "Zombie               1285\n",
       "Zrohrogame              2\n",
       "Zweihspacert            1\n",
       "\n",
       "[2050 rows x 1 columns]"
      ]
     },
     "execution_count": 22,
     "metadata": {},
     "output_type": "execute_result"
    }
   ],
   "source": [
    "summary_data = df.groupby('Collection_cleaned').count()\n",
    "summary_data[['index']]"
   ]
  },
  {
   "cell_type": "markdown",
   "id": "b4730518-802f-4ca5-8bd3-1f33fcf9b11e",
   "metadata": {},
   "source": [
    "### EDA - Price USD"
   ]
  },
  {
   "cell_type": "code",
   "execution_count": 23,
   "id": "4753c693-e1c1-4ae8-b7c7-0ea2e213147a",
   "metadata": {},
   "outputs": [
    {
     "data": {
      "text/plain": [
       "count    4.494361e+06\n",
       "mean     2.279687e+01\n",
       "std      5.442183e+02\n",
       "min      1.514250e-16\n",
       "25%      1.712280e-01\n",
       "50%      8.625235e-01\n",
       "75%      4.885000e+00\n",
       "max      2.963550e+05\n",
       "Name: Price_USD, dtype: float64"
      ]
     },
     "execution_count": 23,
     "metadata": {},
     "output_type": "execute_result"
    }
   ],
   "source": [
    "df['Price_USD'].describe()"
   ]
  },
  {
   "cell_type": "code",
   "execution_count": 24,
   "id": "24662ba2-43cd-4800-97b9-d4d6becc5a89",
   "metadata": {},
   "outputs": [
    {
     "data": {
      "text/plain": [
       "22.796873434329655"
      ]
     },
     "execution_count": 24,
     "metadata": {},
     "output_type": "execute_result"
    }
   ],
   "source": [
    "np.mean(df['Price_USD'])"
   ]
  },
  {
   "cell_type": "code",
   "execution_count": 25,
   "id": "c0954fa2-d0af-4ee2-b225-e8733a9dede0",
   "metadata": {},
   "outputs": [
    {
     "data": {
      "text/plain": [
       "296355.0"
      ]
     },
     "execution_count": 25,
     "metadata": {},
     "output_type": "execute_result"
    }
   ],
   "source": [
    "max(df['Price_USD'])"
   ]
  },
  {
   "cell_type": "code",
   "execution_count": 26,
   "id": "a59dbc94-a132-41bf-bc8f-ce78d8d442cf",
   "metadata": {},
   "outputs": [
    {
     "data": {
      "text/plain": [
       "1.5142500000000002e-16"
      ]
     },
     "execution_count": 26,
     "metadata": {},
     "output_type": "execute_result"
    }
   ],
   "source": [
    "min(df['Price_USD'])"
   ]
  },
  {
   "cell_type": "code",
   "execution_count": 27,
   "id": "9ddb02d1-9109-4949-b814-304b3659d7f7",
   "metadata": {},
   "outputs": [
    {
     "data": {
      "text/plain": [
       "<AxesSubplot:xlabel='Price_USD'>"
      ]
     },
     "execution_count": 27,
     "metadata": {},
     "output_type": "execute_result"
    },
    {
     "data": {
      "image/png": "[encoded data removed]",
      "text/plain": [
       "<Figure size 720x576 with 1 Axes>"
      ]
     },
     "metadata": {
      "needs_background": "light"
     },
     "output_type": "display_data"
    }
   ],
   "source": [
    "plt.figure(figsize=(10,8))\n",
    "sns.boxplot(x = 'Price_USD', data = df)"
   ]
  },
  {
   "cell_type": "code",
   "execution_count": 28,
   "id": "2614f169-cbf0-40e0-96f9-4ac41b84bd6d",
   "metadata": {},
   "outputs": [
    {
     "data": {
      "text/html": [
       "<div>\n",
       "<style scoped>\n",
       "    .dataframe tbody tr th:only-of-type {\n",
       "        vertical-align: middle;\n",
       "    }\n",
       "\n",
       "    .dataframe tbody tr th {\n",
       "        vertical-align: top;\n",
       "    }\n",
       "\n",
       "    .dataframe thead th {\n",
       "        text-align: right;\n",
       "    }\n",
       "</style>\n",
       "<table border=\"1\" class=\"dataframe\">\n",
       "  <thead>\n",
       "    <tr style=\"text-align: right;\">\n",
       "      <th></th>\n",
       "      <th>Smart_contract</th>\n",
       "      <th>ID_token</th>\n",
       "      <th>Transaction_hash</th>\n",
       "      <th>Seller_address</th>\n",
       "      <th>Seller_username</th>\n",
       "      <th>Buyer_address</th>\n",
       "      <th>Buyer_username</th>\n",
       "      <th>Image_url_1</th>\n",
       "      <th>Image_url_2</th>\n",
       "      <th>Image_url_3</th>\n",
       "      <th>...</th>\n",
       "      <th>Description</th>\n",
       "      <th>Collection</th>\n",
       "      <th>Market</th>\n",
       "      <th>Datetime_updated</th>\n",
       "      <th>Datetime_updated_seconds</th>\n",
       "      <th>Permanent_link</th>\n",
       "      <th>Unique_id_collection</th>\n",
       "      <th>Collection_cleaned</th>\n",
       "      <th>Category</th>\n",
       "      <th>index</th>\n",
       "    </tr>\n",
       "  </thead>\n",
       "  <tbody>\n",
       "    <tr>\n",
       "      <th>0</th>\n",
       "      <td>NaN</td>\n",
       "      <td>87094722.0</td>\n",
       "      <td>0xed9ff1c311a611e5c457ce0a49bbbb7ed55efca98842...</td>\n",
       "      <td>0x76481caa104b5f6bccb540dae4cefaf1c398ebea</td>\n",
       "      <td>NaN</td>\n",
       "      <td>0xe0fb7622091e3d9ef9b438471b10b9ea88c7cf6b</td>\n",
       "      <td>NaN</td>\n",
       "      <td>https://card.godsunchained.com/?id=33&amp;q=4</td>\n",
       "      <td>NaN</td>\n",
       "      <td>NaN</td>\n",
       "      <td>...</td>\n",
       "      <td>NaN</td>\n",
       "      <td>Godsunchained</td>\n",
       "      <td>Godsunchained</td>\n",
       "      <td>2019-11-30 00:00:00</td>\n",
       "      <td>2019-11-30 23:59:33</td>\n",
       "      <td>NaN</td>\n",
       "      <td>('Godsunchained', '87094722.0')</td>\n",
       "      <td>Godsunchained</td>\n",
       "      <td>Games</td>\n",
       "      <td>0</td>\n",
       "    </tr>\n",
       "    <tr>\n",
       "      <th>1</th>\n",
       "      <td>NaN</td>\n",
       "      <td>73044643.0</td>\n",
       "      <td>0xbc8412594ffa7382e8306215ece5b4e041fc641b1813...</td>\n",
       "      <td>0x76481caa104b5f6bccb540dae4cefaf1c398ebea</td>\n",
       "      <td>NaN</td>\n",
       "      <td>0x2c00d05ff7ffe93d77145dfe12aa56e622ae6f40</td>\n",
       "      <td>NaN</td>\n",
       "      <td>https://card.godsunchained.com/?id=79&amp;q=4</td>\n",
       "      <td>NaN</td>\n",
       "      <td>NaN</td>\n",
       "      <td>...</td>\n",
       "      <td>NaN</td>\n",
       "      <td>Godsunchained</td>\n",
       "      <td>Godsunchained</td>\n",
       "      <td>2019-11-30 00:00:00</td>\n",
       "      <td>2019-11-30 23:59:33</td>\n",
       "      <td>NaN</td>\n",
       "      <td>('Godsunchained', '73044643.0')</td>\n",
       "      <td>Godsunchained</td>\n",
       "      <td>Games</td>\n",
       "      <td>1</td>\n",
       "    </tr>\n",
       "    <tr>\n",
       "      <th>2</th>\n",
       "      <td>NaN</td>\n",
       "      <td>17107482.0</td>\n",
       "      <td>0x92672baf5e9e23de230dee8e57ddf443ab6d5a336341...</td>\n",
       "      <td>0x76481caa104b5f6bccb540dae4cefaf1c398ebea</td>\n",
       "      <td>NaN</td>\n",
       "      <td>0xe0fb7622091e3d9ef9b438471b10b9ea88c7cf6b</td>\n",
       "      <td>NaN</td>\n",
       "      <td>https://card.godsunchained.com/?id=33&amp;q=4</td>\n",
       "      <td>NaN</td>\n",
       "      <td>NaN</td>\n",
       "      <td>...</td>\n",
       "      <td>NaN</td>\n",
       "      <td>Godsunchained</td>\n",
       "      <td>Godsunchained</td>\n",
       "      <td>2019-11-30 00:00:00</td>\n",
       "      <td>2019-11-30 23:59:33</td>\n",
       "      <td>NaN</td>\n",
       "      <td>('Godsunchained', '17107482.0')</td>\n",
       "      <td>Godsunchained</td>\n",
       "      <td>Games</td>\n",
       "      <td>2</td>\n",
       "    </tr>\n",
       "    <tr>\n",
       "      <th>3</th>\n",
       "      <td>NaN</td>\n",
       "      <td>82230857.0</td>\n",
       "      <td>0x3d157249e3083622c2d756f07a05caa3a76687288b32...</td>\n",
       "      <td>0x76481caa104b5f6bccb540dae4cefaf1c398ebea</td>\n",
       "      <td>NaN</td>\n",
       "      <td>0x2c00d05ff7ffe93d77145dfe12aa56e622ae6f40</td>\n",
       "      <td>NaN</td>\n",
       "      <td>https://card.godsunchained.com/?id=227&amp;q=4</td>\n",
       "      <td>NaN</td>\n",
       "      <td>NaN</td>\n",
       "      <td>...</td>\n",
       "      <td>NaN</td>\n",
       "      <td>Godsunchained</td>\n",
       "      <td>Godsunchained</td>\n",
       "      <td>2019-11-30 00:00:00</td>\n",
       "      <td>2019-11-30 23:59:33</td>\n",
       "      <td>NaN</td>\n",
       "      <td>('Godsunchained', '82230857.0')</td>\n",
       "      <td>Godsunchained</td>\n",
       "      <td>Games</td>\n",
       "      <td>3</td>\n",
       "    </tr>\n",
       "    <tr>\n",
       "      <th>4</th>\n",
       "      <td>NaN</td>\n",
       "      <td>40925443.0</td>\n",
       "      <td>0xa892b3569dc8e6b3c7db93aade62372637ebbc61fb63...</td>\n",
       "      <td>0x76481caa104b5f6bccb540dae4cefaf1c398ebea</td>\n",
       "      <td>NaN</td>\n",
       "      <td>0x2c00d05ff7ffe93d77145dfe12aa56e622ae6f40</td>\n",
       "      <td>NaN</td>\n",
       "      <td>https://card.godsunchained.com/?id=62&amp;q=4</td>\n",
       "      <td>NaN</td>\n",
       "      <td>NaN</td>\n",
       "      <td>...</td>\n",
       "      <td>NaN</td>\n",
       "      <td>Godsunchained</td>\n",
       "      <td>Godsunchained</td>\n",
       "      <td>2019-11-30 00:00:00</td>\n",
       "      <td>2019-11-30 23:58:44</td>\n",
       "      <td>NaN</td>\n",
       "      <td>('Godsunchained', '40925443.0')</td>\n",
       "      <td>Godsunchained</td>\n",
       "      <td>Games</td>\n",
       "      <td>4</td>\n",
       "    </tr>\n",
       "    <tr>\n",
       "      <th>5</th>\n",
       "      <td>NaN</td>\n",
       "      <td>43107083.0</td>\n",
       "      <td>0x986ecc59dc28e84ad987a52e4a4fdade67d1fbb5f81b...</td>\n",
       "      <td>0x76481caa104b5f6bccb540dae4cefaf1c398ebea</td>\n",
       "      <td>NaN</td>\n",
       "      <td>0x2c00d05ff7ffe93d77145dfe12aa56e622ae6f40</td>\n",
       "      <td>NaN</td>\n",
       "      <td>https://card.godsunchained.com/?id=116&amp;q=4</td>\n",
       "      <td>NaN</td>\n",
       "      <td>NaN</td>\n",
       "      <td>...</td>\n",
       "      <td>NaN</td>\n",
       "      <td>Godsunchained</td>\n",
       "      <td>Godsunchained</td>\n",
       "      <td>2019-11-30 00:00:00</td>\n",
       "      <td>2019-11-30 23:58:44</td>\n",
       "      <td>NaN</td>\n",
       "      <td>('Godsunchained', '43107083.0')</td>\n",
       "      <td>Godsunchained</td>\n",
       "      <td>Games</td>\n",
       "      <td>5</td>\n",
       "    </tr>\n",
       "    <tr>\n",
       "      <th>6</th>\n",
       "      <td>NaN</td>\n",
       "      <td>7713824.0</td>\n",
       "      <td>0x72c1bfec2a020b5cb55ee3fc2f8ae1e66568ec881f62...</td>\n",
       "      <td>0x76481caa104b5f6bccb540dae4cefaf1c398ebea</td>\n",
       "      <td>NaN</td>\n",
       "      <td>0x2c00d05ff7ffe93d77145dfe12aa56e622ae6f40</td>\n",
       "      <td>NaN</td>\n",
       "      <td>https://card.godsunchained.com/?id=190&amp;q=4</td>\n",
       "      <td>NaN</td>\n",
       "      <td>NaN</td>\n",
       "      <td>...</td>\n",
       "      <td>NaN</td>\n",
       "      <td>Godsunchained</td>\n",
       "      <td>Godsunchained</td>\n",
       "      <td>2019-11-30 00:00:00</td>\n",
       "      <td>2019-11-30 23:58:44</td>\n",
       "      <td>NaN</td>\n",
       "      <td>('Godsunchained', '7713824.0')</td>\n",
       "      <td>Godsunchained</td>\n",
       "      <td>Games</td>\n",
       "      <td>6</td>\n",
       "    </tr>\n",
       "    <tr>\n",
       "      <th>7</th>\n",
       "      <td>NaN</td>\n",
       "      <td>45951791.0</td>\n",
       "      <td>0x34baab28115bdadbcbc50846220060bb8e516f754c3b...</td>\n",
       "      <td>0x76481caa104b5f6bccb540dae4cefaf1c398ebea</td>\n",
       "      <td>NaN</td>\n",
       "      <td>0x2c00d05ff7ffe93d77145dfe12aa56e622ae6f40</td>\n",
       "      <td>NaN</td>\n",
       "      <td>https://card.godsunchained.com/?id=173&amp;q=4</td>\n",
       "      <td>NaN</td>\n",
       "      <td>NaN</td>\n",
       "      <td>...</td>\n",
       "      <td>NaN</td>\n",
       "      <td>Godsunchained</td>\n",
       "      <td>Godsunchained</td>\n",
       "      <td>2019-11-30 00:00:00</td>\n",
       "      <td>2019-11-30 23:58:44</td>\n",
       "      <td>NaN</td>\n",
       "      <td>('Godsunchained', '45951791.0')</td>\n",
       "      <td>Godsunchained</td>\n",
       "      <td>Games</td>\n",
       "      <td>7</td>\n",
       "    </tr>\n",
       "    <tr>\n",
       "      <th>8</th>\n",
       "      <td>NaN</td>\n",
       "      <td>5400581.0</td>\n",
       "      <td>0xf52ba58317f3ab62fb43da3e9d417fe4fa88bff86d9c...</td>\n",
       "      <td>0x76481caa104b5f6bccb540dae4cefaf1c398ebea</td>\n",
       "      <td>NaN</td>\n",
       "      <td>0x2c5968ee5ce21ad7324c97014fcb99f87f7fec6f</td>\n",
       "      <td>NaN</td>\n",
       "      <td>https://card.godsunchained.com/?id=27&amp;q=4</td>\n",
       "      <td>NaN</td>\n",
       "      <td>NaN</td>\n",
       "      <td>...</td>\n",
       "      <td>NaN</td>\n",
       "      <td>Godsunchained</td>\n",
       "      <td>Godsunchained</td>\n",
       "      <td>2019-11-30 00:00:00</td>\n",
       "      <td>2019-11-30 23:58:28</td>\n",
       "      <td>NaN</td>\n",
       "      <td>('Godsunchained', '5400581.0')</td>\n",
       "      <td>Godsunchained</td>\n",
       "      <td>Games</td>\n",
       "      <td>8</td>\n",
       "    </tr>\n",
       "    <tr>\n",
       "      <th>9</th>\n",
       "      <td>NaN</td>\n",
       "      <td>117891743.0</td>\n",
       "      <td>0xb70b159f02200125a258726694299931a8c69651053d...</td>\n",
       "      <td>0x76481caa104b5f6bccb540dae4cefaf1c398ebea</td>\n",
       "      <td>NaN</td>\n",
       "      <td>0xe0fb7622091e3d9ef9b438471b10b9ea88c7cf6b</td>\n",
       "      <td>NaN</td>\n",
       "      <td>https://card.godsunchained.com/?id=33&amp;q=4</td>\n",
       "      <td>NaN</td>\n",
       "      <td>NaN</td>\n",
       "      <td>...</td>\n",
       "      <td>NaN</td>\n",
       "      <td>Godsunchained</td>\n",
       "      <td>Godsunchained</td>\n",
       "      <td>2019-11-30 00:00:00</td>\n",
       "      <td>2019-11-30 23:57:50</td>\n",
       "      <td>NaN</td>\n",
       "      <td>('Godsunchained', '117891743.0')</td>\n",
       "      <td>Godsunchained</td>\n",
       "      <td>Games</td>\n",
       "      <td>9</td>\n",
       "    </tr>\n",
       "  </tbody>\n",
       "</table>\n",
       "<p>10 rows × 25 columns</p>\n",
       "</div>"
      ],
      "text/plain": [
       "  Smart_contract     ID_token  \\\n",
       "0            NaN   87094722.0   \n",
       "1            NaN   73044643.0   \n",
       "2            NaN   17107482.0   \n",
       "3            NaN   82230857.0   \n",
       "4            NaN   40925443.0   \n",
       "5            NaN   43107083.0   \n",
       "6            NaN    7713824.0   \n",
       "7            NaN   45951791.0   \n",
       "8            NaN    5400581.0   \n",
       "9            NaN  117891743.0   \n",
       "\n",
       "                                    Transaction_hash  \\\n",
       "0  0xed9ff1c311a611e5c457ce0a49bbbb7ed55efca98842...   \n",
       "1  0xbc8412594ffa7382e8306215ece5b4e041fc641b1813...   \n",
       "2  0x92672baf5e9e23de230dee8e57ddf443ab6d5a336341...   \n",
       "3  0x3d157249e3083622c2d756f07a05caa3a76687288b32...   \n",
       "4  0xa892b3569dc8e6b3c7db93aade62372637ebbc61fb63...   \n",
       "5  0x986ecc59dc28e84ad987a52e4a4fdade67d1fbb5f81b...   \n",
       "6  0x72c1bfec2a020b5cb55ee3fc2f8ae1e66568ec881f62...   \n",
       "7  0x34baab28115bdadbcbc50846220060bb8e516f754c3b...   \n",
       "8  0xf52ba58317f3ab62fb43da3e9d417fe4fa88bff86d9c...   \n",
       "9  0xb70b159f02200125a258726694299931a8c69651053d...   \n",
       "\n",
       "                               Seller_address Seller_username  \\\n",
       "0  0x76481caa104b5f6bccb540dae4cefaf1c398ebea             NaN   \n",
       "1  0x76481caa104b5f6bccb540dae4cefaf1c398ebea             NaN   \n",
       "2  0x76481caa104b5f6bccb540dae4cefaf1c398ebea             NaN   \n",
       "3  0x76481caa104b5f6bccb540dae4cefaf1c398ebea             NaN   \n",
       "4  0x76481caa104b5f6bccb540dae4cefaf1c398ebea             NaN   \n",
       "5  0x76481caa104b5f6bccb540dae4cefaf1c398ebea             NaN   \n",
       "6  0x76481caa104b5f6bccb540dae4cefaf1c398ebea             NaN   \n",
       "7  0x76481caa104b5f6bccb540dae4cefaf1c398ebea             NaN   \n",
       "8  0x76481caa104b5f6bccb540dae4cefaf1c398ebea             NaN   \n",
       "9  0x76481caa104b5f6bccb540dae4cefaf1c398ebea             NaN   \n",
       "\n",
       "                                Buyer_address Buyer_username  \\\n",
       "0  0xe0fb7622091e3d9ef9b438471b10b9ea88c7cf6b            NaN   \n",
       "1  0x2c00d05ff7ffe93d77145dfe12aa56e622ae6f40            NaN   \n",
       "2  0xe0fb7622091e3d9ef9b438471b10b9ea88c7cf6b            NaN   \n",
       "3  0x2c00d05ff7ffe93d77145dfe12aa56e622ae6f40            NaN   \n",
       "4  0x2c00d05ff7ffe93d77145dfe12aa56e622ae6f40            NaN   \n",
       "5  0x2c00d05ff7ffe93d77145dfe12aa56e622ae6f40            NaN   \n",
       "6  0x2c00d05ff7ffe93d77145dfe12aa56e622ae6f40            NaN   \n",
       "7  0x2c00d05ff7ffe93d77145dfe12aa56e622ae6f40            NaN   \n",
       "8  0x2c5968ee5ce21ad7324c97014fcb99f87f7fec6f            NaN   \n",
       "9  0xe0fb7622091e3d9ef9b438471b10b9ea88c7cf6b            NaN   \n",
       "\n",
       "                                  Image_url_1 Image_url_2 Image_url_3  ...  \\\n",
       "0   https://card.godsunchained.com/?id=33&q=4         NaN         NaN  ...   \n",
       "1   https://card.godsunchained.com/?id=79&q=4         NaN         NaN  ...   \n",
       "2   https://card.godsunchained.com/?id=33&q=4         NaN         NaN  ...   \n",
       "3  https://card.godsunchained.com/?id=227&q=4         NaN         NaN  ...   \n",
       "4   https://card.godsunchained.com/?id=62&q=4         NaN         NaN  ...   \n",
       "5  https://card.godsunchained.com/?id=116&q=4         NaN         NaN  ...   \n",
       "6  https://card.godsunchained.com/?id=190&q=4         NaN         NaN  ...   \n",
       "7  https://card.godsunchained.com/?id=173&q=4         NaN         NaN  ...   \n",
       "8   https://card.godsunchained.com/?id=27&q=4         NaN         NaN  ...   \n",
       "9   https://card.godsunchained.com/?id=33&q=4         NaN         NaN  ...   \n",
       "\n",
       "  Description     Collection         Market     Datetime_updated  \\\n",
       "0         NaN  Godsunchained  Godsunchained  2019-11-30 00:00:00   \n",
       "1         NaN  Godsunchained  Godsunchained  2019-11-30 00:00:00   \n",
       "2         NaN  Godsunchained  Godsunchained  2019-11-30 00:00:00   \n",
       "3         NaN  Godsunchained  Godsunchained  2019-11-30 00:00:00   \n",
       "4         NaN  Godsunchained  Godsunchained  2019-11-30 00:00:00   \n",
       "5         NaN  Godsunchained  Godsunchained  2019-11-30 00:00:00   \n",
       "6         NaN  Godsunchained  Godsunchained  2019-11-30 00:00:00   \n",
       "7         NaN  Godsunchained  Godsunchained  2019-11-30 00:00:00   \n",
       "8         NaN  Godsunchained  Godsunchained  2019-11-30 00:00:00   \n",
       "9         NaN  Godsunchained  Godsunchained  2019-11-30 00:00:00   \n",
       "\n",
       "  Datetime_updated_seconds Permanent_link              Unique_id_collection  \\\n",
       "0      2019-11-30 23:59:33            NaN   ('Godsunchained', '87094722.0')   \n",
       "1      2019-11-30 23:59:33            NaN   ('Godsunchained', '73044643.0')   \n",
       "2      2019-11-30 23:59:33            NaN   ('Godsunchained', '17107482.0')   \n",
       "3      2019-11-30 23:59:33            NaN   ('Godsunchained', '82230857.0')   \n",
       "4      2019-11-30 23:58:44            NaN   ('Godsunchained', '40925443.0')   \n",
       "5      2019-11-30 23:58:44            NaN   ('Godsunchained', '43107083.0')   \n",
       "6      2019-11-30 23:58:44            NaN    ('Godsunchained', '7713824.0')   \n",
       "7      2019-11-30 23:58:44            NaN   ('Godsunchained', '45951791.0')   \n",
       "8      2019-11-30 23:58:28            NaN    ('Godsunchained', '5400581.0')   \n",
       "9      2019-11-30 23:57:50            NaN  ('Godsunchained', '117891743.0')   \n",
       "\n",
       "  Collection_cleaned Category index  \n",
       "0      Godsunchained    Games     0  \n",
       "1      Godsunchained    Games     1  \n",
       "2      Godsunchained    Games     2  \n",
       "3      Godsunchained    Games     3  \n",
       "4      Godsunchained    Games     4  \n",
       "5      Godsunchained    Games     5  \n",
       "6      Godsunchained    Games     6  \n",
       "7      Godsunchained    Games     7  \n",
       "8      Godsunchained    Games     8  \n",
       "9      Godsunchained    Games     9  \n",
       "\n",
       "[10 rows x 25 columns]"
      ]
     },
     "execution_count": 28,
     "metadata": {},
     "output_type": "execute_result"
    }
   ],
   "source": [
    "cheap_nft = df.loc[(df['Price_USD'] <= 10)]\n",
    "cheap_nft.head(10)"
   ]
  },
  {
   "cell_type": "code",
   "execution_count": 29,
   "id": "c96a9b6d-05b7-4320-99e2-ec37fb363e42",
   "metadata": {},
   "outputs": [
    {
     "data": {
      "text/plain": [
       "3702979"
      ]
     },
     "execution_count": 29,
     "metadata": {},
     "output_type": "execute_result"
    }
   ],
   "source": [
    "len(cheap_nft)"
   ]
  },
  {
   "cell_type": "code",
   "execution_count": 30,
   "id": "e9f07ba4-bd89-40c4-888b-f74fca16494c",
   "metadata": {},
   "outputs": [
    {
     "data": {
      "text/plain": [
       "<AxesSubplot:xlabel='Price_USD'>"
      ]
     },
     "execution_count": 30,
     "metadata": {},
     "output_type": "execute_result"
    },
    {
     "data": {
      "image/png": "[encoded data removed]",
      "text/plain": [
       "<Figure size 720x576 with 1 Axes>"
      ]
     },
     "metadata": {
      "needs_background": "light"
     },
     "output_type": "display_data"
    }
   ],
   "source": [
    "plt.figure(figsize=(10,8))\n",
    "sns.boxplot(x = 'Price_USD', data = cheap_nft)"
   ]
  },
  {
   "cell_type": "code",
   "execution_count": 31,
   "id": "eda46674-b632-44d8-8823-83aed03aa14d",
   "metadata": {},
   "outputs": [
    {
     "data": {
      "text/plain": [
       "<AxesSubplot:xlabel='Price_USD', ylabel='Count'>"
      ]
     },
     "execution_count": 31,
     "metadata": {},
     "output_type": "execute_result"
    },
    {
     "data": {
      "image/png": "[encoded data removed]",
      "text/plain": [
       "<Figure size 432x288 with 1 Axes>"
      ]
     },
     "metadata": {
      "needs_background": "light"
     },
     "output_type": "display_data"
    }
   ],
   "source": [
    "sns.histplot(data=df, x=\"Price_USD\", bins = 50)"
   ]
  },
  {
   "cell_type": "code",
   "execution_count": 32,
   "id": "e0c323d4-99b9-4588-86d8-2a9d9cc0ae66",
   "metadata": {},
   "outputs": [
    {
     "data": {
      "text/plain": [
       "<AxesSubplot:xlabel='Datetime_updated'>"
      ]
     },
     "execution_count": 32,
     "metadata": {},
     "output_type": "execute_result"
    },
    {
     "data": {
      "image/png": "[encoded data removed]",
      "text/plain": [
       "<Figure size 1080x720 with 1 Axes>"
      ]
     },
     "metadata": {
      "needs_background": "light"
     },
     "output_type": "display_data"
    }
   ],
   "source": [
    "df.plot( 'Datetime_updated' , 'Price_USD', figsize=(15, 10) )"
   ]
  },
  {
   "cell_type": "code",
   "execution_count": 33,
   "id": "2e65de57-6123-44e0-8a98-f3c8a1d6c6a5",
   "metadata": {},
   "outputs": [],
   "source": [
    "df['Log_Price_USD'] = np.log(df['Price_USD'])"
   ]
  },
  {
   "cell_type": "code",
   "execution_count": 34,
   "id": "e57d1138-7ab4-45f6-a28e-a1a86959e038",
   "metadata": {},
   "outputs": [
    {
     "data": {
      "text/plain": [
       "<AxesSubplot:xlabel='Log_Price_USD'>"
      ]
     },
     "execution_count": 34,
     "metadata": {},
     "output_type": "execute_result"
    },
    {
     "data": {
      "image/png": "[encoded data removed]",
      "text/plain": [
       "<Figure size 432x288 with 1 Axes>"
      ]
     },
     "metadata": {
      "needs_background": "light"
     },
     "output_type": "display_data"
    }
   ],
   "source": [
    "sns.boxplot(x = 'Log_Price_USD', data = df)"
   ]
  },
  {
   "cell_type": "code",
   "execution_count": 35,
   "id": "9cae4916-f5ee-45bd-8479-00ba4a6097ef",
   "metadata": {},
   "outputs": [
    {
     "data": {
      "text/plain": [
       "<AxesSubplot:xlabel='Log_Price_USD', ylabel='Count'>"
      ]
     },
     "execution_count": 35,
     "metadata": {},
     "output_type": "execute_result"
    },
    {
     "data": {
      "image/png": "[encoded data removed]",
      "text/plain": [
       "<Figure size 432x288 with 1 Axes>"
      ]
     },
     "metadata": {
      "needs_background": "light"
     },
     "output_type": "display_data"
    }
   ],
   "source": [
    "sns.histplot(data=df, x=\"Log_Price_USD\", bins = 50)"
   ]
  },
  {
   "cell_type": "code",
   "execution_count": 36,
   "id": "5df4d3bb-1dad-4f17-b278-6a5150a3ad9e",
   "metadata": {},
   "outputs": [
    {
     "data": {
      "text/plain": [
       "<AxesSubplot:xlabel='Datetime_updated'>"
      ]
     },
     "execution_count": 36,
     "metadata": {},
     "output_type": "execute_result"
    },
    {
     "data": {
      "image/png": "[encoded data removed]",
      "text/plain": [
       "<Figure size 1080x720 with 1 Axes>"
      ]
     },
     "metadata": {
      "needs_background": "light"
     },
     "output_type": "display_data"
    }
   ],
   "source": [
    "df.plot( 'Datetime_updated' , 'Log_Price_USD', figsize=(15, 10) )"
   ]
  },
  {
   "cell_type": "markdown",
   "id": "fd4a1035-3cf2-4971-b071-7206e49e6c82",
   "metadata": {},
   "source": [
    "### EDA - Price Crypto"
   ]
  },
  {
   "cell_type": "code",
   "execution_count": 37,
   "id": "c6b1d456-8219-4319-a63d-ec50e7ddea79",
   "metadata": {},
   "outputs": [
    {
     "data": {
      "text/plain": [
       "<AxesSubplot:xlabel='Price_Crypto'>"
      ]
     },
     "execution_count": 37,
     "metadata": {},
     "output_type": "execute_result"
    },
    {
     "data": {
      "image/png": "[encoded data removed]",
      "text/plain": [
       "<Figure size 432x288 with 1 Axes>"
      ]
     },
     "metadata": {
      "needs_background": "light"
     },
     "output_type": "display_data"
    }
   ],
   "source": [
    "sns.boxplot(x = 'Price_Crypto', data = df)"
   ]
  },
  {
   "cell_type": "code",
   "execution_count": 38,
   "id": "25ea75ef-a9b8-4b49-b940-49678dd90b0c",
   "metadata": {},
   "outputs": [
    {
     "data": {
      "text/plain": [
       "<AxesSubplot:xlabel='Price_Crypto', ylabel='Count'>"
      ]
     },
     "execution_count": 38,
     "metadata": {},
     "output_type": "execute_result"
    },
    {
     "data": {
      "image/png": "[encoded data removed]",
      "text/plain": [
       "<Figure size 432x288 with 1 Axes>"
      ]
     },
     "metadata": {
      "needs_background": "light"
     },
     "output_type": "display_data"
    }
   ],
   "source": [
    "sns.histplot(data=df, x=\"Price_Crypto\", bins = 50)"
   ]
  },
  {
   "cell_type": "code",
   "execution_count": 39,
   "id": "a756aafa-2ba9-4136-a203-84a61332f9b8",
   "metadata": {},
   "outputs": [
    {
     "data": {
      "text/plain": [
       "<AxesSubplot:xlabel='Datetime_updated'>"
      ]
     },
     "execution_count": 39,
     "metadata": {},
     "output_type": "execute_result"
    },
    {
     "data": {
      "image/png": "[encoded data removed]",
      "text/plain": [
       "<Figure size 1080x720 with 1 Axes>"
      ]
     },
     "metadata": {
      "needs_background": "light"
     },
     "output_type": "display_data"
    }
   ],
   "source": [
    "df.plot( 'Datetime_updated' , 'Price_Crypto', figsize=(15, 10) )"
   ]
  },
  {
   "cell_type": "code",
   "execution_count": 41,
   "id": "0f484c03-846f-4033-b5a2-9da9f22604c1",
   "metadata": {},
   "outputs": [],
   "source": [
    "np.seterr(divide = 'ignore') \n",
    "df['Log_Price_Crypto'] = np.log(df['Price_Crypto'])"
   ]
  },
  {
   "cell_type": "code",
   "execution_count": 42,
   "id": "1c5044d4-9e97-425e-9e7d-19e83893aced",
   "metadata": {},
   "outputs": [
    {
     "data": {
      "text/plain": [
       "<AxesSubplot:xlabel='Log_Price_Crypto'>"
      ]
     },
     "execution_count": 42,
     "metadata": {},
     "output_type": "execute_result"
    },
    {
     "data": {
      "image/png": "[encoded data removed]",
      "text/plain": [
       "<Figure size 432x288 with 1 Axes>"
      ]
     },
     "metadata": {
      "needs_background": "light"
     },
     "output_type": "display_data"
    }
   ],
   "source": [
    "sns.boxplot(x = 'Log_Price_Crypto', data = df)"
   ]
  },
  {
   "cell_type": "code",
   "execution_count": 43,
   "id": "68486ffa-9506-402e-a764-d83df5d8bdc6",
   "metadata": {},
   "outputs": [
    {
     "data": {
      "text/plain": [
       "<AxesSubplot:xlabel='Log_Price_Crypto', ylabel='Count'>"
      ]
     },
     "execution_count": 43,
     "metadata": {},
     "output_type": "execute_result"
    },
    {
     "data": {
      "image/png": "[encoded data removed]",
      "text/plain": [
       "<Figure size 432x288 with 1 Axes>"
      ]
     },
     "metadata": {
      "needs_background": "light"
     },
     "output_type": "display_data"
    }
   ],
   "source": [
    "sns.histplot(data=df, x=\"Log_Price_Crypto\", bins = 50)"
   ]
  },
  {
   "cell_type": "code",
   "execution_count": 44,
   "id": "649fde15-4359-4487-b278-a1b59a5b597f",
   "metadata": {},
   "outputs": [
    {
     "data": {
      "text/plain": [
       "<AxesSubplot:xlabel='Datetime_updated'>"
      ]
     },
     "execution_count": 44,
     "metadata": {},
     "output_type": "execute_result"
    },
    {
     "data": {
      "image/png": "[encoded data removed]",
      "text/plain": [
       "<Figure size 1080x720 with 1 Axes>"
      ]
     },
     "metadata": {
      "needs_background": "light"
     },
     "output_type": "display_data"
    }
   ],
   "source": [
    "df.plot( 'Datetime_updated' , 'Log_Price_Crypto', figsize=(15, 10) )"
   ]
  },
  {
   "cell_type": "code",
   "execution_count": 45,
   "id": "fb2deab3-e56a-4f5a-8578-219cb4cee90d",
   "metadata": {},
   "outputs": [
    {
     "data": {
      "text/plain": [
       "{'divide': 'ignore', 'over': 'warn', 'under': 'ignore', 'invalid': 'warn'}"
      ]
     },
     "execution_count": 45,
     "metadata": {},
     "output_type": "execute_result"
    }
   ],
   "source": [
    "np.seterr(divide = 'warn') "
   ]
  },
  {
   "cell_type": "markdown",
   "id": "9e49e8ed-b81b-4c01-91f4-f1255b2baa24",
   "metadata": {},
   "source": [
    "### EDA - Date"
   ]
  },
  {
   "cell_type": "code",
   "execution_count": 46,
   "id": "8f8e0d6a-dd40-49f9-b293-7ad35983aa18",
   "metadata": {},
   "outputs": [],
   "source": [
    "df['Date'] = pd.to_datetime(df['Datetime_updated'])"
   ]
  },
  {
   "cell_type": "code",
   "execution_count": 47,
   "id": "6b720f20-0411-4ac0-baa5-9855d1b34610",
   "metadata": {},
   "outputs": [],
   "source": [
    "df['Year'] = pd.DatetimeIndex(df['Date']).year\n",
    "df['Month'] = pd.DatetimeIndex(df['Date']).month"
   ]
  },
  {
   "cell_type": "code",
   "execution_count": 48,
   "id": "f52486fe-3e60-46f6-9659-4fed34ffd2b4",
   "metadata": {},
   "outputs": [],
   "source": [
    "df['Year'] = np.nan_to_num(df['Year']).astype(int)\n",
    "df['Month'] = np.nan_to_num(df['Month']).astype(int)"
   ]
  },
  {
   "cell_type": "code",
   "execution_count": 49,
   "id": "b31cc2af-fdc0-47cf-b051-4478c770b26c",
   "metadata": {},
   "outputs": [
    {
     "data": {
      "text/html": [
       "<div>\n",
       "<style scoped>\n",
       "    .dataframe tbody tr th:only-of-type {\n",
       "        vertical-align: middle;\n",
       "    }\n",
       "\n",
       "    .dataframe tbody tr th {\n",
       "        vertical-align: top;\n",
       "    }\n",
       "\n",
       "    .dataframe thead th {\n",
       "        text-align: right;\n",
       "    }\n",
       "</style>\n",
       "<table border=\"1\" class=\"dataframe\">\n",
       "  <thead>\n",
       "    <tr style=\"text-align: right;\">\n",
       "      <th></th>\n",
       "      <th>Smart_contract</th>\n",
       "      <th>ID_token</th>\n",
       "      <th>Transaction_hash</th>\n",
       "      <th>Seller_address</th>\n",
       "      <th>Seller_username</th>\n",
       "      <th>Buyer_address</th>\n",
       "      <th>Buyer_username</th>\n",
       "      <th>Image_url_1</th>\n",
       "      <th>Image_url_2</th>\n",
       "      <th>Image_url_3</th>\n",
       "      <th>...</th>\n",
       "      <th>Permanent_link</th>\n",
       "      <th>Unique_id_collection</th>\n",
       "      <th>Collection_cleaned</th>\n",
       "      <th>Category</th>\n",
       "      <th>index</th>\n",
       "      <th>Log_Price_USD</th>\n",
       "      <th>Log_Price_Crypto</th>\n",
       "      <th>Date</th>\n",
       "      <th>Year</th>\n",
       "      <th>Month</th>\n",
       "    </tr>\n",
       "  </thead>\n",
       "  <tbody>\n",
       "    <tr>\n",
       "      <th>0</th>\n",
       "      <td>NaN</td>\n",
       "      <td>87094722.0</td>\n",
       "      <td>0xed9ff1c311a611e5c457ce0a49bbbb7ed55efca98842...</td>\n",
       "      <td>0x76481caa104b5f6bccb540dae4cefaf1c398ebea</td>\n",
       "      <td>NaN</td>\n",
       "      <td>0xe0fb7622091e3d9ef9b438471b10b9ea88c7cf6b</td>\n",
       "      <td>NaN</td>\n",
       "      <td>https://card.godsunchained.com/?id=33&amp;q=4</td>\n",
       "      <td>NaN</td>\n",
       "      <td>NaN</td>\n",
       "      <td>...</td>\n",
       "      <td>NaN</td>\n",
       "      <td>('Godsunchained', '87094722.0')</td>\n",
       "      <td>Godsunchained</td>\n",
       "      <td>Games</td>\n",
       "      <td>0</td>\n",
       "      <td>-3.496014</td>\n",
       "      <td>-8.517193</td>\n",
       "      <td>2019-11-30</td>\n",
       "      <td>2019</td>\n",
       "      <td>11</td>\n",
       "    </tr>\n",
       "    <tr>\n",
       "      <th>1</th>\n",
       "      <td>NaN</td>\n",
       "      <td>73044643.0</td>\n",
       "      <td>0xbc8412594ffa7382e8306215ece5b4e041fc641b1813...</td>\n",
       "      <td>0x76481caa104b5f6bccb540dae4cefaf1c398ebea</td>\n",
       "      <td>NaN</td>\n",
       "      <td>0x2c00d05ff7ffe93d77145dfe12aa56e622ae6f40</td>\n",
       "      <td>NaN</td>\n",
       "      <td>https://card.godsunchained.com/?id=79&amp;q=4</td>\n",
       "      <td>NaN</td>\n",
       "      <td>NaN</td>\n",
       "      <td>...</td>\n",
       "      <td>NaN</td>\n",
       "      <td>('Godsunchained', '73044643.0')</td>\n",
       "      <td>Godsunchained</td>\n",
       "      <td>Games</td>\n",
       "      <td>1</td>\n",
       "      <td>-1.624212</td>\n",
       "      <td>-6.645391</td>\n",
       "      <td>2019-11-30</td>\n",
       "      <td>2019</td>\n",
       "      <td>11</td>\n",
       "    </tr>\n",
       "    <tr>\n",
       "      <th>2</th>\n",
       "      <td>NaN</td>\n",
       "      <td>17107482.0</td>\n",
       "      <td>0x92672baf5e9e23de230dee8e57ddf443ab6d5a336341...</td>\n",
       "      <td>0x76481caa104b5f6bccb540dae4cefaf1c398ebea</td>\n",
       "      <td>NaN</td>\n",
       "      <td>0xe0fb7622091e3d9ef9b438471b10b9ea88c7cf6b</td>\n",
       "      <td>NaN</td>\n",
       "      <td>https://card.godsunchained.com/?id=33&amp;q=4</td>\n",
       "      <td>NaN</td>\n",
       "      <td>NaN</td>\n",
       "      <td>...</td>\n",
       "      <td>NaN</td>\n",
       "      <td>('Godsunchained', '17107482.0')</td>\n",
       "      <td>Godsunchained</td>\n",
       "      <td>Games</td>\n",
       "      <td>2</td>\n",
       "      <td>-3.496014</td>\n",
       "      <td>-8.517193</td>\n",
       "      <td>2019-11-30</td>\n",
       "      <td>2019</td>\n",
       "      <td>11</td>\n",
       "    </tr>\n",
       "    <tr>\n",
       "      <th>3</th>\n",
       "      <td>NaN</td>\n",
       "      <td>82230857.0</td>\n",
       "      <td>0x3d157249e3083622c2d756f07a05caa3a76687288b32...</td>\n",
       "      <td>0x76481caa104b5f6bccb540dae4cefaf1c398ebea</td>\n",
       "      <td>NaN</td>\n",
       "      <td>0x2c00d05ff7ffe93d77145dfe12aa56e622ae6f40</td>\n",
       "      <td>NaN</td>\n",
       "      <td>https://card.godsunchained.com/?id=227&amp;q=4</td>\n",
       "      <td>NaN</td>\n",
       "      <td>NaN</td>\n",
       "      <td>...</td>\n",
       "      <td>NaN</td>\n",
       "      <td>('Godsunchained', '82230857.0')</td>\n",
       "      <td>Godsunchained</td>\n",
       "      <td>Games</td>\n",
       "      <td>3</td>\n",
       "      <td>-1.098118</td>\n",
       "      <td>-6.119298</td>\n",
       "      <td>2019-11-30</td>\n",
       "      <td>2019</td>\n",
       "      <td>11</td>\n",
       "    </tr>\n",
       "    <tr>\n",
       "      <th>4</th>\n",
       "      <td>NaN</td>\n",
       "      <td>40925443.0</td>\n",
       "      <td>0xa892b3569dc8e6b3c7db93aade62372637ebbc61fb63...</td>\n",
       "      <td>0x76481caa104b5f6bccb540dae4cefaf1c398ebea</td>\n",
       "      <td>NaN</td>\n",
       "      <td>0x2c00d05ff7ffe93d77145dfe12aa56e622ae6f40</td>\n",
       "      <td>NaN</td>\n",
       "      <td>https://card.godsunchained.com/?id=62&amp;q=4</td>\n",
       "      <td>NaN</td>\n",
       "      <td>NaN</td>\n",
       "      <td>...</td>\n",
       "      <td>NaN</td>\n",
       "      <td>('Godsunchained', '40925443.0')</td>\n",
       "      <td>Godsunchained</td>\n",
       "      <td>Games</td>\n",
       "      <td>4</td>\n",
       "      <td>-1.704254</td>\n",
       "      <td>-6.725434</td>\n",
       "      <td>2019-11-30</td>\n",
       "      <td>2019</td>\n",
       "      <td>11</td>\n",
       "    </tr>\n",
       "  </tbody>\n",
       "</table>\n",
       "<p>5 rows × 30 columns</p>\n",
       "</div>"
      ],
      "text/plain": [
       "  Smart_contract    ID_token  \\\n",
       "0            NaN  87094722.0   \n",
       "1            NaN  73044643.0   \n",
       "2            NaN  17107482.0   \n",
       "3            NaN  82230857.0   \n",
       "4            NaN  40925443.0   \n",
       "\n",
       "                                    Transaction_hash  \\\n",
       "0  0xed9ff1c311a611e5c457ce0a49bbbb7ed55efca98842...   \n",
       "1  0xbc8412594ffa7382e8306215ece5b4e041fc641b1813...   \n",
       "2  0x92672baf5e9e23de230dee8e57ddf443ab6d5a336341...   \n",
       "3  0x3d157249e3083622c2d756f07a05caa3a76687288b32...   \n",
       "4  0xa892b3569dc8e6b3c7db93aade62372637ebbc61fb63...   \n",
       "\n",
       "                               Seller_address Seller_username  \\\n",
       "0  0x76481caa104b5f6bccb540dae4cefaf1c398ebea             NaN   \n",
       "1  0x76481caa104b5f6bccb540dae4cefaf1c398ebea             NaN   \n",
       "2  0x76481caa104b5f6bccb540dae4cefaf1c398ebea             NaN   \n",
       "3  0x76481caa104b5f6bccb540dae4cefaf1c398ebea             NaN   \n",
       "4  0x76481caa104b5f6bccb540dae4cefaf1c398ebea             NaN   \n",
       "\n",
       "                                Buyer_address Buyer_username  \\\n",
       "0  0xe0fb7622091e3d9ef9b438471b10b9ea88c7cf6b            NaN   \n",
       "1  0x2c00d05ff7ffe93d77145dfe12aa56e622ae6f40            NaN   \n",
       "2  0xe0fb7622091e3d9ef9b438471b10b9ea88c7cf6b            NaN   \n",
       "3  0x2c00d05ff7ffe93d77145dfe12aa56e622ae6f40            NaN   \n",
       "4  0x2c00d05ff7ffe93d77145dfe12aa56e622ae6f40            NaN   \n",
       "\n",
       "                                  Image_url_1 Image_url_2 Image_url_3  ...  \\\n",
       "0   https://card.godsunchained.com/?id=33&q=4         NaN         NaN  ...   \n",
       "1   https://card.godsunchained.com/?id=79&q=4         NaN         NaN  ...   \n",
       "2   https://card.godsunchained.com/?id=33&q=4         NaN         NaN  ...   \n",
       "3  https://card.godsunchained.com/?id=227&q=4         NaN         NaN  ...   \n",
       "4   https://card.godsunchained.com/?id=62&q=4         NaN         NaN  ...   \n",
       "\n",
       "  Permanent_link             Unique_id_collection Collection_cleaned  \\\n",
       "0            NaN  ('Godsunchained', '87094722.0')      Godsunchained   \n",
       "1            NaN  ('Godsunchained', '73044643.0')      Godsunchained   \n",
       "2            NaN  ('Godsunchained', '17107482.0')      Godsunchained   \n",
       "3            NaN  ('Godsunchained', '82230857.0')      Godsunchained   \n",
       "4            NaN  ('Godsunchained', '40925443.0')      Godsunchained   \n",
       "\n",
       "   Category index Log_Price_USD Log_Price_Crypto       Date  Year Month  \n",
       "0     Games     0     -3.496014        -8.517193 2019-11-30  2019    11  \n",
       "1     Games     1     -1.624212        -6.645391 2019-11-30  2019    11  \n",
       "2     Games     2     -3.496014        -8.517193 2019-11-30  2019    11  \n",
       "3     Games     3     -1.098118        -6.119298 2019-11-30  2019    11  \n",
       "4     Games     4     -1.704254        -6.725434 2019-11-30  2019    11  \n",
       "\n",
       "[5 rows x 30 columns]"
      ]
     },
     "execution_count": 49,
     "metadata": {},
     "output_type": "execute_result"
    }
   ],
   "source": [
    "df.head()"
   ]
  },
  {
   "cell_type": "code",
   "execution_count": 50,
   "id": "2b25f8a3-dfa5-4cb9-a9af-9408b25934fb",
   "metadata": {},
   "outputs": [],
   "source": [
    "df['Year'] = df['Year'].astype(str)\n",
    "df['Year'] = df['Year'].replace('0', np.nan)\n",
    "df['Month'] = df['Month'].astype(int)\n",
    "df['Month'] = df['Month'].replace('0', np.nan)"
   ]
  },
  {
   "cell_type": "code",
   "execution_count": 51,
   "id": "4cff2b5f-5612-4ad3-92a4-b64e4d96d45a",
   "metadata": {},
   "outputs": [
    {
     "data": {
      "text/plain": [
       "array(['2019', '2020', '2021', '2017', '2018', nan], dtype=object)"
      ]
     },
     "execution_count": 51,
     "metadata": {},
     "output_type": "execute_result"
    }
   ],
   "source": [
    "df['Year'].unique()"
   ]
  },
  {
   "cell_type": "code",
   "execution_count": 52,
   "id": "1ddfc0fc-5674-40f6-aa5b-05253e3ae63c",
   "metadata": {},
   "outputs": [],
   "source": [
    "df['Year'] = pd.Categorical(df['Year'], ['2017','2018','2019','2020','2021'])"
   ]
  },
  {
   "cell_type": "code",
   "execution_count": 53,
   "id": "275fc4bf-da9e-4c65-ba74-3932c6aa9686",
   "metadata": {},
   "outputs": [
    {
     "data": {
      "text/plain": [
       "array([11, 12,  1,  2,  3,  4,  5,  6,  7,  8,  9, 10,  0])"
      ]
     },
     "execution_count": 53,
     "metadata": {},
     "output_type": "execute_result"
    }
   ],
   "source": [
    "df['Month'].unique()"
   ]
  },
  {
   "cell_type": "code",
   "execution_count": 54,
   "id": "aa2b6ecd-1341-474e-bc7f-efee98230e26",
   "metadata": {},
   "outputs": [
    {
     "data": {
      "text/plain": [
       "<AxesSubplot:xlabel='Year', ylabel='Count'>"
      ]
     },
     "execution_count": 54,
     "metadata": {},
     "output_type": "execute_result"
    },
    {
     "data": {
      "image/png": "[encoded data removed]",
      "text/plain": [
       "<Figure size 432x288 with 1 Axes>"
      ]
     },
     "metadata": {
      "needs_background": "light"
     },
     "output_type": "display_data"
    }
   ],
   "source": [
    "sns.histplot(data=df, x=\"Year\", bins = 6)"
   ]
  },
  {
   "cell_type": "markdown",
   "id": "682c8f26-5364-48ec-b8e4-a45d599c231e",
   "metadata": {},
   "source": [
    "### Buyer/Seller Network EDA\n",
    "- Seller_address & Buyer_address"
   ]
  },
  {
   "cell_type": "code",
   "execution_count": 55,
   "id": "f0366d94-3095-4c9c-8139-0b1df2da0491",
   "metadata": {},
   "outputs": [],
   "source": [
    "# creates dictionary objects to reresent the relations for a given seller/buyer\n",
    "    # based on the listed seller/buyer in a single transaction (row)\n",
    "# ie seller1 = {buyer1, buyer2, buyer3}\n",
    "# ie buyer87 = {seller34,seller61,seller40}\n",
    "\n",
    "# also includes same logic for transaction seller/buyer category\n",
    "\n",
    "sellerBuyers = defaultdict(list)\n",
    "buyerSellers = defaultdict(list)\n",
    "sellerCategory = defaultdict(list)\n",
    "buyerCategory = defaultdict(list)\n",
    "\n",
    "seller,buyer,category = df['Seller_address'],df['Buyer_address'],df['Category']\n",
    "\n",
    "for i in range(0,len(df)):\n",
    "    sellerBuyers[seller[i]].append(buyer[i])\n",
    "    buyerSellers[buyer[i]].append(seller[i])\n",
    "    sellerCategory[seller[i]].append(category[i])\n",
    "    buyerCategory[buyer[i]].append(category[i])"
   ]
  },
  {
   "cell_type": "code",
   "execution_count": 56,
   "id": "8872f897-ddb7-45bc-b65b-1bbd907652da",
   "metadata": {},
   "outputs": [
    {
     "data": {
      "text/plain": [
       "0x76481caa104b5f6bccb540dae4cefaf1c398ebea    192586\n",
       "0xfc624f8f58db41bdb95aedee1de3c1cf047105f1     36447\n",
       "0x4fabda075e15e9245ed7cfb5db398b4683bfcf54     34696\n",
       "0x4ef40d1bf0983899892946830abf99eca2dbc5ce     28600\n",
       "yqzam.wam                                      27675\n",
       "0xa21037849678af57f9865c6b9887f4e339f6377a     24732\n",
       "0xb367b96bd9af396dc5281cfdcd9e9571f670832f     17478\n",
       "52cbg.wam                                      16551\n",
       "pmmqy.wam                                      16501\n",
       "0x09191d18729da57a83a9afc8ace0c8d7d104e118     15441\n",
       "Name: Seller_address, dtype: int64"
      ]
     },
     "execution_count": 56,
     "metadata": {},
     "output_type": "execute_result"
    }
   ],
   "source": [
    "# get top 10 sellers - can change amount by adjusting index value\n",
    "# this step will still sort sellers from most to least\n",
    "top_sellers_counts = df['Seller_address'].value_counts()[:10] #can update value HERE\n",
    "top_sellers = top_sellers_counts.index.tolist()\n",
    "top_sellers_counts"
   ]
  },
  {
   "cell_type": "code",
   "execution_count": 57,
   "id": "4c27a3be-8c09-409b-8218-871c1bd4f5f9",
   "metadata": {},
   "outputs": [
    {
     "data": {
      "text/plain": [
       "unbaw.wam                                     16793\n",
       "twmqw.wam                                     16263\n",
       "0x9e6e344f94305d36ea59912b0911fe2c9149ed3e    16224\n",
       "contractwork                                  14593\n",
       "0x0008d343091ef8bd3efa730f6aae5a26a285c7a2    14007\n",
       "ruk12.wam                                     11718\n",
       "cneba.wam                                     11164\n",
       "axvqu.wam                                     10678\n",
       "svwqu.wam                                     10616\n",
       "fvfqu.wam                                     10338\n",
       "Name: Buyer_address, dtype: int64"
      ]
     },
     "execution_count": 57,
     "metadata": {},
     "output_type": "execute_result"
    }
   ],
   "source": [
    "# get top 10 buyers - can change amount by adjusting index value\n",
    "# this step will still sort buyers from most to least\n",
    "top_buyers_counts = df['Buyer_address'].value_counts()[:10] #can update value HERE\n",
    "top_buyers = top_buyers_counts.index.tolist()\n",
    "top_buyers_counts"
   ]
  },
  {
   "cell_type": "code",
   "execution_count": 58,
   "id": "45f66728-8d4a-4d56-a105-9fdfe3188461",
   "metadata": {},
   "outputs": [],
   "source": [
    "# further index to top #1 seller/buyer\n",
    "top_sellers_counts = df['Seller_address'].value_counts()[:1]\n",
    "top_sellers = top_sellers_counts.index.tolist()\n",
    "\n",
    "top_buyers_counts = df['Buyer_address'].value_counts()[:1]\n",
    "top_buyers = top_buyers_counts.index.tolist()"
   ]
  },
  {
   "cell_type": "code",
   "execution_count": 59,
   "id": "067f8597-fe9d-46f0-b63f-d9bb2d159298",
   "metadata": {},
   "outputs": [
    {
     "data": {
      "text/plain": [
       "k4wbu.wam                                     15\n",
       "0xd2541dcff5ac62d5addccd0d43537c3b834260b3    15\n",
       "0x0ecca7629598754ccf905ce93b4fe33f04e7981b    15\n",
       "tysb4.wam                                     15\n",
       "0x3adaeb158e834771c74fd413bb3b9bb236d2354a    15\n",
       "0xe756fb92822a86dc497655fb58588d21d9dda69a    15\n",
       "j.h5a.wam                                     15\n",
       "u.fr.wam                                      15\n",
       "1utay.wam                                     15\n",
       "nejqy.wam                                     15\n",
       "Name: Seller_address, dtype: int64"
      ]
     },
     "execution_count": 59,
     "metadata": {},
     "output_type": "execute_result"
    }
   ],
   "source": [
    "# gets bottom 10 sellers - can change amount by adjusting index value\n",
    "# this step will still sort sellers from least to most\n",
    "#bottom_sellers_counts = df['Seller_address'].value_counts()[-10:] #can update HERE\n",
    "\n",
    "# gets middle value sellers (more than just one connection - for current network viz)\n",
    "    # did not update variable name or ease in following code\n",
    "bottom_sellers_counts = df['Seller_address'].value_counts()[25001:25011] #can update HERE\n",
    "bottom_sellers = bottom_sellers_counts.index.tolist()\n",
    "bottom_sellers_counts"
   ]
  },
  {
   "cell_type": "code",
   "execution_count": 60,
   "id": "50aaf2e7-bc9e-484d-ba80-2ff2b0fbc165",
   "metadata": {},
   "outputs": [
    {
     "data": {
      "text/plain": [
       "0x7f1c76b772ca7adb2f443037c342c21ecf8b9e59    17\n",
       "2vgbc.wam                                     17\n",
       "jvvry.wam                                     17\n",
       "3.hr.wam                                      17\n",
       "jb1qy.wam                                     17\n",
       "0x3ba2635c7acc7a6ed1b0cd3af2fc50d08b354ec5    17\n",
       "0x0017717025a85c22dff981f86f6728289fbd4619    17\n",
       "t3cbi.wam                                     17\n",
       "bimr.wam                                      17\n",
       "oreba.wam                                     17\n",
       "Name: Buyer_address, dtype: int64"
      ]
     },
     "execution_count": 60,
     "metadata": {},
     "output_type": "execute_result"
    }
   ],
   "source": [
    "# gets bottom 10 buyers - can change amount by adjusting index value\n",
    "# this step will still sort buyers from least to most\n",
    "#bottom_buyers_counts = df['Buyer_address'].value_counts()[-10:] #can update HERE\n",
    "\n",
    "# gets middle value buyers (more than just one connection - for current network viz)\n",
    "    # did not update variable name or ease in following code\n",
    "bottom_buyers_counts = df['Buyer_address'].value_counts()[25001:25011] #can update HERE\n",
    "bottom_buyers = bottom_buyers_counts.index.tolist()\n",
    "bottom_buyers_counts"
   ]
  },
  {
   "cell_type": "code",
   "execution_count": 61,
   "id": "987b646c-d97c-4ad0-ac61-609101ab483b",
   "metadata": {},
   "outputs": [],
   "source": [
    "# builds a df for network structure\n",
    "    # each row represents a single seller/buyer relation\n",
    "\n",
    "from_list = []\n",
    "to_list = []\n",
    "category = []\n",
    "size = []\n",
    "\n",
    "for my_seller in bottom_sellers:\n",
    "#for k,v in productUsers.items():               \n",
    "    #print(\"%s - %s\" % (str(k), str(v)))\n",
    "    #my_from = k\n",
    "    my_from = my_seller\n",
    "    #my_users = v\n",
    "    my_buyers = sellerBuyers[my_seller]\n",
    "    \n",
    "    my_size = len(my_buyers)\n",
    "    seller_categories = sellerCategory[my_seller]\n",
    "    my_category = max(set(seller_categories), key = seller_categories.count)\n",
    "    \n",
    "    for buyer in my_buyers:\n",
    "        my_tos = buyerSellers[buyer]\n",
    "        \n",
    "        for my_to in my_tos:\n",
    "            from_list.append(my_from)\n",
    "            to_list.append(my_to)\n",
    "            category.append(my_category)\n",
    "            size.append(my_size)"
   ]
  },
  {
   "cell_type": "code",
   "execution_count": 62,
   "id": "5e73e32b-d304-4f81-a302-71bc3e5ec88d",
   "metadata": {},
   "outputs": [
    {
     "data": {
      "text/html": [
       "<div>\n",
       "<style scoped>\n",
       "    .dataframe tbody tr th:only-of-type {\n",
       "        vertical-align: middle;\n",
       "    }\n",
       "\n",
       "    .dataframe tbody tr th {\n",
       "        vertical-align: top;\n",
       "    }\n",
       "\n",
       "    .dataframe thead th {\n",
       "        text-align: right;\n",
       "    }\n",
       "</style>\n",
       "<table border=\"1\" class=\"dataframe\">\n",
       "  <thead>\n",
       "    <tr style=\"text-align: right;\">\n",
       "      <th></th>\n",
       "      <th>from</th>\n",
       "      <th>to</th>\n",
       "      <th>category</th>\n",
       "      <th>size</th>\n",
       "    </tr>\n",
       "  </thead>\n",
       "  <tbody>\n",
       "    <tr>\n",
       "      <th>0</th>\n",
       "      <td>k4wbu.wam</td>\n",
       "      <td>uxdbo.wam</td>\n",
       "      <td>Games</td>\n",
       "      <td>15</td>\n",
       "    </tr>\n",
       "    <tr>\n",
       "      <th>1</th>\n",
       "      <td>k4wbu.wam</td>\n",
       "      <td>ixmri.wam</td>\n",
       "      <td>Games</td>\n",
       "      <td>15</td>\n",
       "    </tr>\n",
       "    <tr>\n",
       "      <th>2</th>\n",
       "      <td>k4wbu.wam</td>\n",
       "      <td>d.tru.wam</td>\n",
       "      <td>Games</td>\n",
       "      <td>15</td>\n",
       "    </tr>\n",
       "    <tr>\n",
       "      <th>3</th>\n",
       "      <td>k4wbu.wam</td>\n",
       "      <td>zkrra.wam</td>\n",
       "      <td>Games</td>\n",
       "      <td>15</td>\n",
       "    </tr>\n",
       "    <tr>\n",
       "      <th>4</th>\n",
       "      <td>k4wbu.wam</td>\n",
       "      <td>jtaay.wam</td>\n",
       "      <td>Games</td>\n",
       "      <td>15</td>\n",
       "    </tr>\n",
       "    <tr>\n",
       "      <th>5</th>\n",
       "      <td>k4wbu.wam</td>\n",
       "      <td>15ybm.wam</td>\n",
       "      <td>Games</td>\n",
       "      <td>15</td>\n",
       "    </tr>\n",
       "    <tr>\n",
       "      <th>6</th>\n",
       "      <td>k4wbu.wam</td>\n",
       "      <td>wx3bq.wam</td>\n",
       "      <td>Games</td>\n",
       "      <td>15</td>\n",
       "    </tr>\n",
       "    <tr>\n",
       "      <th>7</th>\n",
       "      <td>k4wbu.wam</td>\n",
       "      <td>5gkre.wam</td>\n",
       "      <td>Games</td>\n",
       "      <td>15</td>\n",
       "    </tr>\n",
       "    <tr>\n",
       "      <th>8</th>\n",
       "      <td>k4wbu.wam</td>\n",
       "      <td>qogbk.wam</td>\n",
       "      <td>Games</td>\n",
       "      <td>15</td>\n",
       "    </tr>\n",
       "    <tr>\n",
       "      <th>9</th>\n",
       "      <td>k4wbu.wam</td>\n",
       "      <td>.5xba.wam</td>\n",
       "      <td>Games</td>\n",
       "      <td>15</td>\n",
       "    </tr>\n",
       "  </tbody>\n",
       "</table>\n",
       "</div>"
      ],
      "text/plain": [
       "        from         to category  size\n",
       "0  k4wbu.wam  uxdbo.wam    Games    15\n",
       "1  k4wbu.wam  ixmri.wam    Games    15\n",
       "2  k4wbu.wam  d.tru.wam    Games    15\n",
       "3  k4wbu.wam  zkrra.wam    Games    15\n",
       "4  k4wbu.wam  jtaay.wam    Games    15\n",
       "5  k4wbu.wam  15ybm.wam    Games    15\n",
       "6  k4wbu.wam  wx3bq.wam    Games    15\n",
       "7  k4wbu.wam  5gkre.wam    Games    15\n",
       "8  k4wbu.wam  qogbk.wam    Games    15\n",
       "9  k4wbu.wam  .5xba.wam    Games    15"
      ]
     },
     "execution_count": 62,
     "metadata": {},
     "output_type": "execute_result"
    }
   ],
   "source": [
    "prod_df = pd.DataFrame({ 'from':from_list, 'to':to_list, 'category': category, 'size':size})\n",
    "prod_df.head(10)"
   ]
  },
  {
   "cell_type": "code",
   "execution_count": 63,
   "id": "ae7f00e1-1413-4b40-b322-393a19a6dea9",
   "metadata": {},
   "outputs": [
    {
     "data": {
      "text/plain": [
       "149016"
      ]
     },
     "execution_count": 63,
     "metadata": {},
     "output_type": "execute_result"
    }
   ],
   "source": [
    "len(prod_df)"
   ]
  },
  {
   "cell_type": "code",
   "execution_count": 64,
   "id": "5252ec8d-4c91-44cd-8a5b-725e3f050bbe",
   "metadata": {},
   "outputs": [],
   "source": [
    "# create a list of our conditions\n",
    "#categories = ['Art', 'Collectible', 'Games', 'Metaverse', 'Other', 'Utility']\n",
    "conditions = [\n",
    "    (prod_df['category'] == \"Art\"),\n",
    "    (prod_df['category'] == \"Collectible\"),\n",
    "    (prod_df['category'] == \"Games\"),\n",
    "    (prod_df['category'] == \"Metaverse\"),\n",
    "    (prod_df['category'] == \"Other\"),\n",
    "    (prod_df['category'] == \"Utility\")\n",
    "    ]"
   ]
  },
  {
   "cell_type": "code",
   "execution_count": 65,
   "id": "12642823-a8d7-4c93-91b0-88cb767b44d5",
   "metadata": {},
   "outputs": [],
   "source": [
    "# Colors from earlier Cateogry Histogtram\n",
    "    # Games        - Blue\n",
    "    # Art          - Orange\n",
    "    # Other        - Green\n",
    "    # Collectible  - Red\n",
    "    # Metaverse    - Purple\n",
    "    # Utility      - Brown\n",
    "\n",
    "# following the conditions order in previous step\n",
    "values = ['tab:orange', 'tab:red', 'tab:blue', 'tab:purple', 'tab:green', 'tab:brown']"
   ]
  },
  {
   "cell_type": "code",
   "execution_count": 66,
   "id": "4e8119e9-decb-49be-b23b-0b299799ea9c",
   "metadata": {},
   "outputs": [],
   "source": [
    "prod_df['color'] = np.select(conditions, values)"
   ]
  },
  {
   "cell_type": "code",
   "execution_count": 67,
   "id": "0bff5933-3174-4163-bba3-a0e21ceade5a",
   "metadata": {},
   "outputs": [
    {
     "data": {
      "text/plain": [
       "array(['tab:blue', 'tab:orange', 'tab:red'], dtype=object)"
      ]
     },
     "execution_count": 67,
     "metadata": {},
     "output_type": "execute_result"
    }
   ],
   "source": [
    "prod_df['color'].unique()"
   ]
  },
  {
   "cell_type": "code",
   "execution_count": 68,
   "id": "d5b87cfc-17c0-4461-b393-7f66e7298e19",
   "metadata": {},
   "outputs": [
    {
     "data": {
      "image/png": "[encoded data removed]",
      "text/plain": [
       "<Figure size 1080x720 with 1 Axes>"
      ]
     },
     "metadata": {},
     "output_type": "display_data"
    }
   ],
   "source": [
    "%matplotlib inline\n",
    "\n",
    "plt.figure(figsize=(15,10))\n",
    "\n",
    "# Build your graph\n",
    "G=nx.from_pandas_edgelist(prod_df, 'from', 'to')\n",
    "\n",
    "colors = []\n",
    "sizes = []\n",
    "for node in G:\n",
    "    my_color = prod_df.loc[prod_df['to'] == node]['color'].values.tolist()\n",
    "    my_c = max(set(my_color), key = my_color.count)\n",
    "    colors.append(my_c)\n",
    "    \n",
    "    my_size = prod_df.loc[prod_df['to'] == node]['size'].values.tolist()\n",
    "    my_s = max(set(my_size), key = my_size.count)\n",
    "    #my_s = np.log(my_s+500) \n",
    "    sizes.append(my_s+50)\n",
    "    \n",
    "\n",
    "# Graph with Custom nodes:\n",
    "nx.draw(G, \n",
    "        #with_labels=True, \n",
    "        node_size=sizes, \n",
    "        node_color=colors,\n",
    "        #edgecolors=colors,\n",
    "        #node_fill_color=colors,\n",
    "        node_shape=\"o\", \n",
    "        alpha=0.6, \n",
    "        linewidths=15)\n",
    "plt.show()"
   ]
  },
  {
   "cell_type": "markdown",
   "id": "ed78771b-a37d-403e-8881-3cdb11322cd8",
   "metadata": {},
   "source": [
    "### EDA - Washed NFTs"
   ]
  },
  {
   "cell_type": "code",
   "execution_count": 69,
   "id": "ca812008-6993-45eb-a9ef-9520862d636a",
   "metadata": {},
   "outputs": [
    {
     "data": {
      "text/html": [
       "<div>\n",
       "<style scoped>\n",
       "    .dataframe tbody tr th:only-of-type {\n",
       "        vertical-align: middle;\n",
       "    }\n",
       "\n",
       "    .dataframe tbody tr th {\n",
       "        vertical-align: top;\n",
       "    }\n",
       "\n",
       "    .dataframe thead th {\n",
       "        text-align: right;\n",
       "    }\n",
       "</style>\n",
       "<table border=\"1\" class=\"dataframe\">\n",
       "  <thead>\n",
       "    <tr style=\"text-align: right;\">\n",
       "      <th></th>\n",
       "      <th>Smart_contract</th>\n",
       "      <th>ID_token</th>\n",
       "      <th>Transaction_hash</th>\n",
       "      <th>Seller_address</th>\n",
       "      <th>Seller_username</th>\n",
       "      <th>Buyer_address</th>\n",
       "      <th>Buyer_username</th>\n",
       "      <th>Image_url_1</th>\n",
       "      <th>Image_url_2</th>\n",
       "      <th>Image_url_3</th>\n",
       "      <th>...</th>\n",
       "      <th>Permanent_link</th>\n",
       "      <th>Unique_id_collection</th>\n",
       "      <th>Collection_cleaned</th>\n",
       "      <th>Category</th>\n",
       "      <th>index</th>\n",
       "      <th>Log_Price_USD</th>\n",
       "      <th>Log_Price_Crypto</th>\n",
       "      <th>Date</th>\n",
       "      <th>Year</th>\n",
       "      <th>Month</th>\n",
       "    </tr>\n",
       "  </thead>\n",
       "  <tbody>\n",
       "    <tr>\n",
       "      <th>255400</th>\n",
       "      <td>NaN</td>\n",
       "      <td>413933.0</td>\n",
       "      <td>0x3916dc2872ffad5e0ad14c9c6bd85647a2f0322a0d3f...</td>\n",
       "      <td>0xc8f848f337a94bdc0a6d21a1b4376566868bf15f</td>\n",
       "      <td>NaN</td>\n",
       "      <td>0xc8f848f337a94bdc0a6d21a1b4376566868bf15f</td>\n",
       "      <td>NaN</td>\n",
       "      <td>https://img.cryptokitties.co/0x06012c8cf97bead...</td>\n",
       "      <td>NaN</td>\n",
       "      <td>NaN</td>\n",
       "      <td>...</td>\n",
       "      <td>NaN</td>\n",
       "      <td>('Cryptokitties', '413933')</td>\n",
       "      <td>Cryptokittie</td>\n",
       "      <td>Art</td>\n",
       "      <td>255400</td>\n",
       "      <td>4.980536</td>\n",
       "      <td>-2.525729</td>\n",
       "      <td>2017-12-27</td>\n",
       "      <td>2017</td>\n",
       "      <td>12</td>\n",
       "    </tr>\n",
       "    <tr>\n",
       "      <th>260563</th>\n",
       "      <td>NaN</td>\n",
       "      <td>229485.0</td>\n",
       "      <td>0xd54bdaf942227e2b838336cda433b8fbfca6593295b2...</td>\n",
       "      <td>0x36e37163422f265dc5d7407ac9a204fb8185253e</td>\n",
       "      <td>NaN</td>\n",
       "      <td>0x36e37163422f265dc5d7407ac9a204fb8185253e</td>\n",
       "      <td>NaN</td>\n",
       "      <td>https://img.cryptokitties.co/0x06012c8cf97bead...</td>\n",
       "      <td>NaN</td>\n",
       "      <td>NaN</td>\n",
       "      <td>...</td>\n",
       "      <td>NaN</td>\n",
       "      <td>('Cryptokitties', '229485')</td>\n",
       "      <td>Cryptokittie</td>\n",
       "      <td>Art</td>\n",
       "      <td>260563</td>\n",
       "      <td>2.790826</td>\n",
       "      <td>-4.828314</td>\n",
       "      <td>2017-12-26</td>\n",
       "      <td>2017</td>\n",
       "      <td>12</td>\n",
       "    </tr>\n",
       "    <tr>\n",
       "      <th>265892</th>\n",
       "      <td>NaN</td>\n",
       "      <td>397249</td>\n",
       "      <td>0xe9bf174d7396126d02ed3d821f2bf93ce25483b006b0...</td>\n",
       "      <td>0x2fe3fa35ad7c9a587906cc11adc8dbaf322920fa</td>\n",
       "      <td>NaN</td>\n",
       "      <td>0x2fe3fa35ad7c9a587906cc11adc8dbaf322920fa</td>\n",
       "      <td>NaN</td>\n",
       "      <td>https://img.cryptokitties.co/0x06012c8cf97bead...</td>\n",
       "      <td>NaN</td>\n",
       "      <td>NaN</td>\n",
       "      <td>...</td>\n",
       "      <td>NaN</td>\n",
       "      <td>('Cryptokitties', '397249')</td>\n",
       "      <td>Cryptokittie</td>\n",
       "      <td>Art</td>\n",
       "      <td>265892</td>\n",
       "      <td>3.032674</td>\n",
       "      <td>-3.442905</td>\n",
       "      <td>2017-12-24</td>\n",
       "      <td>2017</td>\n",
       "      <td>12</td>\n",
       "    </tr>\n",
       "    <tr>\n",
       "      <th>281875</th>\n",
       "      <td>NaN</td>\n",
       "      <td>351941</td>\n",
       "      <td>0x7b518ca7b813cbe90fdfaecbad13ad115287f2e72be6...</td>\n",
       "      <td>0x2fe3fa35ad7c9a587906cc11adc8dbaf322920fa</td>\n",
       "      <td>NaN</td>\n",
       "      <td>0x2fe3fa35ad7c9a587906cc11adc8dbaf322920fa</td>\n",
       "      <td>NaN</td>\n",
       "      <td>https://img.cryptokitties.co/0x06012c8cf97bead...</td>\n",
       "      <td>NaN</td>\n",
       "      <td>NaN</td>\n",
       "      <td>...</td>\n",
       "      <td>NaN</td>\n",
       "      <td>('Cryptokitties', '351941')</td>\n",
       "      <td>Cryptokittie</td>\n",
       "      <td>Art</td>\n",
       "      <td>281875</td>\n",
       "      <td>3.679445</td>\n",
       "      <td>-3.027710</td>\n",
       "      <td>2017-12-19</td>\n",
       "      <td>2017</td>\n",
       "      <td>12</td>\n",
       "    </tr>\n",
       "    <tr>\n",
       "      <th>314084</th>\n",
       "      <td>NaN</td>\n",
       "      <td>325058</td>\n",
       "      <td>0x586b024ba3ffea2c97c5338ece95580c918fe966aa63...</td>\n",
       "      <td>0xc0a4705ed21f42d4333a5b357635471e540354de</td>\n",
       "      <td>NaN</td>\n",
       "      <td>0xc0a4705ed21f42d4333a5b357635471e540354de</td>\n",
       "      <td>NaN</td>\n",
       "      <td>https://img.cryptokitties.co/0x06012c8cf97bead...</td>\n",
       "      <td>NaN</td>\n",
       "      <td>NaN</td>\n",
       "      <td>...</td>\n",
       "      <td>NaN</td>\n",
       "      <td>('Cryptokitties', '325058')</td>\n",
       "      <td>Cryptokittie</td>\n",
       "      <td>Art</td>\n",
       "      <td>314084</td>\n",
       "      <td>5.074011</td>\n",
       "      <td>-1.411555</td>\n",
       "      <td>2017-12-15</td>\n",
       "      <td>2017</td>\n",
       "      <td>12</td>\n",
       "    </tr>\n",
       "    <tr>\n",
       "      <th>366666</th>\n",
       "      <td>NaN</td>\n",
       "      <td>229795</td>\n",
       "      <td>0xc4d4ca7cd59ce5defa1bb4c159496d20d1d8ea5a0628...</td>\n",
       "      <td>0xa49c42de466eac7764f8ea7b5bfa1efc43bbb09b</td>\n",
       "      <td>NaN</td>\n",
       "      <td>0xa49c42de466eac7764f8ea7b5bfa1efc43bbb09b</td>\n",
       "      <td>NaN</td>\n",
       "      <td>https://img.cryptokitties.co/0x06012c8cf97bead...</td>\n",
       "      <td>NaN</td>\n",
       "      <td>NaN</td>\n",
       "      <td>...</td>\n",
       "      <td>NaN</td>\n",
       "      <td>('Cryptokitties', '229795')</td>\n",
       "      <td>Cryptokittie</td>\n",
       "      <td>Art</td>\n",
       "      <td>366666</td>\n",
       "      <td>2.979008</td>\n",
       "      <td>-3.506558</td>\n",
       "      <td>2017-12-11</td>\n",
       "      <td>2017</td>\n",
       "      <td>12</td>\n",
       "    </tr>\n",
       "    <tr>\n",
       "      <th>381350</th>\n",
       "      <td>NaN</td>\n",
       "      <td>183468</td>\n",
       "      <td>0x856b817608a331022cd498464ad601118f2ae6cefbe6...</td>\n",
       "      <td>0x5a65e1bcebd36e0cea91407937ce6de2ad417c83</td>\n",
       "      <td>NaN</td>\n",
       "      <td>0x5a65e1bcebd36e0cea91407937ce6de2ad417c83</td>\n",
       "      <td>NaN</td>\n",
       "      <td>https://img.cryptokitties.co/0x06012c8cf97bead...</td>\n",
       "      <td>NaN</td>\n",
       "      <td>NaN</td>\n",
       "      <td>...</td>\n",
       "      <td>NaN</td>\n",
       "      <td>('Cryptokitties', '183468')</td>\n",
       "      <td>Cryptokittie</td>\n",
       "      <td>Art</td>\n",
       "      <td>381350</td>\n",
       "      <td>3.224361</td>\n",
       "      <td>-3.912023</td>\n",
       "      <td>2017-12-10</td>\n",
       "      <td>2017</td>\n",
       "      <td>12</td>\n",
       "    </tr>\n",
       "    <tr>\n",
       "      <th>490344</th>\n",
       "      <td>NaN</td>\n",
       "      <td>329835</td>\n",
       "      <td>0x4194f039ec21acaaa54ea402d6b33757743c5d6e34c3...</td>\n",
       "      <td>0x7d28d31ba92a983ca4dce973b0b94d2cc25602ae</td>\n",
       "      <td>NaN</td>\n",
       "      <td>0x7d28d31ba92a983ca4dce973b0b94d2cc25602ae</td>\n",
       "      <td>NaN</td>\n",
       "      <td>https://img.cryptokitties.co/0x06012c8cf97bead...</td>\n",
       "      <td>NaN</td>\n",
       "      <td>NaN</td>\n",
       "      <td>...</td>\n",
       "      <td>NaN</td>\n",
       "      <td>('Cryptokitties', '329835')</td>\n",
       "      <td>Cryptokittie</td>\n",
       "      <td>Art</td>\n",
       "      <td>490344</td>\n",
       "      <td>0.541961</td>\n",
       "      <td>-5.298317</td>\n",
       "      <td>2018-01-30</td>\n",
       "      <td>2018</td>\n",
       "      <td>1</td>\n",
       "    </tr>\n",
       "    <tr>\n",
       "      <th>509708</th>\n",
       "      <td>NaN</td>\n",
       "      <td>446049</td>\n",
       "      <td>0xeab15a24053e3efbecd6ea00a9dfcc7fa43bf6b1b3aa...</td>\n",
       "      <td>0xb5632442ce3a9ac9e9dc03d22f62565fcf8745cf</td>\n",
       "      <td>NaN</td>\n",
       "      <td>0xb5632442ce3a9ac9e9dc03d22f62565fcf8745cf</td>\n",
       "      <td>NaN</td>\n",
       "      <td>https://img.cryptokitties.co/0x06012c8cf97bead...</td>\n",
       "      <td>NaN</td>\n",
       "      <td>NaN</td>\n",
       "      <td>...</td>\n",
       "      <td>NaN</td>\n",
       "      <td>('Cryptokitties', '446049')</td>\n",
       "      <td>Cryptokittie</td>\n",
       "      <td>Art</td>\n",
       "      <td>509708</td>\n",
       "      <td>2.988321</td>\n",
       "      <td>-4.135167</td>\n",
       "      <td>2018-01-13</td>\n",
       "      <td>2018</td>\n",
       "      <td>1</td>\n",
       "    </tr>\n",
       "    <tr>\n",
       "      <th>510553</th>\n",
       "      <td>NaN</td>\n",
       "      <td>305120</td>\n",
       "      <td>0x641830ffe8360552512a86468c5155d1e360ea9a92c5...</td>\n",
       "      <td>0x3ca7dec54742a3957d185c257e80bb35902e9305</td>\n",
       "      <td>NaN</td>\n",
       "      <td>0x3ca7dec54742a3957d185c257e80bb35902e9305</td>\n",
       "      <td>NaN</td>\n",
       "      <td>https://img.cryptokitties.co/0x06012c8cf97bead...</td>\n",
       "      <td>NaN</td>\n",
       "      <td>NaN</td>\n",
       "      <td>...</td>\n",
       "      <td>NaN</td>\n",
       "      <td>('Cryptokitties', '305120')</td>\n",
       "      <td>Cryptokittie</td>\n",
       "      <td>Art</td>\n",
       "      <td>510553</td>\n",
       "      <td>2.258426</td>\n",
       "      <td>-5.115996</td>\n",
       "      <td>2018-01-12</td>\n",
       "      <td>2018</td>\n",
       "      <td>1</td>\n",
       "    </tr>\n",
       "  </tbody>\n",
       "</table>\n",
       "<p>10 rows × 30 columns</p>\n",
       "</div>"
      ],
      "text/plain": [
       "       Smart_contract  ID_token  \\\n",
       "255400            NaN  413933.0   \n",
       "260563            NaN  229485.0   \n",
       "265892            NaN    397249   \n",
       "281875            NaN    351941   \n",
       "314084            NaN    325058   \n",
       "366666            NaN    229795   \n",
       "381350            NaN    183468   \n",
       "490344            NaN    329835   \n",
       "509708            NaN    446049   \n",
       "510553            NaN    305120   \n",
       "\n",
       "                                         Transaction_hash  \\\n",
       "255400  0x3916dc2872ffad5e0ad14c9c6bd85647a2f0322a0d3f...   \n",
       "260563  0xd54bdaf942227e2b838336cda433b8fbfca6593295b2...   \n",
       "265892  0xe9bf174d7396126d02ed3d821f2bf93ce25483b006b0...   \n",
       "281875  0x7b518ca7b813cbe90fdfaecbad13ad115287f2e72be6...   \n",
       "314084  0x586b024ba3ffea2c97c5338ece95580c918fe966aa63...   \n",
       "366666  0xc4d4ca7cd59ce5defa1bb4c159496d20d1d8ea5a0628...   \n",
       "381350  0x856b817608a331022cd498464ad601118f2ae6cefbe6...   \n",
       "490344  0x4194f039ec21acaaa54ea402d6b33757743c5d6e34c3...   \n",
       "509708  0xeab15a24053e3efbecd6ea00a9dfcc7fa43bf6b1b3aa...   \n",
       "510553  0x641830ffe8360552512a86468c5155d1e360ea9a92c5...   \n",
       "\n",
       "                                    Seller_address Seller_username  \\\n",
       "255400  0xc8f848f337a94bdc0a6d21a1b4376566868bf15f             NaN   \n",
       "260563  0x36e37163422f265dc5d7407ac9a204fb8185253e             NaN   \n",
       "265892  0x2fe3fa35ad7c9a587906cc11adc8dbaf322920fa             NaN   \n",
       "281875  0x2fe3fa35ad7c9a587906cc11adc8dbaf322920fa             NaN   \n",
       "314084  0xc0a4705ed21f42d4333a5b357635471e540354de             NaN   \n",
       "366666  0xa49c42de466eac7764f8ea7b5bfa1efc43bbb09b             NaN   \n",
       "381350  0x5a65e1bcebd36e0cea91407937ce6de2ad417c83             NaN   \n",
       "490344  0x7d28d31ba92a983ca4dce973b0b94d2cc25602ae             NaN   \n",
       "509708  0xb5632442ce3a9ac9e9dc03d22f62565fcf8745cf             NaN   \n",
       "510553  0x3ca7dec54742a3957d185c257e80bb35902e9305             NaN   \n",
       "\n",
       "                                     Buyer_address Buyer_username  \\\n",
       "255400  0xc8f848f337a94bdc0a6d21a1b4376566868bf15f            NaN   \n",
       "260563  0x36e37163422f265dc5d7407ac9a204fb8185253e            NaN   \n",
       "265892  0x2fe3fa35ad7c9a587906cc11adc8dbaf322920fa            NaN   \n",
       "281875  0x2fe3fa35ad7c9a587906cc11adc8dbaf322920fa            NaN   \n",
       "314084  0xc0a4705ed21f42d4333a5b357635471e540354de            NaN   \n",
       "366666  0xa49c42de466eac7764f8ea7b5bfa1efc43bbb09b            NaN   \n",
       "381350  0x5a65e1bcebd36e0cea91407937ce6de2ad417c83            NaN   \n",
       "490344  0x7d28d31ba92a983ca4dce973b0b94d2cc25602ae            NaN   \n",
       "509708  0xb5632442ce3a9ac9e9dc03d22f62565fcf8745cf            NaN   \n",
       "510553  0x3ca7dec54742a3957d185c257e80bb35902e9305            NaN   \n",
       "\n",
       "                                              Image_url_1 Image_url_2  \\\n",
       "255400  https://img.cryptokitties.co/0x06012c8cf97bead...         NaN   \n",
       "260563  https://img.cryptokitties.co/0x06012c8cf97bead...         NaN   \n",
       "265892  https://img.cryptokitties.co/0x06012c8cf97bead...         NaN   \n",
       "281875  https://img.cryptokitties.co/0x06012c8cf97bead...         NaN   \n",
       "314084  https://img.cryptokitties.co/0x06012c8cf97bead...         NaN   \n",
       "366666  https://img.cryptokitties.co/0x06012c8cf97bead...         NaN   \n",
       "381350  https://img.cryptokitties.co/0x06012c8cf97bead...         NaN   \n",
       "490344  https://img.cryptokitties.co/0x06012c8cf97bead...         NaN   \n",
       "509708  https://img.cryptokitties.co/0x06012c8cf97bead...         NaN   \n",
       "510553  https://img.cryptokitties.co/0x06012c8cf97bead...         NaN   \n",
       "\n",
       "       Image_url_3  ... Permanent_link         Unique_id_collection  \\\n",
       "255400         NaN  ...            NaN  ('Cryptokitties', '413933')   \n",
       "260563         NaN  ...            NaN  ('Cryptokitties', '229485')   \n",
       "265892         NaN  ...            NaN  ('Cryptokitties', '397249')   \n",
       "281875         NaN  ...            NaN  ('Cryptokitties', '351941')   \n",
       "314084         NaN  ...            NaN  ('Cryptokitties', '325058')   \n",
       "366666         NaN  ...            NaN  ('Cryptokitties', '229795')   \n",
       "381350         NaN  ...            NaN  ('Cryptokitties', '183468')   \n",
       "490344         NaN  ...            NaN  ('Cryptokitties', '329835')   \n",
       "509708         NaN  ...            NaN  ('Cryptokitties', '446049')   \n",
       "510553         NaN  ...            NaN  ('Cryptokitties', '305120')   \n",
       "\n",
       "       Collection_cleaned  Category   index Log_Price_USD Log_Price_Crypto  \\\n",
       "255400       Cryptokittie       Art  255400      4.980536        -2.525729   \n",
       "260563       Cryptokittie       Art  260563      2.790826        -4.828314   \n",
       "265892       Cryptokittie       Art  265892      3.032674        -3.442905   \n",
       "281875       Cryptokittie       Art  281875      3.679445        -3.027710   \n",
       "314084       Cryptokittie       Art  314084      5.074011        -1.411555   \n",
       "366666       Cryptokittie       Art  366666      2.979008        -3.506558   \n",
       "381350       Cryptokittie       Art  381350      3.224361        -3.912023   \n",
       "490344       Cryptokittie       Art  490344      0.541961        -5.298317   \n",
       "509708       Cryptokittie       Art  509708      2.988321        -4.135167   \n",
       "510553       Cryptokittie       Art  510553      2.258426        -5.115996   \n",
       "\n",
       "             Date  Year Month  \n",
       "255400 2017-12-27  2017    12  \n",
       "260563 2017-12-26  2017    12  \n",
       "265892 2017-12-24  2017    12  \n",
       "281875 2017-12-19  2017    12  \n",
       "314084 2017-12-15  2017    12  \n",
       "366666 2017-12-11  2017    12  \n",
       "381350 2017-12-10  2017    12  \n",
       "490344 2018-01-30  2018     1  \n",
       "509708 2018-01-13  2018     1  \n",
       "510553 2018-01-12  2018     1  \n",
       "\n",
       "[10 rows x 30 columns]"
      ]
     },
     "execution_count": 69,
     "metadata": {},
     "output_type": "execute_result"
    }
   ],
   "source": [
    "#there are listed transactions where the seller is also the buyer!\n",
    "washed_nft = df.loc[(df['Seller_address'] == df['Buyer_address'])]\n",
    "washed_nft.head(10)\n",
    "#how to handle cycles?"
   ]
  },
  {
   "cell_type": "code",
   "execution_count": 70,
   "id": "9be1369b-c496-4f3d-976e-b76e19be8586",
   "metadata": {},
   "outputs": [
    {
     "data": {
      "text/html": [
       "<div>\n",
       "<style scoped>\n",
       "    .dataframe tbody tr th:only-of-type {\n",
       "        vertical-align: middle;\n",
       "    }\n",
       "\n",
       "    .dataframe tbody tr th {\n",
       "        vertical-align: top;\n",
       "    }\n",
       "\n",
       "    .dataframe thead th {\n",
       "        text-align: right;\n",
       "    }\n",
       "</style>\n",
       "<table border=\"1\" class=\"dataframe\">\n",
       "  <thead>\n",
       "    <tr style=\"text-align: right;\">\n",
       "      <th></th>\n",
       "      <th>index</th>\n",
       "    </tr>\n",
       "    <tr>\n",
       "      <th>Category</th>\n",
       "      <th></th>\n",
       "    </tr>\n",
       "  </thead>\n",
       "  <tbody>\n",
       "    <tr>\n",
       "      <th>Art</th>\n",
       "      <td>656</td>\n",
       "    </tr>\n",
       "    <tr>\n",
       "      <th>Collectible</th>\n",
       "      <td>1560</td>\n",
       "    </tr>\n",
       "    <tr>\n",
       "      <th>Games</th>\n",
       "      <td>77</td>\n",
       "    </tr>\n",
       "  </tbody>\n",
       "</table>\n",
       "</div>"
      ],
      "text/plain": [
       "             index\n",
       "Category          \n",
       "Art            656\n",
       "Collectible   1560\n",
       "Games           77"
      ]
     },
     "execution_count": 70,
     "metadata": {},
     "output_type": "execute_result"
    }
   ],
   "source": [
    "summary_data = washed_nft.groupby('Category').count()\n",
    "summary_data[['index']]"
   ]
  },
  {
   "cell_type": "code",
   "execution_count": 74,
   "id": "09c9e8d7-4307-4397-b131-b3bae6a06261",
   "metadata": {},
   "outputs": [
    {
     "data": {
      "text/plain": [
       "<seaborn.axisgrid.FacetGrid at 0x7f35fd847290>"
      ]
     },
     "execution_count": 74,
     "metadata": {},
     "output_type": "execute_result"
    },
    {
     "data": {
      "image/png": "[encoded data removed]",
      "text/plain": [
       "<Figure size 1080x576 with 1 Axes>"
      ]
     },
     "metadata": {
      "needs_background": "light"
     },
     "output_type": "display_data"
    }
   ],
   "source": [
    "sns.catplot(x=\"Category\", kind=\"count\", data=washed_nft, height=8, aspect=15/8)"
   ]
  },
  {
   "cell_type": "code",
   "execution_count": 72,
   "id": "54fac824-49d4-401c-ab24-0d4f91e4c694",
   "metadata": {},
   "outputs": [
    {
     "data": {
      "text/plain": [
       "<AxesSubplot:xlabel='Datetime_updated'>"
      ]
     },
     "execution_count": 72,
     "metadata": {},
     "output_type": "execute_result"
    },
    {
     "data": {
      "image/png": "[encoded data removed]",
      "text/plain": [
       "<Figure size 1080x720 with 1 Axes>"
      ]
     },
     "metadata": {
      "needs_background": "light"
     },
     "output_type": "display_data"
    }
   ],
   "source": [
    "washed_nft.plot( 'Datetime_updated' , 'Price_USD', figsize=(15, 10) )"
   ]
  },
  {
   "cell_type": "code",
   "execution_count": 73,
   "id": "d520a29b-2ebf-4936-b2d8-0f3abab2fc64",
   "metadata": {},
   "outputs": [
    {
     "data": {
      "text/plain": [
       "<AxesSubplot:xlabel='Datetime_updated'>"
      ]
     },
     "execution_count": 73,
     "metadata": {},
     "output_type": "execute_result"
    },
    {
     "data": {
      "image/png": "[encoded data removed]",
      "text/plain": [
       "<Figure size 1080x720 with 1 Axes>"
      ]
     },
     "metadata": {
      "needs_background": "light"
     },
     "output_type": "display_data"
    }
   ],
   "source": [
    "washed_nft.plot( 'Datetime_updated' , 'Price_Crypto', figsize=(15, 10) )"
   ]
  },
  {
   "cell_type": "code",
   "execution_count": null,
   "id": "13fea85a-5a4b-46ad-8f60-ecc5e22b8652",
   "metadata": {},
   "outputs": [],
   "source": []
  }
 ],
 "metadata": {
  "environment": {
   "kernel": "python3",
   "name": "common-cu100.m84",
   "type": "gcloud",
   "uri": "gcr.io/deeplearning-platform-release/base-cu100:m84"
  },
  "kernelspec": {
   "display_name": "Python 3",
   "language": "python",
   "name": "python3"
  },
  "language_info": {
   "codemirror_mode": {
    "name": "ipython",
    "version": 3
   },
   "file_extension": ".py",
   "mimetype": "text/x-python",
   "name": "python",
   "nbconvert_exporter": "python",
   "pygments_lexer": "ipython3",
   "version": "3.7.12"
  }
 },
 "nbformat": 4,
 "nbformat_minor": 5
}
