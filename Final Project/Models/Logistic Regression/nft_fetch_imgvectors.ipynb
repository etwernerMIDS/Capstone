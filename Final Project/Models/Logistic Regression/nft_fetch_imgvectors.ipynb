{
 "cells": [
  {
   "cell_type": "code",
   "execution_count": 2,
   "id": "3465aee1-8d8f-4b1b-ba42-35d0203dd0e3",
   "metadata": {},
   "outputs": [
    {
     "data": {
      "text/plain": [
       "'/home/jupyter/nft/nft_capstone'"
      ]
     },
     "execution_count": 2,
     "metadata": {},
     "output_type": "execute_result"
    }
   ],
   "source": [
    "import os\n",
    "import pandas as pd\n",
    "os.getcwd()"
   ]
  },
  {
   "cell_type": "code",
   "execution_count": 3,
   "id": "eb1d672e-d703-46a6-a531-711accee9694",
   "metadata": {},
   "outputs": [],
   "source": [
    "# import gcsfs, pickle\n",
    "\n",
    "# fs = gcsfs.GCSFileSystem(project = 'w210-339016')\n",
    "# fs.ls('nft_capstone_datafiles')\n",
    "\n",
    "# with fs.open('nft_capstone_datafiles/Data_API.csv.gz', 'rb') as file:\n",
    "#     df = pd.read_csv('/home/jupyter/nft/Data_API.csv.gz', dtype={'Smart_contract':str, 'ID_token':str, 'Transaction_hash':str,'Seller_username':str,'Buyer_username':str,\n",
    "#                                                                  'Image_url_2':str,'Image_url_3':str,'Image_url_4':str,'Name':str,'Description':str,'Permanent_link':str})\n",
    "\n",
    "df = pd.read_csv('https://storage.googleapis.com/nft_capstone_datafiles/Data_API.csv.gz',\n",
    "                dtype={'Smart_contract':str, 'ID_token':str, 'Transaction_hash':str,'Seller_username':str,'Buyer_username':str,'Image_url_2':str,\n",
    "                        'Image_url_3':str,'Image_url_4':str,'Name':str,'Description':str,'Permanent_link':str})"
   ]
  },
  {
   "cell_type": "code",
   "execution_count": 5,
   "id": "5046d3eb-7776-4a41-b191-7b5107d03ba1",
   "metadata": {},
   "outputs": [
    {
     "data": {
      "text/plain": [
       "False    6016229\n",
       "True       54798\n",
       "Name: Image_url_1, dtype: int64"
      ]
     },
     "execution_count": 5,
     "metadata": {},
     "output_type": "execute_result"
    }
   ],
   "source": [
    "df['Image_url_1'].isna().value_counts()"
   ]
  },
  {
   "cell_type": "code",
   "execution_count": 4,
   "id": "d67fc5d0-ac6c-4036-9855-19c1fc274f8e",
   "metadata": {},
   "outputs": [],
   "source": [
    "df_images = df[['Unique_id_collection','Image_url_1']].copy()"
   ]
  },
  {
   "cell_type": "code",
   "execution_count": 5,
   "id": "d61a816d-99e9-4e17-9309-5c0c6c2a8425",
   "metadata": {},
   "outputs": [
    {
     "data": {
      "text/plain": [
       "(6016229, 2)"
      ]
     },
     "execution_count": 5,
     "metadata": {},
     "output_type": "execute_result"
    }
   ],
   "source": [
    "df_images2 = df_images[df_images['Image_url_1'].isnull() == False]\n",
    "df_images2.shape"
   ]
  },
  {
   "cell_type": "code",
   "execution_count": 6,
   "id": "11dd29c9-c440-4709-b954-ff7f4a140ce9",
   "metadata": {},
   "outputs": [
    {
     "name": "stdout",
     "output_type": "stream",
     "text": [
      "1602953\n"
     ]
    },
    {
     "data": {
      "text/html": [
       "<div>\n",
       "<style scoped>\n",
       "    .dataframe tbody tr th:only-of-type {\n",
       "        vertical-align: middle;\n",
       "    }\n",
       "\n",
       "    .dataframe tbody tr th {\n",
       "        vertical-align: top;\n",
       "    }\n",
       "\n",
       "    .dataframe thead th {\n",
       "        text-align: right;\n",
       "    }\n",
       "</style>\n",
       "<table border=\"1\" class=\"dataframe\">\n",
       "  <thead>\n",
       "    <tr style=\"text-align: right;\">\n",
       "      <th></th>\n",
       "      <th>Image_url_1</th>\n",
       "    </tr>\n",
       "  </thead>\n",
       "  <tbody>\n",
       "    <tr>\n",
       "      <th>0</th>\n",
       "      <td>https://card.godsunchained.com/?id=33&amp;q=4</td>\n",
       "    </tr>\n",
       "    <tr>\n",
       "      <th>1</th>\n",
       "      <td>https://card.godsunchained.com/?id=79&amp;q=4</td>\n",
       "    </tr>\n",
       "    <tr>\n",
       "      <th>3</th>\n",
       "      <td>https://card.godsunchained.com/?id=227&amp;q=4</td>\n",
       "    </tr>\n",
       "    <tr>\n",
       "      <th>4</th>\n",
       "      <td>https://card.godsunchained.com/?id=62&amp;q=4</td>\n",
       "    </tr>\n",
       "    <tr>\n",
       "      <th>5</th>\n",
       "      <td>https://card.godsunchained.com/?id=116&amp;q=4</td>\n",
       "    </tr>\n",
       "  </tbody>\n",
       "</table>\n",
       "</div>"
      ],
      "text/plain": [
       "                                  Image_url_1\n",
       "0   https://card.godsunchained.com/?id=33&q=4\n",
       "1   https://card.godsunchained.com/?id=79&q=4\n",
       "3  https://card.godsunchained.com/?id=227&q=4\n",
       "4   https://card.godsunchained.com/?id=62&q=4\n",
       "5  https://card.godsunchained.com/?id=116&q=4"
      ]
     },
     "execution_count": 6,
     "metadata": {},
     "output_type": "execute_result"
    }
   ],
   "source": [
    "df_images5_new = df_images2.drop_duplicates(subset='Image_url_1', keep=\"first\").drop(columns=['Unique_id_collection'])\n",
    "print(len(df_images5_new))\n",
    "df_images5_new.head(5)"
   ]
  },
  {
   "cell_type": "code",
   "execution_count": 7,
   "id": "e69221f3-868b-4eb9-9531-615834b9fc25",
   "metadata": {},
   "outputs": [],
   "source": [
    "import requests\n",
    "from PIL import Image\n",
    "import matplotlib.pyplot as plt\n",
    "import torch\n",
    "import torch.nn as nn\n",
    "import torchvision.models as models\n",
    "import torchvision.transforms as transforms\n",
    "from torch.autograd import Variable"
   ]
  },
  {
   "cell_type": "code",
   "execution_count": 8,
   "id": "74627b64-a974-4c41-9592-f52750986349",
   "metadata": {},
   "outputs": [
    {
     "data": {
      "text/plain": [
       "AlexNet(\n",
       "  (features): Sequential(\n",
       "    (0): Conv2d(3, 64, kernel_size=(11, 11), stride=(4, 4), padding=(2, 2))\n",
       "    (1): ReLU(inplace=True)\n",
       "    (2): MaxPool2d(kernel_size=3, stride=2, padding=0, dilation=1, ceil_mode=False)\n",
       "    (3): Conv2d(64, 192, kernel_size=(5, 5), stride=(1, 1), padding=(2, 2))\n",
       "    (4): ReLU(inplace=True)\n",
       "    (5): MaxPool2d(kernel_size=3, stride=2, padding=0, dilation=1, ceil_mode=False)\n",
       "    (6): Conv2d(192, 384, kernel_size=(3, 3), stride=(1, 1), padding=(1, 1))\n",
       "    (7): ReLU(inplace=True)\n",
       "    (8): Conv2d(384, 256, kernel_size=(3, 3), stride=(1, 1), padding=(1, 1))\n",
       "    (9): ReLU(inplace=True)\n",
       "    (10): Conv2d(256, 256, kernel_size=(3, 3), stride=(1, 1), padding=(1, 1))\n",
       "    (11): ReLU(inplace=True)\n",
       "    (12): MaxPool2d(kernel_size=3, stride=2, padding=0, dilation=1, ceil_mode=False)\n",
       "  )\n",
       "  (avgpool): AdaptiveAvgPool2d(output_size=(6, 6))\n",
       "  (classifier): Sequential(\n",
       "    (0): Dropout(p=0.5, inplace=False)\n",
       "    (1): Linear(in_features=9216, out_features=4096, bias=True)\n",
       "    (2): ReLU(inplace=True)\n",
       "    (3): Dropout(p=0.5, inplace=False)\n",
       "    (4): Linear(in_features=4096, out_features=4096, bias=True)\n",
       "    (5): ReLU(inplace=True)\n",
       "    (6): Linear(in_features=4096, out_features=1000, bias=True)\n",
       "  )\n",
       ")"
      ]
     },
     "execution_count": 8,
     "metadata": {},
     "output_type": "execute_result"
    }
   ],
   "source": [
    "model = models.alexnet(pretrained=True)\n",
    "model.eval()"
   ]
  },
  {
   "cell_type": "code",
   "execution_count": 9,
   "id": "b221b7ac-51e0-4dfe-a682-578b60bc40c1",
   "metadata": {},
   "outputs": [],
   "source": [
    "scaler = transforms.Resize((224, 224))\n",
    "normalize = transforms.Normalize(mean=[0.485, 0.456, 0.406],\n",
    "                                 std=[0.229, 0.224, 0.225])\n",
    "to_tensor = transforms.ToTensor()"
   ]
  },
  {
   "cell_type": "code",
   "execution_count": 10,
   "id": "ccd53483-c10f-4add-94e8-74cb7c4319a1",
   "metadata": {},
   "outputs": [],
   "source": [
    "def get_vector(image_url):\n",
    "    # 1. Load the image with Pillow library\n",
    "    r = requests.get(image_url, stream=True)\n",
    "    img = Image.open(r.raw).convert('RGB')\n",
    "    # 2. Create a PyTorch Variable with the transformed image\n",
    "    t_img = Variable(to_tensor(scaler(img))).unsqueeze(0)\n",
    "    \n",
    "    # 4. Define a function that will copy the output of a layer\n",
    "    activation = {}\n",
    "    def getActivation(name):\n",
    "        # the hook signature\n",
    "        def hook(model, input, output):\n",
    "            activation[name] = output.detach().numpy()\n",
    "        return hook\n",
    "    # 5. Attach that function to our selected layer\n",
    "    h = model.classifier[5].register_forward_hook(getActivation('ReLU'))\n",
    "    # 6. Run the model on our transformed image\n",
    "    model(t_img)\n",
    "    # 7. Detach our copy function from the layer\n",
    "    h.remove()\n",
    "    # 8. Return the feature vector\n",
    "    return activation['ReLU']"
   ]
  },
  {
   "cell_type": "code",
   "execution_count": 11,
   "id": "304b7562-a925-4c02-b5af-e6dfb59368ba",
   "metadata": {},
   "outputs": [
    {
     "name": "stderr",
     "output_type": "stream",
     "text": [
      "/opt/conda/lib/python3.7/site-packages/PIL/Image.py:976: UserWarning: Palette images with Transparency expressed in bytes should be converted to RGBA images\n",
      "  \"Palette images with Transparency expressed in bytes should be \"\n"
     ]
    },
    {
     "name": "stdout",
     "output_type": "stream",
     "text": [
      "CPU times: user 6h 33min 46s, sys: 1min 59s, total: 6h 35min 46s\n",
      "Wall time: 5h 9min 53s\n"
     ]
    }
   ],
   "source": [
    "%%time\n",
    "from numpy.lib.type_check import nan_to_num\n",
    "from numpy.core.numeric import NaN\n",
    "\n",
    "image_vectors = {}\n",
    "\n",
    "# for val in range(len(df_images_test['Image_url_1'])):\n",
    "#     image_vectors[df_images_test['ID_token'][val]] = get_vector(df_images_test['Image_url_1'][val])\n",
    "\n",
    "# for val in range(10000,100000):\n",
    "#     try:\n",
    "#         image_vectors[df_images3['ID_token'].iloc[val]] = get_vector(df_images3['Image_url_1'].iloc[val])\n",
    "#     except:\n",
    "#         image_vectors[df_images3['ID_token'].iloc[val]] = NaN\n",
    "        \n",
    "for val in range(900000,1000000):\n",
    "    try:\n",
    "        image_vectors[df_images5_new['Image_url_1'].iloc[val]] = get_vector(df_images5_new['Image_url_1'].iloc[val])\n",
    "    except:\n",
    "        image_vectors[df_images5_new['Image_url_1'].iloc[val]] = NaN    "
   ]
  },
  {
   "cell_type": "code",
   "execution_count": 12,
   "id": "f855c389-591f-4dc6-a2a8-ae2698d01205",
   "metadata": {},
   "outputs": [],
   "source": [
    "df_image_url_vectors = pd.DataFrame(list(image_vectors.items()), columns=['Image_url_1', 'img_vector'])"
   ]
  },
  {
   "cell_type": "code",
   "execution_count": 13,
   "id": "8e6e5945-4f9d-47fc-9cd7-19a41f5f5c98",
   "metadata": {},
   "outputs": [
    {
     "name": "stdout",
     "output_type": "stream",
     "text": [
      "100000\n"
     ]
    }
   ],
   "source": [
    "print(len(df_image_url_vectors))"
   ]
  },
  {
   "cell_type": "code",
   "execution_count": 14,
   "id": "4ffa2aa7-d12f-497e-9022-13ad8d9fff68",
   "metadata": {},
   "outputs": [
    {
     "data": {
      "text/plain": [
       "3550"
      ]
     },
     "execution_count": 14,
     "metadata": {},
     "output_type": "execute_result"
    }
   ],
   "source": [
    "sum(pd.isnull(df_image_url_vectors['img_vector']))"
   ]
  },
  {
   "cell_type": "code",
   "execution_count": 15,
   "id": "b47d626a-2fab-40c0-912e-d3d0fddd9f44",
   "metadata": {},
   "outputs": [
    {
     "data": {
      "text/html": [
       "<div>\n",
       "<style scoped>\n",
       "    .dataframe tbody tr th:only-of-type {\n",
       "        vertical-align: middle;\n",
       "    }\n",
       "\n",
       "    .dataframe tbody tr th {\n",
       "        vertical-align: top;\n",
       "    }\n",
       "\n",
       "    .dataframe thead th {\n",
       "        text-align: right;\n",
       "    }\n",
       "</style>\n",
       "<table border=\"1\" class=\"dataframe\">\n",
       "  <thead>\n",
       "    <tr style=\"text-align: right;\">\n",
       "      <th></th>\n",
       "      <th>Image_url_1</th>\n",
       "      <th>img_vector</th>\n",
       "    </tr>\n",
       "  </thead>\n",
       "  <tbody>\n",
       "    <tr>\n",
       "      <th>99995</th>\n",
       "      <td>https://storage.opensea.io/gods-unchained-asse...</td>\n",
       "      <td>[[3.8866713, 0.0, 0.0, 0.0, 0.14462747, 0.0, 0...</td>\n",
       "    </tr>\n",
       "    <tr>\n",
       "      <th>99996</th>\n",
       "      <td>https://lh3.googleusercontent.com/eplPplnH_g9C...</td>\n",
       "      <td>[[0.0, 0.0, 0.0, 0.0, 0.0, 0.0, 0.0, 0.0, 1.01...</td>\n",
       "    </tr>\n",
       "    <tr>\n",
       "      <th>99997</th>\n",
       "      <td>https://storage.opensea.io/files/8b15e99f1a97a...</td>\n",
       "      <td>[[0.2248167, 0.0, 0.0, 0.0, 0.4086939, 0.0, 0....</td>\n",
       "    </tr>\n",
       "    <tr>\n",
       "      <th>99998</th>\n",
       "      <td>https://lh3.googleusercontent.com/tOBWoFKD482n...</td>\n",
       "      <td>[[0.0, 0.0, 0.0, 0.0, 1.2215025, 0.0, 0.0, 0.0...</td>\n",
       "    </tr>\n",
       "    <tr>\n",
       "      <th>99999</th>\n",
       "      <td>https://lh3.googleusercontent.com/q5PW-ouRdUKY...</td>\n",
       "      <td>[[0.16260676, 0.0, 0.0, 0.0, 0.9754979, 0.0, 0...</td>\n",
       "    </tr>\n",
       "  </tbody>\n",
       "</table>\n",
       "</div>"
      ],
      "text/plain": [
       "                                             Image_url_1  \\\n",
       "99995  https://storage.opensea.io/gods-unchained-asse...   \n",
       "99996  https://lh3.googleusercontent.com/eplPplnH_g9C...   \n",
       "99997  https://storage.opensea.io/files/8b15e99f1a97a...   \n",
       "99998  https://lh3.googleusercontent.com/tOBWoFKD482n...   \n",
       "99999  https://lh3.googleusercontent.com/q5PW-ouRdUKY...   \n",
       "\n",
       "                                              img_vector  \n",
       "99995  [[3.8866713, 0.0, 0.0, 0.0, 0.14462747, 0.0, 0...  \n",
       "99996  [[0.0, 0.0, 0.0, 0.0, 0.0, 0.0, 0.0, 0.0, 1.01...  \n",
       "99997  [[0.2248167, 0.0, 0.0, 0.0, 0.4086939, 0.0, 0....  \n",
       "99998  [[0.0, 0.0, 0.0, 0.0, 1.2215025, 0.0, 0.0, 0.0...  \n",
       "99999  [[0.16260676, 0.0, 0.0, 0.0, 0.9754979, 0.0, 0...  "
      ]
     },
     "execution_count": 15,
     "metadata": {},
     "output_type": "execute_result"
    }
   ],
   "source": [
    "df_image_url_vectors.tail(5)"
   ]
  },
  {
   "cell_type": "code",
   "execution_count": 16,
   "id": "7d0066bc-eb07-43e9-b69f-09c0eac0f7aa",
   "metadata": {},
   "outputs": [],
   "source": [
    "df_image_url_vectors.to_pickle('df_image_url_vectors900000-1000000.pkl')"
   ]
  },
  {
   "cell_type": "code",
   "execution_count": null,
   "id": "988bdf47-7045-49ce-9a7e-0e77ceb3d10a",
   "metadata": {},
   "outputs": [],
   "source": []
  }
 ],
 "metadata": {
  "environment": {
   "kernel": "python3",
   "name": "common-cpu.m87",
   "type": "gcloud",
   "uri": "gcr.io/deeplearning-platform-release/base-cpu:m87"
  },
  "kernelspec": {
   "display_name": "Python 3",
   "language": "python",
   "name": "python3"
  },
  "language_info": {
   "codemirror_mode": {
    "name": "ipython",
    "version": 3
   },
   "file_extension": ".py",
   "mimetype": "text/x-python",
   "name": "python",
   "nbconvert_exporter": "python",
   "pygments_lexer": "ipython3",
   "version": "3.7.12"
  }
 },
 "nbformat": 4,
 "nbformat_minor": 5
}
