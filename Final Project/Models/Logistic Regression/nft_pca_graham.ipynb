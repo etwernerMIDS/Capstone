{
 "cells": [
  {
   "cell_type": "code",
   "execution_count": 1,
   "id": "59c3ec8f-510b-461a-ba71-55350f72a7d4",
   "metadata": {},
   "outputs": [
    {
     "data": {
      "text/plain": [
       "'/home/jupyter/nft/nft_capstone'"
      ]
     },
     "execution_count": 1,
     "metadata": {},
     "output_type": "execute_result"
    }
   ],
   "source": [
    "import os\n",
    "import pandas as pd\n",
    "os.getcwd()"
   ]
  },
  {
   "cell_type": "markdown",
   "id": "e8d239b1-343c-40a9-a4ed-a62ce37fc97c",
   "metadata": {},
   "source": [
    "## Prepare PCA on image vectors"
   ]
  },
  {
   "cell_type": "code",
   "execution_count": 2,
   "id": "d6d68fa7-add2-4016-8468-16e8efc8e932",
   "metadata": {},
   "outputs": [],
   "source": [
    "# # load image vector files into temp dataframes\n",
    "# # OLD - loads from local file directory\n",
    "\n",
    "# temp_df1 = pd.read_pickle('df_image_url_vectors0-50000.pkl')\n",
    "# temp_df2 = pd.read_pickle('df_image_url_vectors50000-100000.pkl')\n",
    "# temp_df3 = pd.read_pickle('df_image_url_vectors100000-150000.pkl')\n",
    "# temp_df4 = pd.read_pickle('df_image_url_vectors150000-200000.pkl')\n",
    "# temp_df5 = pd.read_pickle('df_image_url_vectors200000-250000.pkl')\n",
    "# temp_df6 = pd.read_pickle('df_image_url_vectors250000-300000.pkl')\n",
    "# temp_df7 = pd.read_pickle('df_image_url_vectors300000-350000.pkl')\n",
    "# temp_df8 = pd.read_pickle('df_image_url_vectors350000-400000.pkl')\n",
    "# temp_df9 = pd.read_pickle('df_image_url_vectors400000-450000.pkl')\n",
    "# temp_df10 = pd.read_pickle('df_image_url_vectors450000-500000.pkl')\n",
    "# temp_df11 = pd.read_pickle('df_image_url_vectors500000-550000.pkl')\n",
    "# temp_df12 = pd.read_pickle('df_image_url_vectors550000-600000.pkl')\n",
    "# temp_df13 = pd.read_pickle('df_image_url_vectors600000-650000.pkl')\n",
    "# temp_df14 = pd.read_pickle('df_image_url_vectors650000-700000.pkl')\n",
    "# temp_df15 = pd.read_pickle('df_image_url_vectors700000-750000.pkl')\n",
    "# temp_df16 = pd.read_pickle('df_image_url_vectors750000-800000.pkl')\n",
    "# temp_df17 = pd.read_pickle('df_image_url_vectors800000-850000.pkl')\n",
    "# temp_df18 = pd.read_pickle('df_image_url_vectors850000-900000.pkl')\n",
    "# temp_df19 = pd.read_pickle('df_image_url_vectors900000-950000.pkl')\n",
    "# temp_df20 = pd.read_pickle('df_image_url_vectors950000-1000000.pkl')\n",
    "# temp_df21 = pd.read_pickle('df_image_url_vectors1000000-1050000.pkl')\n",
    "# temp_df22 = pd.read_pickle('df_image_url_vectors1050000-1100000.pkl')\n",
    "# temp_df23 = pd.read_pickle('df_image_url_vectors1100000-1150000.pkl')\n",
    "# temp_df24 = pd.read_pickle('df_image_url_vectors1150000-1200000.pkl')\n",
    "# temp_df25 = pd.read_pickle('df_image_url_vectors1200000-1250000.pkl')\n",
    "# temp_df26 = pd.read_pickle('df_image_url_vectors1250000-1300000.pkl')\n",
    "# temp_df27 = pd.read_pickle('df_image_url_vectors1300000-1350000.pkl')\n",
    "# temp_df28 = pd.read_pickle('df_image_url_vectors1350000-1400000.pkl')\n",
    "# temp_df29 = pd.read_pickle('df_image_url_vectors1400000-1404690.pkl')\n",
    "# temp_df30 = pd.read_pickle('df_image_vectors_nans_match.pkl')"
   ]
  },
  {
   "cell_type": "code",
   "execution_count": 8,
   "id": "e5f616ce-f2ee-4d57-9303-8abc10fd3816",
   "metadata": {},
   "outputs": [],
   "source": [
    "# https://nft-capstone.s3.us-west-1.amazonaws.com/df_image_url_vectors0-50000.pkl\n",
    "\n",
    "# updated locations\n",
    "# load image vector files into temp dataframes from a mix of AWS and Google Cloud Storage locations\n",
    "\n",
    "temp_df1 = pd.read_pickle('https://nft-capstone.s3.us-west-1.amazonaws.com/df_image_url_vectors0-50000.pkl')\n",
    "temp_df2 = pd.read_pickle('https://storage.googleapis.com/nft_capstone_datafiles/df_image_url_vectors50000-100000.pkl')\n",
    "temp_df3 = pd.read_pickle('https://nft-capstone.s3.us-west-1.amazonaws.com/df_image_url_vectors100000-150000.pkl')\n",
    "temp_df4 = pd.read_pickle('https://nft-capstone.s3.us-west-1.amazonaws.com/df_image_url_vectors150000-200000.pkl')\n",
    "temp_df5 = pd.read_pickle('https://nft-capstone.s3.us-west-1.amazonaws.com/df_image_url_vectors200000-250000.pkl')\n",
    "temp_df6 = pd.read_pickle('https://nft-capstone.s3.us-west-1.amazonaws.com/df_image_url_vectors250000-300000.pkl')\n",
    "temp_df7 = pd.read_pickle('https://nft-capstone.s3.us-west-1.amazonaws.com/df_image_url_vectors300000-350000.pkl')\n",
    "temp_df8 = pd.read_pickle('https://nft-capstone.s3.us-west-1.amazonaws.com/df_image_url_vectors350000-400000.pkl')\n",
    "temp_df9 = pd.read_pickle('https://nft-capstone.s3.us-west-1.amazonaws.com/df_image_url_vectors400000-450000.pkl')\n",
    "temp_df10 = pd.read_pickle('https://nft-capstone.s3.us-west-1.amazonaws.com/df_image_url_vectors450000-500000.pkl')\n",
    "temp_df11 = pd.read_pickle('https://nft-capstone.s3.us-west-1.amazonaws.com/df_image_url_vectors500000-550000.pkl')\n",
    "temp_df12 = pd.read_pickle('https://nft-capstone.s3.us-west-1.amazonaws.com/df_image_url_vectors550000-600000.pkl')\n",
    "temp_df13 = pd.read_pickle('https://nft-capstone.s3.us-west-1.amazonaws.com/df_image_url_vectors600000-650000.pkl')\n",
    "temp_df14 = pd.read_pickle('https://nft-capstone.s3.us-west-1.amazonaws.com/df_image_url_vectors650000-700000.pkl')\n",
    "temp_df15 = pd.read_pickle('https://nft-capstone.s3.us-west-1.amazonaws.com/df_image_url_vectors700000-750000.pkl')\n",
    "temp_df16 = pd.read_pickle('https://nft-capstone.s3.us-west-1.amazonaws.com/df_image_url_vectors750000-800000.pkl')\n",
    "temp_df17 = pd.read_pickle('https://nft-capstone.s3.us-west-1.amazonaws.com/df_image_url_vectors800000-850000.pkl')\n",
    "temp_df18 = pd.read_pickle('https://nft-capstone.s3.us-west-1.amazonaws.com/df_image_url_vectors850000-900000.pkl')\n",
    "# temp_df19 = pd.read_pickle('https://nft-capstone.s3.us-west-1.amazonaws.com/df_image_url_vectors900000-950000.pkl')\n",
    "# temp_df20 = pd.read_pickle('https://nft-capstone.s3.us-west-1.amazonaws.com/df_image_url_vectors950000-1000000.pkl')\n",
    "# temp_df21 = pd.read_pickle('https://nft-capstone.s3.us-west-1.amazonaws.com/df_image_url_vectors1000000-1050000.pkl')\n",
    "# temp_df22 = pd.read_pickle('https://nft-capstone.s3.us-west-1.amazonaws.com/df_image_url_vectors1050000-1100000.pkl')\n",
    "temp_df21 = pd.read_pickle('https://storage.googleapis.com/nft_capstone_datafiles/df_image_url_vectors900000-1000000.pkl')\n",
    "temp_df22 = pd.read_pickle('https://storage.googleapis.com/nft_capstone_datafiles/df_image_url_vectors1000000-1100000.pkl')\n",
    "temp_df23 = pd.read_pickle('https://storage.googleapis.com/nft_capstone_datafiles/df_image_url_vectors1100000-1200000.pkl')\n",
    "temp_df24 = pd.read_pickle('https://storage.googleapis.com/nft_capstone_datafiles/df_image_url_vectors1200000-1300000.pkl')\n",
    "temp_df25 = pd.read_pickle('https://storage.googleapis.com/nft_capstone_datafiles/df_image_url_vectors1300000-1400000.pkl')\n",
    "temp_df26 = pd.read_pickle('https://storage.googleapis.com/nft_capstone_datafiles/df_image_url_vectors1400000-1500000.pkl')\n",
    "temp_df27 = pd.read_pickle('https://storage.googleapis.com/nft_capstone_datafiles/df_image_url_vectors1500000-1600000.pkl')\n",
    "temp_df28 = pd.read_pickle('https://storage.googleapis.com/nft_capstone_datafiles/df_image_url_vectors1600000-1602953.pkl')\n",
    "# temp_df29 = pd.read_pickle('df_image_url_vectors1400000-1404690.pkl')\n",
    "temp_df30 = pd.read_pickle('https://storage.googleapis.com/nft_capstone_datafiles/df_image_vectors_nans_match.pkl')"
   ]
  },
  {
   "cell_type": "code",
   "execution_count": 9,
   "id": "0713fc20-a3ff-40f2-8321-f17d7f6d2846",
   "metadata": {},
   "outputs": [
    {
     "data": {
      "text/plain": [
       "28231"
      ]
     },
     "execution_count": 9,
     "metadata": {},
     "output_type": "execute_result"
    }
   ],
   "source": [
    "len(temp_df30)"
   ]
  },
  {
   "cell_type": "code",
   "execution_count": 7,
   "id": "2de9f45d-b2b5-452f-b129-af5b4ae2e668",
   "metadata": {},
   "outputs": [
    {
     "data": {
      "text/html": [
       "<div>\n",
       "<style scoped>\n",
       "    .dataframe tbody tr th:only-of-type {\n",
       "        vertical-align: middle;\n",
       "    }\n",
       "\n",
       "    .dataframe tbody tr th {\n",
       "        vertical-align: top;\n",
       "    }\n",
       "\n",
       "    .dataframe thead th {\n",
       "        text-align: right;\n",
       "    }\n",
       "</style>\n",
       "<table border=\"1\" class=\"dataframe\">\n",
       "  <thead>\n",
       "    <tr style=\"text-align: right;\">\n",
       "      <th></th>\n",
       "      <th>Image_url_1</th>\n",
       "      <th>img_vector</th>\n",
       "    </tr>\n",
       "  </thead>\n",
       "  <tbody>\n",
       "    <tr>\n",
       "      <th>0</th>\n",
       "      <td>https://card.godsunchained.com/?id=33&amp;q=4</td>\n",
       "      <td>[[0.0, 0.0, 0.0, 0.0, 0.66582686, 0.0, 0.0, 0....</td>\n",
       "    </tr>\n",
       "    <tr>\n",
       "      <th>1</th>\n",
       "      <td>https://card.godsunchained.com/?id=79&amp;q=4</td>\n",
       "      <td>[[0.0, 0.0, 0.0, 0.0, 0.7870717, 0.0, 0.0, 0.0...</td>\n",
       "    </tr>\n",
       "    <tr>\n",
       "      <th>2</th>\n",
       "      <td>https://card.godsunchained.com/?id=227&amp;q=4</td>\n",
       "      <td>[[0.0, 0.0, 0.0, 0.0, 1.1091523, 0.0, 0.0, 0.0...</td>\n",
       "    </tr>\n",
       "    <tr>\n",
       "      <th>3</th>\n",
       "      <td>https://card.godsunchained.com/?id=62&amp;q=4</td>\n",
       "      <td>[[0.0, 0.0, 0.0, 0.0, 1.1519713, 0.0, 0.0, 0.0...</td>\n",
       "    </tr>\n",
       "    <tr>\n",
       "      <th>4</th>\n",
       "      <td>https://card.godsunchained.com/?id=116&amp;q=4</td>\n",
       "      <td>[[0.0, 0.0, 0.0, 0.0, 0.80371, 0.0, 0.0, 0.0, ...</td>\n",
       "    </tr>\n",
       "  </tbody>\n",
       "</table>\n",
       "</div>"
      ],
      "text/plain": [
       "                                  Image_url_1  \\\n",
       "0   https://card.godsunchained.com/?id=33&q=4   \n",
       "1   https://card.godsunchained.com/?id=79&q=4   \n",
       "2  https://card.godsunchained.com/?id=227&q=4   \n",
       "3   https://card.godsunchained.com/?id=62&q=4   \n",
       "4  https://card.godsunchained.com/?id=116&q=4   \n",
       "\n",
       "                                          img_vector  \n",
       "0  [[0.0, 0.0, 0.0, 0.0, 0.66582686, 0.0, 0.0, 0....  \n",
       "1  [[0.0, 0.0, 0.0, 0.0, 0.7870717, 0.0, 0.0, 0.0...  \n",
       "2  [[0.0, 0.0, 0.0, 0.0, 1.1091523, 0.0, 0.0, 0.0...  \n",
       "3  [[0.0, 0.0, 0.0, 0.0, 1.1519713, 0.0, 0.0, 0.0...  \n",
       "4  [[0.0, 0.0, 0.0, 0.0, 0.80371, 0.0, 0.0, 0.0, ...  "
      ]
     },
     "execution_count": 7,
     "metadata": {},
     "output_type": "execute_result"
    }
   ],
   "source": [
    "# concatenate temp dataframes\n",
    "# df_image_vectors_wip = pd.concat([temp_df1, temp_df2, temp_df3, temp_df4, temp_df5, temp_df6, temp_df7, temp_df8,\n",
    "#                                   temp_df9, temp_df10, temp_df11, temp_df12, temp_df13, temp_df14, temp_df15, temp_df16,\n",
    "#                                   temp_df17, temp_df18, temp_df19, temp_df20, temp_df21, temp_df22, temp_df23, temp_df24, \n",
    "#                                   temp_df25, temp_df26, temp_df27, temp_df28, temp_df29]).reset_index().drop(columns=['index'])\n",
    "\n",
    "df_image_vectors_wip = pd.concat([temp_df1, temp_df2, temp_df3, temp_df4, temp_df5, temp_df6, temp_df7, temp_df8,\n",
    "                                  temp_df9, temp_df10, temp_df11, temp_df12, temp_df13, temp_df14, temp_df15, temp_df16,\n",
    "                                  temp_df17, temp_df18, temp_df21, temp_df22, temp_df23, temp_df24, \n",
    "                                  temp_df25, temp_df26, temp_df27, temp_df28]).reset_index().drop(columns=['index'])\n",
    "\n",
    "df_image_vectors_wip.head(5)"
   ]
  },
  {
   "cell_type": "code",
   "execution_count": 8,
   "id": "fa3c1db4-e60d-4ad3-bcf9-35e60d9fb7b7",
   "metadata": {},
   "outputs": [
    {
     "data": {
      "text/plain": [
       "1602953"
      ]
     },
     "execution_count": 8,
     "metadata": {},
     "output_type": "execute_result"
    }
   ],
   "source": [
    "len(df_image_vectors_wip)"
   ]
  },
  {
   "cell_type": "code",
   "execution_count": 9,
   "id": "5575a941-7c59-40b9-a0cd-f93bc273205c",
   "metadata": {},
   "outputs": [],
   "source": [
    "# df_image_vectors_wip_gs = pd.concat([temp_df21, temp_df22, temp_df23, temp_df24, \n",
    "#                                   temp_df25, temp_df26, temp_df27, temp_df28]).reset_index().drop(columns=['index'])\n",
    "# print(len(df_image_vectors_wip_gs))\n",
    "# df_image_vectors_wip_gs.head(5)"
   ]
  },
  {
   "cell_type": "code",
   "execution_count": 10,
   "id": "2a75e4d3-addc-41bb-ae5e-ec04767f7b02",
   "metadata": {},
   "outputs": [],
   "source": [
    "# df_image_vectors_wip1_5 = pd.merge(df_image_vectors_wip, df_image_vectors_wip_gs, on='Image_url_1', how='left')\n",
    "# print(len(df_image_vectors_wip1_5))\n",
    "# print(len(df_image_vectors_wip_gs))\n",
    "# df_image_vectors_wip1_5.head(5)"
   ]
  },
  {
   "cell_type": "code",
   "execution_count": 11,
   "id": "a268d4dd-7baa-4975-99d2-861934df2801",
   "metadata": {},
   "outputs": [],
   "source": [
    "# df_image_vectors_wip1_5.isna().sum()"
   ]
  },
  {
   "cell_type": "code",
   "execution_count": 12,
   "id": "3359777b-d375-40b9-aa44-216a4916d94e",
   "metadata": {},
   "outputs": [],
   "source": [
    "# df_image_vectors_wip1_5.loc[df_image_vectors_wip1_5['img_vector_x'].isna(),'img_vector_x']=df_image_vectors_wip1_5.loc[df_image_vectors_wip1_5['img_vector_x'].isna(),'img_vector_y']"
   ]
  },
  {
   "cell_type": "code",
   "execution_count": 13,
   "id": "6604edb6-1f4d-469b-9e77-296fab2b9ff8",
   "metadata": {},
   "outputs": [],
   "source": [
    "# df_image_vectors_wip1_5.isna().sum()"
   ]
  },
  {
   "cell_type": "code",
   "execution_count": 14,
   "id": "afc11415-ca12-4660-bac3-b9c3de963678",
   "metadata": {},
   "outputs": [],
   "source": [
    "# df_image_vectors_wip2.isna().sum()"
   ]
  },
  {
   "cell_type": "code",
   "execution_count": 15,
   "id": "94fa9a08-fd0c-4a12-936a-f708627f53cb",
   "metadata": {},
   "outputs": [
    {
     "name": "stdout",
     "output_type": "stream",
     "text": [
      "1602953\n",
      "28231\n"
     ]
    },
    {
     "data": {
      "text/html": [
       "<div>\n",
       "<style scoped>\n",
       "    .dataframe tbody tr th:only-of-type {\n",
       "        vertical-align: middle;\n",
       "    }\n",
       "\n",
       "    .dataframe tbody tr th {\n",
       "        vertical-align: top;\n",
       "    }\n",
       "\n",
       "    .dataframe thead th {\n",
       "        text-align: right;\n",
       "    }\n",
       "</style>\n",
       "<table border=\"1\" class=\"dataframe\">\n",
       "  <thead>\n",
       "    <tr style=\"text-align: right;\">\n",
       "      <th></th>\n",
       "      <th>Image_url_1</th>\n",
       "      <th>img_vector</th>\n",
       "      <th>img_vector_x</th>\n",
       "      <th>img_vector_y</th>\n",
       "    </tr>\n",
       "  </thead>\n",
       "  <tbody>\n",
       "    <tr>\n",
       "      <th>0</th>\n",
       "      <td>https://card.godsunchained.com/?id=33&amp;q=4</td>\n",
       "      <td>[[0.0, 0.0, 0.0, 0.0, 0.66582686, 0.0, 0.0, 0....</td>\n",
       "      <td>NaN</td>\n",
       "      <td>NaN</td>\n",
       "    </tr>\n",
       "    <tr>\n",
       "      <th>1</th>\n",
       "      <td>https://card.godsunchained.com/?id=79&amp;q=4</td>\n",
       "      <td>[[0.0, 0.0, 0.0, 0.0, 0.7870717, 0.0, 0.0, 0.0...</td>\n",
       "      <td>NaN</td>\n",
       "      <td>NaN</td>\n",
       "    </tr>\n",
       "    <tr>\n",
       "      <th>2</th>\n",
       "      <td>https://card.godsunchained.com/?id=227&amp;q=4</td>\n",
       "      <td>[[0.0, 0.0, 0.0, 0.0, 1.1091523, 0.0, 0.0, 0.0...</td>\n",
       "      <td>NaN</td>\n",
       "      <td>NaN</td>\n",
       "    </tr>\n",
       "    <tr>\n",
       "      <th>3</th>\n",
       "      <td>https://card.godsunchained.com/?id=62&amp;q=4</td>\n",
       "      <td>[[0.0, 0.0, 0.0, 0.0, 1.1519713, 0.0, 0.0, 0.0...</td>\n",
       "      <td>NaN</td>\n",
       "      <td>NaN</td>\n",
       "    </tr>\n",
       "    <tr>\n",
       "      <th>4</th>\n",
       "      <td>https://card.godsunchained.com/?id=116&amp;q=4</td>\n",
       "      <td>[[0.0, 0.0, 0.0, 0.0, 0.80371, 0.0, 0.0, 0.0, ...</td>\n",
       "      <td>NaN</td>\n",
       "      <td>NaN</td>\n",
       "    </tr>\n",
       "  </tbody>\n",
       "</table>\n",
       "</div>"
      ],
      "text/plain": [
       "                                  Image_url_1  \\\n",
       "0   https://card.godsunchained.com/?id=33&q=4   \n",
       "1   https://card.godsunchained.com/?id=79&q=4   \n",
       "2  https://card.godsunchained.com/?id=227&q=4   \n",
       "3   https://card.godsunchained.com/?id=62&q=4   \n",
       "4  https://card.godsunchained.com/?id=116&q=4   \n",
       "\n",
       "                                          img_vector img_vector_x img_vector_y  \n",
       "0  [[0.0, 0.0, 0.0, 0.0, 0.66582686, 0.0, 0.0, 0....          NaN          NaN  \n",
       "1  [[0.0, 0.0, 0.0, 0.0, 0.7870717, 0.0, 0.0, 0.0...          NaN          NaN  \n",
       "2  [[0.0, 0.0, 0.0, 0.0, 1.1091523, 0.0, 0.0, 0.0...          NaN          NaN  \n",
       "3  [[0.0, 0.0, 0.0, 0.0, 1.1519713, 0.0, 0.0, 0.0...          NaN          NaN  \n",
       "4  [[0.0, 0.0, 0.0, 0.0, 0.80371, 0.0, 0.0, 0.0, ...          NaN          NaN  "
      ]
     },
     "execution_count": 15,
     "metadata": {},
     "output_type": "execute_result"
    }
   ],
   "source": [
    "df_image_vectors_wip2 = pd.merge(df_image_vectors_wip, temp_df30, on='Image_url_1', how='left')\n",
    "print(len(df_image_vectors_wip2))\n",
    "print(len(temp_df30))\n",
    "df_image_vectors_wip2.head(5)"
   ]
  },
  {
   "cell_type": "code",
   "execution_count": 16,
   "id": "5bf8b078-4da0-4268-93aa-621358419e98",
   "metadata": {},
   "outputs": [
    {
     "data": {
      "text/plain": [
       "Image_url_1         0\n",
       "img_vector     169256\n",
       "dtype: int64"
      ]
     },
     "execution_count": 16,
     "metadata": {},
     "output_type": "execute_result"
    }
   ],
   "source": [
    "df_image_vectors_wip.isna().sum()"
   ]
  },
  {
   "cell_type": "code",
   "execution_count": 17,
   "id": "94593a87-6de1-440e-b0d4-07b681213b51",
   "metadata": {},
   "outputs": [
    {
     "data": {
      "text/plain": [
       "Image_url_1           0\n",
       "img_vector       169256\n",
       "img_vector_x    1602953\n",
       "img_vector_y    1574722\n",
       "dtype: int64"
      ]
     },
     "execution_count": 17,
     "metadata": {},
     "output_type": "execute_result"
    }
   ],
   "source": [
    "df_image_vectors_wip2.isna().sum()"
   ]
  },
  {
   "cell_type": "code",
   "execution_count": 18,
   "id": "4d9d14d2-4a26-4dbe-8a81-e3bf887f77b1",
   "metadata": {},
   "outputs": [],
   "source": [
    "# df.loc[df['Subtype'].eq('Not Specified'),'Subtype']=df.loc[df['Subtype'].eq('Not Specified'),'Type']\n",
    "df_image_vectors_wip2.loc[df_image_vectors_wip2['img_vector'].isna(),'img_vector']=df_image_vectors_wip2.loc[df_image_vectors_wip2['img_vector'].isna(),'img_vector_y']"
   ]
  },
  {
   "cell_type": "code",
   "execution_count": 19,
   "id": "ae385832-1266-4ded-93b5-64298c8b51b0",
   "metadata": {},
   "outputs": [
    {
     "data": {
      "text/plain": [
       "Image_url_1           0\n",
       "img_vector       141031\n",
       "img_vector_x    1602953\n",
       "img_vector_y    1574722\n",
       "dtype: int64"
      ]
     },
     "execution_count": 19,
     "metadata": {},
     "output_type": "execute_result"
    }
   ],
   "source": [
    "df_image_vectors_wip2.isna().sum()"
   ]
  },
  {
   "cell_type": "code",
   "execution_count": 20,
   "id": "3ffea343-c565-492b-8be7-8055c528c294",
   "metadata": {},
   "outputs": [
    {
     "data": {
      "text/html": [
       "<div>\n",
       "<style scoped>\n",
       "    .dataframe tbody tr th:only-of-type {\n",
       "        vertical-align: middle;\n",
       "    }\n",
       "\n",
       "    .dataframe tbody tr th {\n",
       "        vertical-align: top;\n",
       "    }\n",
       "\n",
       "    .dataframe thead th {\n",
       "        text-align: right;\n",
       "    }\n",
       "</style>\n",
       "<table border=\"1\" class=\"dataframe\">\n",
       "  <thead>\n",
       "    <tr style=\"text-align: right;\">\n",
       "      <th></th>\n",
       "      <th>Image_url_1</th>\n",
       "      <th>img_vector</th>\n",
       "    </tr>\n",
       "  </thead>\n",
       "  <tbody>\n",
       "    <tr>\n",
       "      <th>0</th>\n",
       "      <td>https://card.godsunchained.com/?id=33&amp;q=4</td>\n",
       "      <td>[[0.0, 0.0, 0.0, 0.0, 0.66582686, 0.0, 0.0, 0....</td>\n",
       "    </tr>\n",
       "    <tr>\n",
       "      <th>1</th>\n",
       "      <td>https://card.godsunchained.com/?id=79&amp;q=4</td>\n",
       "      <td>[[0.0, 0.0, 0.0, 0.0, 0.7870717, 0.0, 0.0, 0.0...</td>\n",
       "    </tr>\n",
       "    <tr>\n",
       "      <th>2</th>\n",
       "      <td>https://card.godsunchained.com/?id=227&amp;q=4</td>\n",
       "      <td>[[0.0, 0.0, 0.0, 0.0, 1.1091523, 0.0, 0.0, 0.0...</td>\n",
       "    </tr>\n",
       "    <tr>\n",
       "      <th>3</th>\n",
       "      <td>https://card.godsunchained.com/?id=62&amp;q=4</td>\n",
       "      <td>[[0.0, 0.0, 0.0, 0.0, 1.1519713, 0.0, 0.0, 0.0...</td>\n",
       "    </tr>\n",
       "    <tr>\n",
       "      <th>4</th>\n",
       "      <td>https://card.godsunchained.com/?id=116&amp;q=4</td>\n",
       "      <td>[[0.0, 0.0, 0.0, 0.0, 0.80371, 0.0, 0.0, 0.0, ...</td>\n",
       "    </tr>\n",
       "  </tbody>\n",
       "</table>\n",
       "</div>"
      ],
      "text/plain": [
       "                                  Image_url_1  \\\n",
       "0   https://card.godsunchained.com/?id=33&q=4   \n",
       "1   https://card.godsunchained.com/?id=79&q=4   \n",
       "2  https://card.godsunchained.com/?id=227&q=4   \n",
       "3   https://card.godsunchained.com/?id=62&q=4   \n",
       "4  https://card.godsunchained.com/?id=116&q=4   \n",
       "\n",
       "                                          img_vector  \n",
       "0  [[0.0, 0.0, 0.0, 0.0, 0.66582686, 0.0, 0.0, 0....  \n",
       "1  [[0.0, 0.0, 0.0, 0.0, 0.7870717, 0.0, 0.0, 0.0...  \n",
       "2  [[0.0, 0.0, 0.0, 0.0, 1.1091523, 0.0, 0.0, 0.0...  \n",
       "3  [[0.0, 0.0, 0.0, 0.0, 1.1519713, 0.0, 0.0, 0.0...  \n",
       "4  [[0.0, 0.0, 0.0, 0.0, 0.80371, 0.0, 0.0, 0.0, ...  "
      ]
     },
     "execution_count": 20,
     "metadata": {},
     "output_type": "execute_result"
    }
   ],
   "source": [
    "df_image_vectors_wip3 = df_image_vectors_wip2.drop(columns=['img_vector_x', 'img_vector_y'])\n",
    "df_image_vectors_wip3.head(5)"
   ]
  },
  {
   "cell_type": "code",
   "execution_count": 21,
   "id": "86b08bfe-b93f-4d6b-a879-f10068759d18",
   "metadata": {},
   "outputs": [
    {
     "data": {
      "text/plain": [
       "Image_url_1         0\n",
       "img_vector     141031\n",
       "dtype: int64"
      ]
     },
     "execution_count": 21,
     "metadata": {},
     "output_type": "execute_result"
    }
   ],
   "source": [
    "# confirm NaNs in dataset\n",
    "df_image_vectors_wip3.isna().sum()"
   ]
  },
  {
   "cell_type": "code",
   "execution_count": 22,
   "id": "42a9c8b5-a404-432b-afce-48dda8e14915",
   "metadata": {},
   "outputs": [
    {
     "data": {
      "text/plain": [
       "1461922"
      ]
     },
     "execution_count": 22,
     "metadata": {},
     "output_type": "execute_result"
    }
   ],
   "source": [
    "df_image_vectors_wip_nonans = df_image_vectors_wip3[df_image_vectors_wip3['img_vector'].isnull() == False]\n",
    "len(df_image_vectors_wip_nonans)"
   ]
  },
  {
   "cell_type": "code",
   "execution_count": 23,
   "id": "60d7508e-4029-4247-86a5-81390f0af037",
   "metadata": {},
   "outputs": [
    {
     "data": {
      "text/plain": [
       "141031"
      ]
     },
     "execution_count": 23,
     "metadata": {},
     "output_type": "execute_result"
    }
   ],
   "source": [
    "df_image_vectors_nans = df_image_vectors_wip3[df_image_vectors_wip3['img_vector'].isnull() == True]\n",
    "len(df_image_vectors_nans)"
   ]
  },
  {
   "cell_type": "code",
   "execution_count": 24,
   "id": "40556ec6-dab9-4eda-a961-faa0078c280b",
   "metadata": {},
   "outputs": [],
   "source": [
    "df_image_vectors_nans.to_pickle('df_image_vectors_nans.pkl')"
   ]
  },
  {
   "cell_type": "code",
   "execution_count": 25,
   "id": "ca93bfea-32d9-4b3e-a5ab-613ecb29a1be",
   "metadata": {},
   "outputs": [],
   "source": [
    "df_image_vectors_wip_nonans2 = df_image_vectors_wip_nonans[['img_vector']]"
   ]
  },
  {
   "cell_type": "code",
   "execution_count": 26,
   "id": "ad19806e-0b76-4920-8115-46d985d58809",
   "metadata": {},
   "outputs": [],
   "source": [
    "import numpy as np\n",
    "df_image_vectors_wip_nonans3 = df_image_vectors_wip_nonans2.applymap(np.squeeze)"
   ]
  },
  {
   "cell_type": "code",
   "execution_count": 27,
   "id": "030ab64e-9e74-4963-9072-77fc64091066",
   "metadata": {},
   "outputs": [
    {
     "name": "stdout",
     "output_type": "stream",
     "text": [
      "<class 'pandas.core.frame.DataFrame'>\n"
     ]
    },
    {
     "data": {
      "text/html": [
       "<div>\n",
       "<style scoped>\n",
       "    .dataframe tbody tr th:only-of-type {\n",
       "        vertical-align: middle;\n",
       "    }\n",
       "\n",
       "    .dataframe tbody tr th {\n",
       "        vertical-align: top;\n",
       "    }\n",
       "\n",
       "    .dataframe thead th {\n",
       "        text-align: right;\n",
       "    }\n",
       "</style>\n",
       "<table border=\"1\" class=\"dataframe\">\n",
       "  <thead>\n",
       "    <tr style=\"text-align: right;\">\n",
       "      <th></th>\n",
       "      <th>img_vector</th>\n",
       "    </tr>\n",
       "  </thead>\n",
       "  <tbody>\n",
       "    <tr>\n",
       "      <th>0</th>\n",
       "      <td>[0.0, 0.0, 0.0, 0.0, 0.66582686, 0.0, 0.0, 0.0...</td>\n",
       "    </tr>\n",
       "  </tbody>\n",
       "</table>\n",
       "</div>"
      ],
      "text/plain": [
       "                                          img_vector\n",
       "0  [0.0, 0.0, 0.0, 0.0, 0.66582686, 0.0, 0.0, 0.0..."
      ]
     },
     "execution_count": 27,
     "metadata": {},
     "output_type": "execute_result"
    }
   ],
   "source": [
    "print(type(df_image_vectors_wip_nonans3))\n",
    "df_image_vectors_wip_nonans3.head(1)"
   ]
  },
  {
   "cell_type": "code",
   "execution_count": 28,
   "id": "d2666d25-9d67-4771-9e6a-0388411d6587",
   "metadata": {},
   "outputs": [
    {
     "data": {
      "text/plain": [
       "(1461922, 4096)"
      ]
     },
     "execution_count": 28,
     "metadata": {},
     "output_type": "execute_result"
    }
   ],
   "source": [
    "arr_image_vectors_wip_nonans = np.array(df_image_vectors_wip_nonans3['img_vector'].tolist(), dtype=np.float32)\n",
    "arr_image_vectors_wip_nonans.shape"
   ]
  },
  {
   "cell_type": "markdown",
   "id": "cb387209-b470-4e5a-afb5-102feef99e5c",
   "metadata": {},
   "source": [
    "## Run PCA"
   ]
  },
  {
   "cell_type": "code",
   "execution_count": 29,
   "id": "af115587-859b-46a4-b0b3-7729758c1133",
   "metadata": {},
   "outputs": [
    {
     "name": "stdout",
     "output_type": "stream",
     "text": [
      "[0.21541539 0.07508269 0.06104113 0.04450591 0.04384191]\n",
      "[26645.99  15731.256 14184.198 12111.622 12020.934]\n"
     ]
    }
   ],
   "source": [
    "import numpy as np\n",
    "from sklearn.decomposition import PCA\n",
    "\n",
    "X = arr_image_vectors_wip_nonans\n",
    "pca = PCA(n_components=5)\n",
    "pca.fit(X)\n",
    "print(pca.explained_variance_ratio_)\n",
    "print(pca.singular_values_)"
   ]
  },
  {
   "cell_type": "code",
   "execution_count": 30,
   "id": "828f7068-70e1-431e-a173-1a37c587f072",
   "metadata": {},
   "outputs": [
    {
     "name": "stdout",
     "output_type": "stream",
     "text": [
      "(1461922, 5)\n"
     ]
    },
    {
     "data": {
      "text/plain": [
       "array([[ 29.416073 ,   5.228051 ,  21.838697 ,   7.479497 ,  -6.736364 ],\n",
       "       [ 29.122555 ,  10.703643 ,  19.475803 ,   4.4823275,  -9.481604 ],\n",
       "       [ 29.706314 ,   4.7115264,  23.277472 ,   2.693415 , -11.10511  ],\n",
       "       ...,\n",
       "       [ 21.281034 ,  -1.6056234,  16.606096 ,  -1.5008688,   7.324433 ],\n",
       "       [ 17.46168  ,   4.8553767,  21.607574 ,   7.852221 ,   1.2732193],\n",
       "       [ 16.989954 ,   0.4418607,  23.395792 ,  -2.129475 ,   1.0659839]],\n",
       "      dtype=float32)"
      ]
     },
     "execution_count": 30,
     "metadata": {},
     "output_type": "execute_result"
    }
   ],
   "source": [
    "X_reduced = pca.fit_transform(X)\n",
    "print(X_reduced.shape)\n",
    "X_reduced"
   ]
  },
  {
   "cell_type": "code",
   "execution_count": 31,
   "id": "2e713adb-7173-47f5-b86a-309af1ea0add",
   "metadata": {},
   "outputs": [
    {
     "data": {
      "image/png": "[encoded data removed]",
      "text/plain": [
       "<Figure size 432x288 with 1 Axes>"
      ]
     },
     "metadata": {
      "needs_background": "light"
     },
     "output_type": "display_data"
    }
   ],
   "source": [
    "from sklearn.decomposition import PCA\n",
    "from sklearn import preprocessing\n",
    "import matplotlib.pyplot as plt\n",
    "\n",
    "# plot.plot(pca.explained_variance_ratio_)\n",
    "# plot.ylabel('Explained Variance')\n",
    "# plot.xlabel('Components')\n",
    "# plot.show()\n",
    "\n",
    "%matplotlib inline\n",
    "\n",
    "plt.plot(range(0,5), pca.explained_variance_ratio_)\n",
    "plt.ylabel('Explained Variance')\n",
    "plt.xlabel('Principal Components')\n",
    "plt.xticks(range(0,5),\n",
    "           [\"Component_1\", \"Component_2\", \"Component_3\", \"Component_4\", \"Component_5\"], rotation=60)\n",
    "plt.title('Explained Variance Ratio')\n",
    "plt.show()"
   ]
  },
  {
   "cell_type": "code",
   "execution_count": 32,
   "id": "cd8f725c-5138-4131-a725-81a1fd2cdda3",
   "metadata": {},
   "outputs": [
    {
     "data": {
      "text/html": [
       "<div>\n",
       "<style scoped>\n",
       "    .dataframe tbody tr th:only-of-type {\n",
       "        vertical-align: middle;\n",
       "    }\n",
       "\n",
       "    .dataframe tbody tr th {\n",
       "        vertical-align: top;\n",
       "    }\n",
       "\n",
       "    .dataframe thead th {\n",
       "        text-align: right;\n",
       "    }\n",
       "</style>\n",
       "<table border=\"1\" class=\"dataframe\">\n",
       "  <thead>\n",
       "    <tr style=\"text-align: right;\">\n",
       "      <th></th>\n",
       "      <th>img_vector</th>\n",
       "    </tr>\n",
       "  </thead>\n",
       "  <tbody>\n",
       "    <tr>\n",
       "      <th>0</th>\n",
       "      <td>[0.0, 0.0, 0.0, 0.0, 0.66582686, 0.0, 0.0, 0.0...</td>\n",
       "    </tr>\n",
       "    <tr>\n",
       "      <th>1</th>\n",
       "      <td>[0.0, 0.0, 0.0, 0.0, 0.7870717, 0.0, 0.0, 0.0,...</td>\n",
       "    </tr>\n",
       "    <tr>\n",
       "      <th>2</th>\n",
       "      <td>[0.0, 0.0, 0.0, 0.0, 1.1091523, 0.0, 0.0, 0.0,...</td>\n",
       "    </tr>\n",
       "    <tr>\n",
       "      <th>3</th>\n",
       "      <td>[0.0, 0.0, 0.0, 0.0, 1.1519713, 0.0, 0.0, 0.0,...</td>\n",
       "    </tr>\n",
       "    <tr>\n",
       "      <th>4</th>\n",
       "      <td>[0.0, 0.0, 0.0, 0.0, 0.80371, 0.0, 0.0, 0.0, 0...</td>\n",
       "    </tr>\n",
       "  </tbody>\n",
       "</table>\n",
       "</div>"
      ],
      "text/plain": [
       "                                          img_vector\n",
       "0  [0.0, 0.0, 0.0, 0.0, 0.66582686, 0.0, 0.0, 0.0...\n",
       "1  [0.0, 0.0, 0.0, 0.0, 0.7870717, 0.0, 0.0, 0.0,...\n",
       "2  [0.0, 0.0, 0.0, 0.0, 1.1091523, 0.0, 0.0, 0.0,...\n",
       "3  [0.0, 0.0, 0.0, 0.0, 1.1519713, 0.0, 0.0, 0.0,...\n",
       "4  [0.0, 0.0, 0.0, 0.0, 0.80371, 0.0, 0.0, 0.0, 0..."
      ]
     },
     "execution_count": 32,
     "metadata": {},
     "output_type": "execute_result"
    }
   ],
   "source": [
    "df_image_vectors_wip_nonans3.head(5)"
   ]
  },
  {
   "cell_type": "code",
   "execution_count": 33,
   "id": "a070fdda-a41c-4d22-a928-d83d402969d3",
   "metadata": {},
   "outputs": [
    {
     "data": {
      "text/html": [
       "<div>\n",
       "<style scoped>\n",
       "    .dataframe tbody tr th:only-of-type {\n",
       "        vertical-align: middle;\n",
       "    }\n",
       "\n",
       "    .dataframe tbody tr th {\n",
       "        vertical-align: top;\n",
       "    }\n",
       "\n",
       "    .dataframe thead th {\n",
       "        text-align: right;\n",
       "    }\n",
       "</style>\n",
       "<table border=\"1\" class=\"dataframe\">\n",
       "  <thead>\n",
       "    <tr style=\"text-align: right;\">\n",
       "      <th></th>\n",
       "      <th>img_vector</th>\n",
       "    </tr>\n",
       "  </thead>\n",
       "  <tbody>\n",
       "    <tr>\n",
       "      <th>1602948</th>\n",
       "      <td>[0.0, 0.0, 0.0, 0.0, 0.17231156, 2.905309, 0.0...</td>\n",
       "    </tr>\n",
       "    <tr>\n",
       "      <th>1602949</th>\n",
       "      <td>[8.261261, 0.0, 0.0, 0.0, 0.03856537, 0.0, 0.0...</td>\n",
       "    </tr>\n",
       "    <tr>\n",
       "      <th>1602950</th>\n",
       "      <td>[1.1769419, 0.0, 0.0, 0.0, 0.13069564, 0.0, 0....</td>\n",
       "    </tr>\n",
       "    <tr>\n",
       "      <th>1602951</th>\n",
       "      <td>[3.2861493, 0.0, 0.0, 0.0, 1.2314405, 2.653442...</td>\n",
       "    </tr>\n",
       "    <tr>\n",
       "      <th>1602952</th>\n",
       "      <td>[0.0, 0.0, 0.0, 0.0, 0.75026304, 0.83683866, 0...</td>\n",
       "    </tr>\n",
       "  </tbody>\n",
       "</table>\n",
       "</div>"
      ],
      "text/plain": [
       "                                                img_vector\n",
       "1602948  [0.0, 0.0, 0.0, 0.0, 0.17231156, 2.905309, 0.0...\n",
       "1602949  [8.261261, 0.0, 0.0, 0.0, 0.03856537, 0.0, 0.0...\n",
       "1602950  [1.1769419, 0.0, 0.0, 0.0, 0.13069564, 0.0, 0....\n",
       "1602951  [3.2861493, 0.0, 0.0, 0.0, 1.2314405, 2.653442...\n",
       "1602952  [0.0, 0.0, 0.0, 0.0, 0.75026304, 0.83683866, 0..."
      ]
     },
     "execution_count": 33,
     "metadata": {},
     "output_type": "execute_result"
    }
   ],
   "source": [
    "df_image_vectors_wip_nonans3.tail(5)"
   ]
  },
  {
   "cell_type": "code",
   "execution_count": 34,
   "id": "af940916-f008-436c-9073-82826685696c",
   "metadata": {},
   "outputs": [
    {
     "data": {
      "text/html": [
       "<div>\n",
       "<style scoped>\n",
       "    .dataframe tbody tr th:only-of-type {\n",
       "        vertical-align: middle;\n",
       "    }\n",
       "\n",
       "    .dataframe tbody tr th {\n",
       "        vertical-align: top;\n",
       "    }\n",
       "\n",
       "    .dataframe thead th {\n",
       "        text-align: right;\n",
       "    }\n",
       "</style>\n",
       "<table border=\"1\" class=\"dataframe\">\n",
       "  <thead>\n",
       "    <tr style=\"text-align: right;\">\n",
       "      <th></th>\n",
       "      <th>Image_url_1</th>\n",
       "      <th>img_vector</th>\n",
       "    </tr>\n",
       "  </thead>\n",
       "  <tbody>\n",
       "    <tr>\n",
       "      <th>174</th>\n",
       "      <td>https://card.godsunchained.com/?id=337&amp;q=4</td>\n",
       "      <td>NaN</td>\n",
       "    </tr>\n",
       "    <tr>\n",
       "      <th>195</th>\n",
       "      <td>https://card.godsunchained.com/?id=337&amp;q=3</td>\n",
       "      <td>NaN</td>\n",
       "    </tr>\n",
       "    <tr>\n",
       "      <th>397</th>\n",
       "      <td>https://card.godsunchained.com/?id=337&amp;q=2</td>\n",
       "      <td>NaN</td>\n",
       "    </tr>\n",
       "    <tr>\n",
       "      <th>2335</th>\n",
       "      <td>https://card.godsunchained.com/?id=337.0&amp;q=4.0</td>\n",
       "      <td>NaN</td>\n",
       "    </tr>\n",
       "    <tr>\n",
       "      <th>2366</th>\n",
       "      <td>https://card.godsunchained.com/?id=337.0&amp;q=3.0</td>\n",
       "      <td>NaN</td>\n",
       "    </tr>\n",
       "    <tr>\n",
       "      <th>...</th>\n",
       "      <td>...</td>\n",
       "      <td>...</td>\n",
       "    </tr>\n",
       "    <tr>\n",
       "      <th>1601035</th>\n",
       "      <td>https://storage.opensea.io/files/d4137ae9150db...</td>\n",
       "      <td>NaN</td>\n",
       "    </tr>\n",
       "    <tr>\n",
       "      <th>1601578</th>\n",
       "      <td>https://storage.opensea.io/files/a13c838269607...</td>\n",
       "      <td>NaN</td>\n",
       "    </tr>\n",
       "    <tr>\n",
       "      <th>1601601</th>\n",
       "      <td>https://storage.opensea.io/files/e7da089bd93ab...</td>\n",
       "      <td>NaN</td>\n",
       "    </tr>\n",
       "    <tr>\n",
       "      <th>1602156</th>\n",
       "      <td>https://storage.opensea.io/files/90e966801b69a...</td>\n",
       "      <td>NaN</td>\n",
       "    </tr>\n",
       "    <tr>\n",
       "      <th>1602168</th>\n",
       "      <td>https://storage.opensea.io/files/ea0492449e553...</td>\n",
       "      <td>NaN</td>\n",
       "    </tr>\n",
       "  </tbody>\n",
       "</table>\n",
       "<p>141031 rows × 2 columns</p>\n",
       "</div>"
      ],
      "text/plain": [
       "                                               Image_url_1 img_vector\n",
       "174             https://card.godsunchained.com/?id=337&q=4        NaN\n",
       "195             https://card.godsunchained.com/?id=337&q=3        NaN\n",
       "397             https://card.godsunchained.com/?id=337&q=2        NaN\n",
       "2335        https://card.godsunchained.com/?id=337.0&q=4.0        NaN\n",
       "2366        https://card.godsunchained.com/?id=337.0&q=3.0        NaN\n",
       "...                                                    ...        ...\n",
       "1601035  https://storage.opensea.io/files/d4137ae9150db...        NaN\n",
       "1601578  https://storage.opensea.io/files/a13c838269607...        NaN\n",
       "1601601  https://storage.opensea.io/files/e7da089bd93ab...        NaN\n",
       "1602156  https://storage.opensea.io/files/90e966801b69a...        NaN\n",
       "1602168  https://storage.opensea.io/files/ea0492449e553...        NaN\n",
       "\n",
       "[141031 rows x 2 columns]"
      ]
     },
     "execution_count": 34,
     "metadata": {},
     "output_type": "execute_result"
    }
   ],
   "source": [
    "df_image_vectors_wip3[df_image_vectors_wip3['img_vector'].isna()==True]"
   ]
  },
  {
   "cell_type": "code",
   "execution_count": 35,
   "id": "38eb881c-aac2-4df1-ae99-d798c9a45b59",
   "metadata": {},
   "outputs": [
    {
     "data": {
      "text/html": [
       "<div>\n",
       "<style scoped>\n",
       "    .dataframe tbody tr th:only-of-type {\n",
       "        vertical-align: middle;\n",
       "    }\n",
       "\n",
       "    .dataframe tbody tr th {\n",
       "        vertical-align: top;\n",
       "    }\n",
       "\n",
       "    .dataframe thead th {\n",
       "        text-align: right;\n",
       "    }\n",
       "</style>\n",
       "<table border=\"1\" class=\"dataframe\">\n",
       "  <thead>\n",
       "    <tr style=\"text-align: right;\">\n",
       "      <th></th>\n",
       "      <th>Image_url_1</th>\n",
       "      <th>img_vector</th>\n",
       "    </tr>\n",
       "  </thead>\n",
       "  <tbody>\n",
       "    <tr>\n",
       "      <th>1602948</th>\n",
       "      <td>https://lh3.googleusercontent.com/isSUPEsJJWpF...</td>\n",
       "      <td>[[0.0, 0.0, 0.0, 0.0, 0.17231156, 2.905309, 0....</td>\n",
       "    </tr>\n",
       "    <tr>\n",
       "      <th>1602949</th>\n",
       "      <td>https://lh3.googleusercontent.com/qdzZDtYHHVdi...</td>\n",
       "      <td>[[8.261261, 0.0, 0.0, 0.0, 0.03856537, 0.0, 0....</td>\n",
       "    </tr>\n",
       "    <tr>\n",
       "      <th>1602950</th>\n",
       "      <td>https://lh3.googleusercontent.com/SoTAV8k4UC90...</td>\n",
       "      <td>[[1.1769419, 0.0, 0.0, 0.0, 0.13069564, 0.0, 0...</td>\n",
       "    </tr>\n",
       "    <tr>\n",
       "      <th>1602951</th>\n",
       "      <td>https://lh3.googleusercontent.com/AWwjq0cuTjHF...</td>\n",
       "      <td>[[3.2861493, 0.0, 0.0, 0.0, 1.2314405, 2.65344...</td>\n",
       "    </tr>\n",
       "    <tr>\n",
       "      <th>1602952</th>\n",
       "      <td>https://lh3.googleusercontent.com/1PSAAdTKWB5p...</td>\n",
       "      <td>[[0.0, 0.0, 0.0, 0.0, 0.75026304, 0.83683866, ...</td>\n",
       "    </tr>\n",
       "  </tbody>\n",
       "</table>\n",
       "</div>"
      ],
      "text/plain": [
       "                                               Image_url_1  \\\n",
       "1602948  https://lh3.googleusercontent.com/isSUPEsJJWpF...   \n",
       "1602949  https://lh3.googleusercontent.com/qdzZDtYHHVdi...   \n",
       "1602950  https://lh3.googleusercontent.com/SoTAV8k4UC90...   \n",
       "1602951  https://lh3.googleusercontent.com/AWwjq0cuTjHF...   \n",
       "1602952  https://lh3.googleusercontent.com/1PSAAdTKWB5p...   \n",
       "\n",
       "                                                img_vector  \n",
       "1602948  [[0.0, 0.0, 0.0, 0.0, 0.17231156, 2.905309, 0....  \n",
       "1602949  [[8.261261, 0.0, 0.0, 0.0, 0.03856537, 0.0, 0....  \n",
       "1602950  [[1.1769419, 0.0, 0.0, 0.0, 0.13069564, 0.0, 0...  \n",
       "1602951  [[3.2861493, 0.0, 0.0, 0.0, 1.2314405, 2.65344...  \n",
       "1602952  [[0.0, 0.0, 0.0, 0.0, 0.75026304, 0.83683866, ...  "
      ]
     },
     "execution_count": 35,
     "metadata": {},
     "output_type": "execute_result"
    }
   ],
   "source": [
    "df_image_vectors_wip3.tail(5)"
   ]
  },
  {
   "cell_type": "code",
   "execution_count": 36,
   "id": "1785e83d-a546-4f80-9c56-e28ef4fd4c90",
   "metadata": {},
   "outputs": [
    {
     "data": {
      "text/plain": [
       "'https://lh3.googleusercontent.com/BljMU5ae19McE9XBeByGDiVcJxBrT8UAL2shcL0LJzorpGeOwgVOFubl9Wd2VCPsa0JKNdGaPFBn09zE-LU56bh-IXtXj_Hk_WjC9A'"
      ]
     },
     "execution_count": 36,
     "metadata": {},
     "output_type": "execute_result"
    }
   ],
   "source": [
    "df_image_vectors_wip3.iloc[1404689]['Image_url_1']"
   ]
  },
  {
   "cell_type": "code",
   "execution_count": 37,
   "id": "2e7f9ad7-4e59-4c3a-ba3f-f51e68fbe40a",
   "metadata": {},
   "outputs": [],
   "source": [
    "temp_df_indices = df_image_vectors_wip_nonans3.index"
   ]
  },
  {
   "cell_type": "code",
   "execution_count": 38,
   "id": "52ab9bcc-49ec-4c65-8d60-d12baa693ad0",
   "metadata": {},
   "outputs": [
    {
     "data": {
      "text/html": [
       "<div>\n",
       "<style scoped>\n",
       "    .dataframe tbody tr th:only-of-type {\n",
       "        vertical-align: middle;\n",
       "    }\n",
       "\n",
       "    .dataframe tbody tr th {\n",
       "        vertical-align: top;\n",
       "    }\n",
       "\n",
       "    .dataframe thead th {\n",
       "        text-align: right;\n",
       "    }\n",
       "</style>\n",
       "<table border=\"1\" class=\"dataframe\">\n",
       "  <thead>\n",
       "    <tr style=\"text-align: right;\">\n",
       "      <th></th>\n",
       "      <th>pca_1</th>\n",
       "      <th>pca_2</th>\n",
       "      <th>pca_3</th>\n",
       "      <th>pca_4</th>\n",
       "      <th>pca_5</th>\n",
       "    </tr>\n",
       "  </thead>\n",
       "  <tbody>\n",
       "    <tr>\n",
       "      <th>1461917</th>\n",
       "      <td>22.703844</td>\n",
       "      <td>-2.541077</td>\n",
       "      <td>-1.351807</td>\n",
       "      <td>-5.926950</td>\n",
       "      <td>-0.189298</td>\n",
       "    </tr>\n",
       "    <tr>\n",
       "      <th>1461918</th>\n",
       "      <td>20.375454</td>\n",
       "      <td>13.955154</td>\n",
       "      <td>17.845745</td>\n",
       "      <td>20.735361</td>\n",
       "      <td>2.053705</td>\n",
       "    </tr>\n",
       "    <tr>\n",
       "      <th>1461919</th>\n",
       "      <td>21.281034</td>\n",
       "      <td>-1.605623</td>\n",
       "      <td>16.606096</td>\n",
       "      <td>-1.500869</td>\n",
       "      <td>7.324433</td>\n",
       "    </tr>\n",
       "    <tr>\n",
       "      <th>1461920</th>\n",
       "      <td>17.461679</td>\n",
       "      <td>4.855377</td>\n",
       "      <td>21.607574</td>\n",
       "      <td>7.852221</td>\n",
       "      <td>1.273219</td>\n",
       "    </tr>\n",
       "    <tr>\n",
       "      <th>1461921</th>\n",
       "      <td>16.989954</td>\n",
       "      <td>0.441861</td>\n",
       "      <td>23.395792</td>\n",
       "      <td>-2.129475</td>\n",
       "      <td>1.065984</td>\n",
       "    </tr>\n",
       "  </tbody>\n",
       "</table>\n",
       "</div>"
      ],
      "text/plain": [
       "             pca_1      pca_2      pca_3      pca_4     pca_5\n",
       "1461917  22.703844  -2.541077  -1.351807  -5.926950 -0.189298\n",
       "1461918  20.375454  13.955154  17.845745  20.735361  2.053705\n",
       "1461919  21.281034  -1.605623  16.606096  -1.500869  7.324433\n",
       "1461920  17.461679   4.855377  21.607574   7.852221  1.273219\n",
       "1461921  16.989954   0.441861  23.395792  -2.129475  1.065984"
      ]
     },
     "execution_count": 38,
     "metadata": {},
     "output_type": "execute_result"
    }
   ],
   "source": [
    "temp_df_pca_array = pd.DataFrame(X_reduced, columns = ['pca_1','pca_2','pca_3','pca_4','pca_5'])\n",
    "temp_df_pca_array.tail(5)"
   ]
  },
  {
   "cell_type": "code",
   "execution_count": 39,
   "id": "01383c58-08a7-4851-a0ea-e96e8bdda37f",
   "metadata": {},
   "outputs": [
    {
     "data": {
      "text/plain": [
       "Int64Index([      0,       1,       2,       3,       4,       5,       6,\n",
       "                  7,       8,       9,\n",
       "            ...\n",
       "            1602943, 1602944, 1602945, 1602946, 1602947, 1602948, 1602949,\n",
       "            1602950, 1602951, 1602952],\n",
       "           dtype='int64', length=1461922)"
      ]
     },
     "execution_count": 39,
     "metadata": {},
     "output_type": "execute_result"
    }
   ],
   "source": [
    "temp_df_indices"
   ]
  },
  {
   "cell_type": "code",
   "execution_count": 40,
   "id": "0bb38321-c40d-453a-8df5-b7b61a23ae2b",
   "metadata": {},
   "outputs": [
    {
     "data": {
      "text/html": [
       "<div>\n",
       "<style scoped>\n",
       "    .dataframe tbody tr th:only-of-type {\n",
       "        vertical-align: middle;\n",
       "    }\n",
       "\n",
       "    .dataframe tbody tr th {\n",
       "        vertical-align: top;\n",
       "    }\n",
       "\n",
       "    .dataframe thead th {\n",
       "        text-align: right;\n",
       "    }\n",
       "</style>\n",
       "<table border=\"1\" class=\"dataframe\">\n",
       "  <thead>\n",
       "    <tr style=\"text-align: right;\">\n",
       "      <th></th>\n",
       "      <th>pca_1</th>\n",
       "      <th>pca_2</th>\n",
       "      <th>pca_3</th>\n",
       "      <th>pca_4</th>\n",
       "      <th>pca_5</th>\n",
       "      <th>orig_index</th>\n",
       "    </tr>\n",
       "  </thead>\n",
       "  <tbody>\n",
       "    <tr>\n",
       "      <th>1461917</th>\n",
       "      <td>22.703844</td>\n",
       "      <td>-2.541077</td>\n",
       "      <td>-1.351807</td>\n",
       "      <td>-5.926950</td>\n",
       "      <td>-0.189298</td>\n",
       "      <td>1602948</td>\n",
       "    </tr>\n",
       "    <tr>\n",
       "      <th>1461918</th>\n",
       "      <td>20.375454</td>\n",
       "      <td>13.955154</td>\n",
       "      <td>17.845745</td>\n",
       "      <td>20.735361</td>\n",
       "      <td>2.053705</td>\n",
       "      <td>1602949</td>\n",
       "    </tr>\n",
       "    <tr>\n",
       "      <th>1461919</th>\n",
       "      <td>21.281034</td>\n",
       "      <td>-1.605623</td>\n",
       "      <td>16.606096</td>\n",
       "      <td>-1.500869</td>\n",
       "      <td>7.324433</td>\n",
       "      <td>1602950</td>\n",
       "    </tr>\n",
       "    <tr>\n",
       "      <th>1461920</th>\n",
       "      <td>17.461679</td>\n",
       "      <td>4.855377</td>\n",
       "      <td>21.607574</td>\n",
       "      <td>7.852221</td>\n",
       "      <td>1.273219</td>\n",
       "      <td>1602951</td>\n",
       "    </tr>\n",
       "    <tr>\n",
       "      <th>1461921</th>\n",
       "      <td>16.989954</td>\n",
       "      <td>0.441861</td>\n",
       "      <td>23.395792</td>\n",
       "      <td>-2.129475</td>\n",
       "      <td>1.065984</td>\n",
       "      <td>1602952</td>\n",
       "    </tr>\n",
       "  </tbody>\n",
       "</table>\n",
       "</div>"
      ],
      "text/plain": [
       "             pca_1      pca_2      pca_3      pca_4     pca_5  orig_index\n",
       "1461917  22.703844  -2.541077  -1.351807  -5.926950 -0.189298     1602948\n",
       "1461918  20.375454  13.955154  17.845745  20.735361  2.053705     1602949\n",
       "1461919  21.281034  -1.605623  16.606096  -1.500869  7.324433     1602950\n",
       "1461920  17.461679   4.855377  21.607574   7.852221  1.273219     1602951\n",
       "1461921  16.989954   0.441861  23.395792  -2.129475  1.065984     1602952"
      ]
     },
     "execution_count": 40,
     "metadata": {},
     "output_type": "execute_result"
    }
   ],
   "source": [
    "temp_df_pca_array['orig_index'] = temp_df_indices\n",
    "temp_df_pca_array.tail(5)"
   ]
  },
  {
   "cell_type": "code",
   "execution_count": 41,
   "id": "5f18e526-08d6-4c43-87ce-ed818401f114",
   "metadata": {},
   "outputs": [
    {
     "name": "stdout",
     "output_type": "stream",
     "text": [
      "1602953\n"
     ]
    },
    {
     "data": {
      "text/html": [
       "<div>\n",
       "<style scoped>\n",
       "    .dataframe tbody tr th:only-of-type {\n",
       "        vertical-align: middle;\n",
       "    }\n",
       "\n",
       "    .dataframe tbody tr th {\n",
       "        vertical-align: top;\n",
       "    }\n",
       "\n",
       "    .dataframe thead th {\n",
       "        text-align: right;\n",
       "    }\n",
       "</style>\n",
       "<table border=\"1\" class=\"dataframe\">\n",
       "  <thead>\n",
       "    <tr style=\"text-align: right;\">\n",
       "      <th></th>\n",
       "      <th>Image_url_1</th>\n",
       "      <th>img_vector</th>\n",
       "      <th>pca_1</th>\n",
       "      <th>pca_2</th>\n",
       "      <th>pca_3</th>\n",
       "      <th>pca_4</th>\n",
       "      <th>pca_5</th>\n",
       "      <th>orig_index</th>\n",
       "    </tr>\n",
       "  </thead>\n",
       "  <tbody>\n",
       "    <tr>\n",
       "      <th>0</th>\n",
       "      <td>https://card.godsunchained.com/?id=33&amp;q=4</td>\n",
       "      <td>[[0.0, 0.0, 0.0, 0.0, 0.66582686, 0.0, 0.0, 0....</td>\n",
       "      <td>29.416073</td>\n",
       "      <td>5.228051</td>\n",
       "      <td>21.838697</td>\n",
       "      <td>7.479497</td>\n",
       "      <td>-6.736364</td>\n",
       "      <td>0</td>\n",
       "    </tr>\n",
       "    <tr>\n",
       "      <th>1</th>\n",
       "      <td>https://card.godsunchained.com/?id=79&amp;q=4</td>\n",
       "      <td>[[0.0, 0.0, 0.0, 0.0, 0.7870717, 0.0, 0.0, 0.0...</td>\n",
       "      <td>29.122555</td>\n",
       "      <td>10.703643</td>\n",
       "      <td>19.475803</td>\n",
       "      <td>4.482327</td>\n",
       "      <td>-9.481604</td>\n",
       "      <td>1</td>\n",
       "    </tr>\n",
       "    <tr>\n",
       "      <th>2</th>\n",
       "      <td>https://card.godsunchained.com/?id=227&amp;q=4</td>\n",
       "      <td>[[0.0, 0.0, 0.0, 0.0, 1.1091523, 0.0, 0.0, 0.0...</td>\n",
       "      <td>29.706314</td>\n",
       "      <td>4.711526</td>\n",
       "      <td>23.277472</td>\n",
       "      <td>2.693415</td>\n",
       "      <td>-11.105110</td>\n",
       "      <td>2</td>\n",
       "    </tr>\n",
       "    <tr>\n",
       "      <th>3</th>\n",
       "      <td>https://card.godsunchained.com/?id=62&amp;q=4</td>\n",
       "      <td>[[0.0, 0.0, 0.0, 0.0, 1.1519713, 0.0, 0.0, 0.0...</td>\n",
       "      <td>28.923882</td>\n",
       "      <td>8.886816</td>\n",
       "      <td>19.750933</td>\n",
       "      <td>4.150467</td>\n",
       "      <td>-11.671720</td>\n",
       "      <td>3</td>\n",
       "    </tr>\n",
       "    <tr>\n",
       "      <th>4</th>\n",
       "      <td>https://card.godsunchained.com/?id=116&amp;q=4</td>\n",
       "      <td>[[0.0, 0.0, 0.0, 0.0, 0.80371, 0.0, 0.0, 0.0, ...</td>\n",
       "      <td>31.494274</td>\n",
       "      <td>6.761162</td>\n",
       "      <td>22.421518</td>\n",
       "      <td>4.257859</td>\n",
       "      <td>-9.682704</td>\n",
       "      <td>4</td>\n",
       "    </tr>\n",
       "  </tbody>\n",
       "</table>\n",
       "</div>"
      ],
      "text/plain": [
       "                                  Image_url_1  \\\n",
       "0   https://card.godsunchained.com/?id=33&q=4   \n",
       "1   https://card.godsunchained.com/?id=79&q=4   \n",
       "2  https://card.godsunchained.com/?id=227&q=4   \n",
       "3   https://card.godsunchained.com/?id=62&q=4   \n",
       "4  https://card.godsunchained.com/?id=116&q=4   \n",
       "\n",
       "                                          img_vector      pca_1      pca_2  \\\n",
       "0  [[0.0, 0.0, 0.0, 0.0, 0.66582686, 0.0, 0.0, 0....  29.416073   5.228051   \n",
       "1  [[0.0, 0.0, 0.0, 0.0, 0.7870717, 0.0, 0.0, 0.0...  29.122555  10.703643   \n",
       "2  [[0.0, 0.0, 0.0, 0.0, 1.1091523, 0.0, 0.0, 0.0...  29.706314   4.711526   \n",
       "3  [[0.0, 0.0, 0.0, 0.0, 1.1519713, 0.0, 0.0, 0.0...  28.923882   8.886816   \n",
       "4  [[0.0, 0.0, 0.0, 0.0, 0.80371, 0.0, 0.0, 0.0, ...  31.494274   6.761162   \n",
       "\n",
       "       pca_3     pca_4      pca_5  orig_index  \n",
       "0  21.838697  7.479497  -6.736364           0  \n",
       "1  19.475803  4.482327  -9.481604           1  \n",
       "2  23.277472  2.693415 -11.105110           2  \n",
       "3  19.750933  4.150467 -11.671720           3  \n",
       "4  22.421518  4.257859  -9.682704           4  "
      ]
     },
     "execution_count": 41,
     "metadata": {},
     "output_type": "execute_result"
    }
   ],
   "source": [
    "df_image_vectors_wip4 = pd.merge(df_image_vectors_wip3, temp_df_pca_array, how='left', left_index=True, right_on=\"orig_index\").reset_index().drop(columns=['index'])\n",
    "print(len(df_image_vectors_wip4))\n",
    "df_image_vectors_wip4.head(5)"
   ]
  },
  {
   "cell_type": "code",
   "execution_count": 42,
   "id": "c9c19dff-7f8f-4391-a8b3-0d1a4ddf3cfa",
   "metadata": {},
   "outputs": [
    {
     "data": {
      "text/html": [
       "<div>\n",
       "<style scoped>\n",
       "    .dataframe tbody tr th:only-of-type {\n",
       "        vertical-align: middle;\n",
       "    }\n",
       "\n",
       "    .dataframe tbody tr th {\n",
       "        vertical-align: top;\n",
       "    }\n",
       "\n",
       "    .dataframe thead th {\n",
       "        text-align: right;\n",
       "    }\n",
       "</style>\n",
       "<table border=\"1\" class=\"dataframe\">\n",
       "  <thead>\n",
       "    <tr style=\"text-align: right;\">\n",
       "      <th></th>\n",
       "      <th>Image_url_1</th>\n",
       "      <th>pca_1</th>\n",
       "      <th>pca_2</th>\n",
       "      <th>pca_3</th>\n",
       "      <th>pca_4</th>\n",
       "      <th>pca_5</th>\n",
       "    </tr>\n",
       "  </thead>\n",
       "  <tbody>\n",
       "    <tr>\n",
       "      <th>0</th>\n",
       "      <td>https://card.godsunchained.com/?id=33&amp;q=4</td>\n",
       "      <td>29.416073</td>\n",
       "      <td>5.228051</td>\n",
       "      <td>21.838697</td>\n",
       "      <td>7.479497</td>\n",
       "      <td>-6.736364</td>\n",
       "    </tr>\n",
       "    <tr>\n",
       "      <th>1</th>\n",
       "      <td>https://card.godsunchained.com/?id=79&amp;q=4</td>\n",
       "      <td>29.122555</td>\n",
       "      <td>10.703643</td>\n",
       "      <td>19.475803</td>\n",
       "      <td>4.482327</td>\n",
       "      <td>-9.481604</td>\n",
       "    </tr>\n",
       "    <tr>\n",
       "      <th>2</th>\n",
       "      <td>https://card.godsunchained.com/?id=227&amp;q=4</td>\n",
       "      <td>29.706314</td>\n",
       "      <td>4.711526</td>\n",
       "      <td>23.277472</td>\n",
       "      <td>2.693415</td>\n",
       "      <td>-11.105110</td>\n",
       "    </tr>\n",
       "    <tr>\n",
       "      <th>3</th>\n",
       "      <td>https://card.godsunchained.com/?id=62&amp;q=4</td>\n",
       "      <td>28.923882</td>\n",
       "      <td>8.886816</td>\n",
       "      <td>19.750933</td>\n",
       "      <td>4.150467</td>\n",
       "      <td>-11.671720</td>\n",
       "    </tr>\n",
       "    <tr>\n",
       "      <th>4</th>\n",
       "      <td>https://card.godsunchained.com/?id=116&amp;q=4</td>\n",
       "      <td>31.494274</td>\n",
       "      <td>6.761162</td>\n",
       "      <td>22.421518</td>\n",
       "      <td>4.257859</td>\n",
       "      <td>-9.682704</td>\n",
       "    </tr>\n",
       "  </tbody>\n",
       "</table>\n",
       "</div>"
      ],
      "text/plain": [
       "                                  Image_url_1      pca_1      pca_2  \\\n",
       "0   https://card.godsunchained.com/?id=33&q=4  29.416073   5.228051   \n",
       "1   https://card.godsunchained.com/?id=79&q=4  29.122555  10.703643   \n",
       "2  https://card.godsunchained.com/?id=227&q=4  29.706314   4.711526   \n",
       "3   https://card.godsunchained.com/?id=62&q=4  28.923882   8.886816   \n",
       "4  https://card.godsunchained.com/?id=116&q=4  31.494274   6.761162   \n",
       "\n",
       "       pca_3     pca_4      pca_5  \n",
       "0  21.838697  7.479497  -6.736364  \n",
       "1  19.475803  4.482327  -9.481604  \n",
       "2  23.277472  2.693415 -11.105110  \n",
       "3  19.750933  4.150467 -11.671720  \n",
       "4  22.421518  4.257859  -9.682704  "
      ]
     },
     "execution_count": 42,
     "metadata": {},
     "output_type": "execute_result"
    }
   ],
   "source": [
    "df_image_vectors_wip5 = df_image_vectors_wip4.drop(columns=['img_vector','orig_index'])\n",
    "df_image_vectors_wip5.head(5)"
   ]
  },
  {
   "cell_type": "code",
   "execution_count": 43,
   "id": "41161c4d-aea7-463d-b2ed-9ba6ccd4af06",
   "metadata": {},
   "outputs": [
    {
     "data": {
      "text/html": [
       "<div>\n",
       "<style scoped>\n",
       "    .dataframe tbody tr th:only-of-type {\n",
       "        vertical-align: middle;\n",
       "    }\n",
       "\n",
       "    .dataframe tbody tr th {\n",
       "        vertical-align: top;\n",
       "    }\n",
       "\n",
       "    .dataframe thead th {\n",
       "        text-align: right;\n",
       "    }\n",
       "</style>\n",
       "<table border=\"1\" class=\"dataframe\">\n",
       "  <thead>\n",
       "    <tr style=\"text-align: right;\">\n",
       "      <th></th>\n",
       "      <th>Image_url_1</th>\n",
       "      <th>pca_1</th>\n",
       "      <th>pca_2</th>\n",
       "      <th>pca_3</th>\n",
       "      <th>pca_4</th>\n",
       "      <th>pca_5</th>\n",
       "    </tr>\n",
       "  </thead>\n",
       "  <tbody>\n",
       "    <tr>\n",
       "      <th>170</th>\n",
       "      <td>https://card.godsunchained.com/?id=171&amp;q=4</td>\n",
       "      <td>29.405787</td>\n",
       "      <td>7.954813</td>\n",
       "      <td>21.248539</td>\n",
       "      <td>5.976163</td>\n",
       "      <td>-5.620827</td>\n",
       "    </tr>\n",
       "    <tr>\n",
       "      <th>171</th>\n",
       "      <td>https://card.godsunchained.com/?id=374&amp;q=3</td>\n",
       "      <td>31.006445</td>\n",
       "      <td>7.745686</td>\n",
       "      <td>13.244488</td>\n",
       "      <td>11.131120</td>\n",
       "      <td>-10.673136</td>\n",
       "    </tr>\n",
       "    <tr>\n",
       "      <th>172</th>\n",
       "      <td>https://card.godsunchained.com/?id=43&amp;q=4</td>\n",
       "      <td>27.614197</td>\n",
       "      <td>12.362672</td>\n",
       "      <td>17.016047</td>\n",
       "      <td>12.580705</td>\n",
       "      <td>-8.290725</td>\n",
       "    </tr>\n",
       "    <tr>\n",
       "      <th>173</th>\n",
       "      <td>https://card.godsunchained.com/?id=306&amp;q=2</td>\n",
       "      <td>36.511612</td>\n",
       "      <td>-0.337347</td>\n",
       "      <td>14.473521</td>\n",
       "      <td>12.878685</td>\n",
       "      <td>-2.394335</td>\n",
       "    </tr>\n",
       "    <tr>\n",
       "      <th>174</th>\n",
       "      <td>https://card.godsunchained.com/?id=337&amp;q=4</td>\n",
       "      <td>NaN</td>\n",
       "      <td>NaN</td>\n",
       "      <td>NaN</td>\n",
       "      <td>NaN</td>\n",
       "      <td>NaN</td>\n",
       "    </tr>\n",
       "    <tr>\n",
       "      <th>175</th>\n",
       "      <td>https://card.godsunchained.com/?id=286&amp;q=4</td>\n",
       "      <td>29.418577</td>\n",
       "      <td>9.571978</td>\n",
       "      <td>19.750092</td>\n",
       "      <td>9.641020</td>\n",
       "      <td>-8.955593</td>\n",
       "    </tr>\n",
       "    <tr>\n",
       "      <th>176</th>\n",
       "      <td>https://card.godsunchained.com/?id=64&amp;q=4</td>\n",
       "      <td>23.248583</td>\n",
       "      <td>7.725874</td>\n",
       "      <td>17.703728</td>\n",
       "      <td>8.050464</td>\n",
       "      <td>-11.255420</td>\n",
       "    </tr>\n",
       "    <tr>\n",
       "      <th>177</th>\n",
       "      <td>https://card.godsunchained.com/?id=67&amp;q=4</td>\n",
       "      <td>30.523783</td>\n",
       "      <td>5.389527</td>\n",
       "      <td>21.753023</td>\n",
       "      <td>0.898403</td>\n",
       "      <td>-9.855455</td>\n",
       "    </tr>\n",
       "    <tr>\n",
       "      <th>178</th>\n",
       "      <td>https://card.godsunchained.com/?id=105&amp;q=4</td>\n",
       "      <td>27.416376</td>\n",
       "      <td>8.681579</td>\n",
       "      <td>22.853481</td>\n",
       "      <td>5.812231</td>\n",
       "      <td>-8.529885</td>\n",
       "    </tr>\n",
       "    <tr>\n",
       "      <th>179</th>\n",
       "      <td>https://card.godsunchained.com/?id=354&amp;q=4</td>\n",
       "      <td>26.484936</td>\n",
       "      <td>8.527545</td>\n",
       "      <td>20.127342</td>\n",
       "      <td>9.559456</td>\n",
       "      <td>-7.859893</td>\n",
       "    </tr>\n",
       "  </tbody>\n",
       "</table>\n",
       "</div>"
      ],
      "text/plain": [
       "                                    Image_url_1      pca_1      pca_2  \\\n",
       "170  https://card.godsunchained.com/?id=171&q=4  29.405787   7.954813   \n",
       "171  https://card.godsunchained.com/?id=374&q=3  31.006445   7.745686   \n",
       "172   https://card.godsunchained.com/?id=43&q=4  27.614197  12.362672   \n",
       "173  https://card.godsunchained.com/?id=306&q=2  36.511612  -0.337347   \n",
       "174  https://card.godsunchained.com/?id=337&q=4        NaN        NaN   \n",
       "175  https://card.godsunchained.com/?id=286&q=4  29.418577   9.571978   \n",
       "176   https://card.godsunchained.com/?id=64&q=4  23.248583   7.725874   \n",
       "177   https://card.godsunchained.com/?id=67&q=4  30.523783   5.389527   \n",
       "178  https://card.godsunchained.com/?id=105&q=4  27.416376   8.681579   \n",
       "179  https://card.godsunchained.com/?id=354&q=4  26.484936   8.527545   \n",
       "\n",
       "         pca_3      pca_4      pca_5  \n",
       "170  21.248539   5.976163  -5.620827  \n",
       "171  13.244488  11.131120 -10.673136  \n",
       "172  17.016047  12.580705  -8.290725  \n",
       "173  14.473521  12.878685  -2.394335  \n",
       "174        NaN        NaN        NaN  \n",
       "175  19.750092   9.641020  -8.955593  \n",
       "176  17.703728   8.050464 -11.255420  \n",
       "177  21.753023   0.898403  -9.855455  \n",
       "178  22.853481   5.812231  -8.529885  \n",
       "179  20.127342   9.559456  -7.859893  "
      ]
     },
     "execution_count": 43,
     "metadata": {},
     "output_type": "execute_result"
    }
   ],
   "source": [
    "df_image_vectors_wip5[170:180]"
   ]
  },
  {
   "cell_type": "markdown",
   "id": "00672aee-828c-4439-893d-de0c714c488e",
   "metadata": {},
   "source": [
    "## Write PCA dataframe to pickle file"
   ]
  },
  {
   "cell_type": "code",
   "execution_count": 44,
   "id": "d297d21e-7483-4361-b2f6-260583f52b7b",
   "metadata": {},
   "outputs": [],
   "source": [
    "df_image_vectors_wip5.to_pickle('df_pca_results.pkl')"
   ]
  },
  {
   "cell_type": "code",
   "execution_count": null,
   "id": "5b42e86e-0505-4850-ae1c-c2a9653f62e1",
   "metadata": {},
   "outputs": [],
   "source": []
  }
 ],
 "metadata": {
  "environment": {
   "kernel": "python3",
   "name": "common-cpu.m87",
   "type": "gcloud",
   "uri": "gcr.io/deeplearning-platform-release/base-cpu:m87"
  },
  "kernelspec": {
   "display_name": "Python 3",
   "language": "python",
   "name": "python3"
  },
  "language_info": {
   "codemirror_mode": {
    "name": "ipython",
    "version": 3
   },
   "file_extension": ".py",
   "mimetype": "text/x-python",
   "name": "python",
   "nbconvert_exporter": "python",
   "pygments_lexer": "ipython3",
   "version": "3.7.12"
  }
 },
 "nbformat": 4,
 "nbformat_minor": 5
}
