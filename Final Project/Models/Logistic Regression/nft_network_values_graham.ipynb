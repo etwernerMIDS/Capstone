{
 "cells": [
  {
   "cell_type": "code",
   "execution_count": 1,
   "id": "c06e9093-432d-4606-a86c-8c9bb54d3126",
   "metadata": {},
   "outputs": [
    {
     "data": {
      "text/plain": [
       "'/home/jupyter/nft/nft_capstone'"
      ]
     },
     "execution_count": 1,
     "metadata": {},
     "output_type": "execute_result"
    }
   ],
   "source": [
    "import os\n",
    "import pandas as pd\n",
    "os.getcwd()"
   ]
  },
  {
   "cell_type": "markdown",
   "id": "6e86c336-b45f-4ba6-aa2e-befc6a6e9646",
   "metadata": {},
   "source": [
    "## Load Data"
   ]
  },
  {
   "cell_type": "code",
   "execution_count": 2,
   "id": "72f250c3-3000-467e-9a29-9495cfcbe96f",
   "metadata": {},
   "outputs": [],
   "source": [
    "df_sellernetwork = pd.read_pickle('https://storage.googleapis.com/nft_capstone_datafiles/df_sellernetwork.pkl')\n",
    "df_buyernetwork = pd.read_pickle('https://storage.googleapis.com/nft_capstone_datafiles/df_buyernetwork.pkl')\n",
    "\n",
    "# import gcsfs, pickle\n",
    "\n",
    "# fs = gcsfs.GCSFileSystem(project = 'w210-339016')\n",
    "# fs.ls('nft_capstone_datafiles')\n",
    "\n",
    "# with fs.open('nft_capstone_datafiles/df_sellernetwork.pkl', 'rb') as file:\n",
    "#     df_sellernetwork = pickle.load(file)\n",
    "\n",
    "# with fs.open('nft_capstone_datafiles/df_buyernetwork.pkl', 'rb') as file:\n",
    "#     df_buyernetwork = pickle.load(file)"
   ]
  },
  {
   "cell_type": "code",
   "execution_count": 3,
   "id": "2bba3559-45fd-4154-9712-31e72de2492c",
   "metadata": {},
   "outputs": [
    {
     "name": "stdout",
     "output_type": "stream",
     "text": [
      "2991602\n",
      "2991602\n"
     ]
    }
   ],
   "source": [
    "print(len(df_sellernetwork))\n",
    "print(len(df_buyernetwork))"
   ]
  },
  {
   "cell_type": "code",
   "execution_count": 4,
   "id": "28d0953c-6530-49c7-a030-6824f4677e86",
   "metadata": {},
   "outputs": [],
   "source": [
    "import networkx as nx\n",
    "\n",
    "# create seller network\n",
    "dg_sellernetwork = nx.from_pandas_edgelist(df_sellernetwork, 'Seller_address', 'Buyer_address', True, nx.DiGraph())"
   ]
  },
  {
   "cell_type": "code",
   "execution_count": 5,
   "id": "06a06325-acf5-4a5f-aa90-94d684185127",
   "metadata": {},
   "outputs": [
    {
     "data": {
      "text/plain": [
       "['...bu.wam',\n",
       " 'kilb2.wam',\n",
       " '...c.wam',\n",
       " 'd.fqu.wam',\n",
       " '...rc.wam',\n",
       " '.v.qy.wam',\n",
       " '5jtra.wam',\n",
       " 'bbubg.wam',\n",
       " 'dk1re.wam',\n",
       " 'jq.m2.wam']"
      ]
     },
     "execution_count": 5,
     "metadata": {},
     "output_type": "execute_result"
    }
   ],
   "source": [
    "list(dg_sellernetwork.nodes)[:10]"
   ]
  },
  {
   "cell_type": "code",
   "execution_count": 6,
   "id": "e51a478b-5361-4bdf-aab1-15d72e947572",
   "metadata": {},
   "outputs": [
    {
     "data": {
      "text/plain": [
       "[('...bu.wam', 'kilb2.wam'),\n",
       " ('...c.wam', 'd.fqu.wam'),\n",
       " ('d.fqu.wam', '3pfba.wam'),\n",
       " ('d.fqu.wam', '5yvbw.wam'),\n",
       " ('d.fqu.wam', 'bxar4.wam'),\n",
       " ('d.fqu.wam', 'crhbe.wam'),\n",
       " ('d.fqu.wam', 'dfxb2.wam'),\n",
       " ('d.fqu.wam', 'ef5bi.wam'),\n",
       " ('d.fqu.wam', 'fn1sa.wam'),\n",
       " ('d.fqu.wam', 'fu3bq.wam')]"
      ]
     },
     "execution_count": 6,
     "metadata": {},
     "output_type": "execute_result"
    }
   ],
   "source": [
    "list(dg_sellernetwork.edges)[:10]"
   ]
  },
  {
   "cell_type": "code",
   "execution_count": 7,
   "id": "e8abac88-fb15-4c19-aadc-d91d0cba225d",
   "metadata": {},
   "outputs": [
    {
     "data": {
      "text/plain": [
       "['3pfba.wam',\n",
       " '5yvbw.wam',\n",
       " 'bxar4.wam',\n",
       " 'crhbe.wam',\n",
       " 'dfxb2.wam',\n",
       " 'ef5bi.wam',\n",
       " 'fn1sa.wam',\n",
       " 'fu3bq.wam',\n",
       " 'gwxbc.wam',\n",
       " 'hejru.wam',\n",
       " 'j5gba.wam',\n",
       " 'kp5qw.wam',\n",
       " 'mhbbo.wam',\n",
       " 'sjiau.waa',\n",
       " 'xaray.wam',\n",
       " 'yhrba.wam',\n",
       " 'ynnr.wam']"
      ]
     },
     "execution_count": 7,
     "metadata": {},
     "output_type": "execute_result"
    }
   ],
   "source": [
    "list(dg_sellernetwork.adj['d.fqu.wam'])"
   ]
  },
  {
   "cell_type": "code",
   "execution_count": 8,
   "id": "d285a321-9731-4f0c-9d5b-705cea75ff40",
   "metadata": {},
   "outputs": [
    {
     "data": {
      "text/plain": [
       "522"
      ]
     },
     "execution_count": 8,
     "metadata": {},
     "output_type": "execute_result"
    }
   ],
   "source": [
    "dg_sellernetwork.degree['d.fqu.wam']"
   ]
  },
  {
   "cell_type": "code",
   "execution_count": 9,
   "id": "11d9b0cf-3167-483f-8e07-2405a462ee73",
   "metadata": {},
   "outputs": [],
   "source": [
    "deg_centrality_seller = nx.degree_centrality(dg_sellernetwork)"
   ]
  },
  {
   "cell_type": "code",
   "execution_count": 10,
   "id": "9cbe69c2-1733-44e2-8487-595f5067f77e",
   "metadata": {},
   "outputs": [
    {
     "data": {
      "text/plain": [
       "532945"
      ]
     },
     "execution_count": 10,
     "metadata": {},
     "output_type": "execute_result"
    }
   ],
   "source": [
    "len(deg_centrality_seller.values())"
   ]
  },
  {
   "cell_type": "code",
   "execution_count": 11,
   "id": "a5a9ab16-30c3-4163-9c87-cb1cb27fbbe8",
   "metadata": {},
   "outputs": [],
   "source": [
    "pgrank_seller = nx.pagerank(dg_sellernetwork, alpha = 0.8)"
   ]
  },
  {
   "cell_type": "code",
   "execution_count": 12,
   "id": "e320db4e-8810-4751-bf80-b881c794e6cb",
   "metadata": {},
   "outputs": [
    {
     "name": "stdout",
     "output_type": "stream",
     "text": [
      "532945\n",
      "0.0013022006064427032\n",
      "0.0002897145514934514\n"
     ]
    }
   ],
   "source": [
    "print(len(pgrank_seller))\n",
    "print(deg_centrality_seller['kilb2.wam'])\n",
    "print(pgrank_seller['kilb2.wam'])"
   ]
  },
  {
   "cell_type": "code",
   "execution_count": 13,
   "id": "ce8b22d9-9b27-4533-8fd6-f0b474ead709",
   "metadata": {},
   "outputs": [
    {
     "name": "stdout",
     "output_type": "stream",
     "text": [
      "['...rc.wam', 'egnqy.waa', 'nbxqy.wam', '..1s.wam', 'o1lbu.wam', '..24.wam', '4u.b2.wam', '5zfqw.wam', 'brnqw.wam', 'kkbaw.wam']\n",
      "[('...rc.wam', 'egnqy.waa'), ('...rc.wam', 'nbxqy.wam'), ('nbxqy.wam', '45uqy.wam'), ('..1s.wam', 'o1lbu.wam'), ('..24.wam', '4u.b2.wam'), ('..24.wam', '5zfqw.wam'), ('..24.wam', 'brnqw.wam'), ('..24.wam', 'kkbaw.wam'), ('..24.wam', 'nkyqy.wam'), ('..24.wam', 'olnay.wam')]\n",
      "522\n"
     ]
    }
   ],
   "source": [
    "# create buyer network\n",
    "dg_buyernetwork = nx.from_pandas_edgelist(df_buyernetwork, 'Buyer_address', 'Seller_address', True, nx.DiGraph())\n",
    "print(list(dg_buyernetwork.nodes)[:10])\n",
    "print(list(dg_buyernetwork.edges)[:10])\n",
    "# print(list(dg_buyernetwork.adj['d.fqu.wam']))\n",
    "print(dg_buyernetwork.degree['d.fqu.wam'])"
   ]
  },
  {
   "cell_type": "code",
   "execution_count": 14,
   "id": "1a34bc10-18f3-46d8-bd28-a18a582ba35a",
   "metadata": {},
   "outputs": [
    {
     "data": {
      "text/plain": [
       "532945"
      ]
     },
     "execution_count": 14,
     "metadata": {},
     "output_type": "execute_result"
    }
   ],
   "source": [
    "deg_centrality_buyer = nx.degree_centrality(dg_buyernetwork)\n",
    "len(deg_centrality_buyer)"
   ]
  },
  {
   "cell_type": "code",
   "execution_count": 15,
   "id": "22e3b6d0-1477-4d98-ba82-3583ac395b52",
   "metadata": {},
   "outputs": [
    {
     "data": {
      "text/plain": [
       "532945"
      ]
     },
     "execution_count": 15,
     "metadata": {},
     "output_type": "execute_result"
    }
   ],
   "source": [
    "pgrank_buyer = nx.pagerank(dg_buyernetwork, alpha = 0.8)\n",
    "len(pgrank_buyer)"
   ]
  },
  {
   "cell_type": "code",
   "execution_count": 16,
   "id": "21baad60-7b4e-4cd2-a86f-e92004841656",
   "metadata": {},
   "outputs": [
    {
     "name": "stdout",
     "output_type": "stream",
     "text": [
      "0.0013022006064427032\n",
      "7.669013374651661e-07\n"
     ]
    }
   ],
   "source": [
    "print(deg_centrality_buyer['kilb2.wam'])\n",
    "print(pgrank_buyer['kilb2.wam'])"
   ]
  },
  {
   "cell_type": "markdown",
   "id": "51154feb-1227-4899-9681-40b5bcccc03f",
   "metadata": {},
   "source": [
    "## Create dataframe of network values"
   ]
  },
  {
   "cell_type": "code",
   "execution_count": 18,
   "id": "c2b17e8e-25f8-4944-9c12-cc7f90d535ba",
   "metadata": {},
   "outputs": [
    {
     "name": "stdout",
     "output_type": "stream",
     "text": [
      "<class 'dict'>\n",
      "<class 'dict'>\n",
      "<class 'dict'>\n",
      "<class 'dict'>\n"
     ]
    }
   ],
   "source": [
    "print(type(deg_centrality_seller))\n",
    "print(type(pgrank_seller))\n",
    "print(type(deg_centrality_buyer))\n",
    "print(type(pgrank_buyer))"
   ]
  },
  {
   "cell_type": "code",
   "execution_count": 19,
   "id": "386ebc2d-c140-4248-b11a-0288d97293ad",
   "metadata": {},
   "outputs": [],
   "source": [
    "df_network_centrality_seller = pd.DataFrame(list(deg_centrality_seller.items()), columns=['Seller_address', 'deg_centrality_seller'])\n",
    "df_network_pgrank_seller = pd.DataFrame(list(pgrank_seller.items()), columns=['Seller_address', 'pgrank_seller'])\n",
    "df_network_centrality_buyer = pd.DataFrame(list(deg_centrality_buyer.items()), columns=['Buyer_address', 'deg_centrality_buyer'])\n",
    "df_network_pgrank_buyer = pd.DataFrame(list(pgrank_buyer.items()), columns=['Buyer_address', 'pgrank_buyer'])"
   ]
  },
  {
   "cell_type": "code",
   "execution_count": 20,
   "id": "b0bd5449-6f3a-49e0-a46f-e427a2663c0c",
   "metadata": {},
   "outputs": [
    {
     "data": {
      "text/html": [
       "<div>\n",
       "<style scoped>\n",
       "    .dataframe tbody tr th:only-of-type {\n",
       "        vertical-align: middle;\n",
       "    }\n",
       "\n",
       "    .dataframe tbody tr th {\n",
       "        vertical-align: top;\n",
       "    }\n",
       "\n",
       "    .dataframe thead th {\n",
       "        text-align: right;\n",
       "    }\n",
       "</style>\n",
       "<table border=\"1\" class=\"dataframe\">\n",
       "  <thead>\n",
       "    <tr style=\"text-align: right;\">\n",
       "      <th></th>\n",
       "      <th>Seller_address</th>\n",
       "      <th>deg_centrality_seller</th>\n",
       "    </tr>\n",
       "  </thead>\n",
       "  <tbody>\n",
       "    <tr>\n",
       "      <th>0</th>\n",
       "      <td>...bu.wam</td>\n",
       "      <td>0.000002</td>\n",
       "    </tr>\n",
       "    <tr>\n",
       "      <th>1</th>\n",
       "      <td>kilb2.wam</td>\n",
       "      <td>0.001302</td>\n",
       "    </tr>\n",
       "    <tr>\n",
       "      <th>2</th>\n",
       "      <td>...c.wam</td>\n",
       "      <td>0.000002</td>\n",
       "    </tr>\n",
       "    <tr>\n",
       "      <th>3</th>\n",
       "      <td>d.fqu.wam</td>\n",
       "      <td>0.000979</td>\n",
       "    </tr>\n",
       "    <tr>\n",
       "      <th>4</th>\n",
       "      <td>...rc.wam</td>\n",
       "      <td>0.000017</td>\n",
       "    </tr>\n",
       "  </tbody>\n",
       "</table>\n",
       "</div>"
      ],
      "text/plain": [
       "  Seller_address  deg_centrality_seller\n",
       "0      ...bu.wam               0.000002\n",
       "1      kilb2.wam               0.001302\n",
       "2       ...c.wam               0.000002\n",
       "3      d.fqu.wam               0.000979\n",
       "4      ...rc.wam               0.000017"
      ]
     },
     "execution_count": 20,
     "metadata": {},
     "output_type": "execute_result"
    }
   ],
   "source": [
    "df_network_centrality_seller.head(5)"
   ]
  },
  {
   "cell_type": "code",
   "execution_count": 21,
   "id": "17a48a2f-7eb7-4dda-85bd-3c3922a25982",
   "metadata": {},
   "outputs": [
    {
     "data": {
      "text/html": [
       "<div>\n",
       "<style scoped>\n",
       "    .dataframe tbody tr th:only-of-type {\n",
       "        vertical-align: middle;\n",
       "    }\n",
       "\n",
       "    .dataframe tbody tr th {\n",
       "        vertical-align: top;\n",
       "    }\n",
       "\n",
       "    .dataframe thead th {\n",
       "        text-align: right;\n",
       "    }\n",
       "</style>\n",
       "<table border=\"1\" class=\"dataframe\">\n",
       "  <thead>\n",
       "    <tr style=\"text-align: right;\">\n",
       "      <th></th>\n",
       "      <th>Seller_address</th>\n",
       "      <th>pgrank_seller</th>\n",
       "    </tr>\n",
       "  </thead>\n",
       "  <tbody>\n",
       "    <tr>\n",
       "      <th>0</th>\n",
       "      <td>...bu.wam</td>\n",
       "      <td>8.762884e-07</td>\n",
       "    </tr>\n",
       "    <tr>\n",
       "      <th>1</th>\n",
       "      <td>kilb2.wam</td>\n",
       "      <td>2.897146e-04</td>\n",
       "    </tr>\n",
       "    <tr>\n",
       "      <th>2</th>\n",
       "      <td>...c.wam</td>\n",
       "      <td>8.762884e-07</td>\n",
       "    </tr>\n",
       "    <tr>\n",
       "      <th>3</th>\n",
       "      <td>d.fqu.wam</td>\n",
       "      <td>2.262939e-04</td>\n",
       "    </tr>\n",
       "    <tr>\n",
       "      <th>4</th>\n",
       "      <td>...rc.wam</td>\n",
       "      <td>1.075619e-06</td>\n",
       "    </tr>\n",
       "  </tbody>\n",
       "</table>\n",
       "</div>"
      ],
      "text/plain": [
       "  Seller_address  pgrank_seller\n",
       "0      ...bu.wam   8.762884e-07\n",
       "1      kilb2.wam   2.897146e-04\n",
       "2       ...c.wam   8.762884e-07\n",
       "3      d.fqu.wam   2.262939e-04\n",
       "4      ...rc.wam   1.075619e-06"
      ]
     },
     "execution_count": 21,
     "metadata": {},
     "output_type": "execute_result"
    }
   ],
   "source": [
    "df_network_pgrank_seller.head(5)"
   ]
  },
  {
   "cell_type": "code",
   "execution_count": 22,
   "id": "40e2c691-ee4b-4bc9-90dd-97826ada4c5b",
   "metadata": {},
   "outputs": [
    {
     "data": {
      "text/html": [
       "<div>\n",
       "<style scoped>\n",
       "    .dataframe tbody tr th:only-of-type {\n",
       "        vertical-align: middle;\n",
       "    }\n",
       "\n",
       "    .dataframe tbody tr th {\n",
       "        vertical-align: top;\n",
       "    }\n",
       "\n",
       "    .dataframe thead th {\n",
       "        text-align: right;\n",
       "    }\n",
       "</style>\n",
       "<table border=\"1\" class=\"dataframe\">\n",
       "  <thead>\n",
       "    <tr style=\"text-align: right;\">\n",
       "      <th></th>\n",
       "      <th>Buyer_address</th>\n",
       "      <th>deg_centrality_buyer</th>\n",
       "    </tr>\n",
       "  </thead>\n",
       "  <tbody>\n",
       "    <tr>\n",
       "      <th>0</th>\n",
       "      <td>...rc.wam</td>\n",
       "      <td>0.000017</td>\n",
       "    </tr>\n",
       "    <tr>\n",
       "      <th>1</th>\n",
       "      <td>egnqy.waa</td>\n",
       "      <td>0.000008</td>\n",
       "    </tr>\n",
       "    <tr>\n",
       "      <th>2</th>\n",
       "      <td>nbxqy.wam</td>\n",
       "      <td>0.004738</td>\n",
       "    </tr>\n",
       "    <tr>\n",
       "      <th>3</th>\n",
       "      <td>..1s.wam</td>\n",
       "      <td>0.000002</td>\n",
       "    </tr>\n",
       "    <tr>\n",
       "      <th>4</th>\n",
       "      <td>o1lbu.wam</td>\n",
       "      <td>0.000002</td>\n",
       "    </tr>\n",
       "  </tbody>\n",
       "</table>\n",
       "</div>"
      ],
      "text/plain": [
       "  Buyer_address  deg_centrality_buyer\n",
       "0     ...rc.wam              0.000017\n",
       "1     egnqy.waa              0.000008\n",
       "2     nbxqy.wam              0.004738\n",
       "3      ..1s.wam              0.000002\n",
       "4     o1lbu.wam              0.000002"
      ]
     },
     "execution_count": 22,
     "metadata": {},
     "output_type": "execute_result"
    }
   ],
   "source": [
    "df_network_centrality_buyer.head(5)"
   ]
  },
  {
   "cell_type": "code",
   "execution_count": 23,
   "id": "b5074c8c-b48a-4168-8cd0-393093acb163",
   "metadata": {},
   "outputs": [
    {
     "data": {
      "text/html": [
       "<div>\n",
       "<style scoped>\n",
       "    .dataframe tbody tr th:only-of-type {\n",
       "        vertical-align: middle;\n",
       "    }\n",
       "\n",
       "    .dataframe tbody tr th {\n",
       "        vertical-align: top;\n",
       "    }\n",
       "\n",
       "    .dataframe thead th {\n",
       "        text-align: right;\n",
       "    }\n",
       "</style>\n",
       "<table border=\"1\" class=\"dataframe\">\n",
       "  <thead>\n",
       "    <tr style=\"text-align: right;\">\n",
       "      <th></th>\n",
       "      <th>Buyer_address</th>\n",
       "      <th>pgrank_buyer</th>\n",
       "    </tr>\n",
       "  </thead>\n",
       "  <tbody>\n",
       "    <tr>\n",
       "      <th>0</th>\n",
       "      <td>...rc.wam</td>\n",
       "      <td>1.236485e-06</td>\n",
       "    </tr>\n",
       "    <tr>\n",
       "      <th>1</th>\n",
       "      <td>egnqy.waa</td>\n",
       "      <td>2.649662e-06</td>\n",
       "    </tr>\n",
       "    <tr>\n",
       "      <th>2</th>\n",
       "      <td>nbxqy.wam</td>\n",
       "      <td>8.349081e-04</td>\n",
       "    </tr>\n",
       "    <tr>\n",
       "      <th>3</th>\n",
       "      <td>..1s.wam</td>\n",
       "      <td>7.669013e-07</td>\n",
       "    </tr>\n",
       "    <tr>\n",
       "      <th>4</th>\n",
       "      <td>o1lbu.wam</td>\n",
       "      <td>1.460536e-06</td>\n",
       "    </tr>\n",
       "  </tbody>\n",
       "</table>\n",
       "</div>"
      ],
      "text/plain": [
       "  Buyer_address  pgrank_buyer\n",
       "0     ...rc.wam  1.236485e-06\n",
       "1     egnqy.waa  2.649662e-06\n",
       "2     nbxqy.wam  8.349081e-04\n",
       "3      ..1s.wam  7.669013e-07\n",
       "4     o1lbu.wam  1.460536e-06"
      ]
     },
     "execution_count": 23,
     "metadata": {},
     "output_type": "execute_result"
    }
   ],
   "source": [
    "df_network_pgrank_buyer.head(5)"
   ]
  },
  {
   "cell_type": "code",
   "execution_count": 24,
   "id": "77232ee7-c974-4548-bf1d-8231834cfa91",
   "metadata": {},
   "outputs": [
    {
     "data": {
      "text/html": [
       "<div>\n",
       "<style scoped>\n",
       "    .dataframe tbody tr th:only-of-type {\n",
       "        vertical-align: middle;\n",
       "    }\n",
       "\n",
       "    .dataframe tbody tr th {\n",
       "        vertical-align: top;\n",
       "    }\n",
       "\n",
       "    .dataframe thead th {\n",
       "        text-align: right;\n",
       "    }\n",
       "</style>\n",
       "<table border=\"1\" class=\"dataframe\">\n",
       "  <thead>\n",
       "    <tr style=\"text-align: right;\">\n",
       "      <th></th>\n",
       "      <th>Seller_address</th>\n",
       "      <th>Buyer_address</th>\n",
       "      <th>trans_count</th>\n",
       "      <th>deg_centrality_seller</th>\n",
       "      <th>pgrank_seller</th>\n",
       "    </tr>\n",
       "  </thead>\n",
       "  <tbody>\n",
       "    <tr>\n",
       "      <th>0</th>\n",
       "      <td>...bu.wam</td>\n",
       "      <td>kilb2.wam</td>\n",
       "      <td>1</td>\n",
       "      <td>0.000002</td>\n",
       "      <td>8.762884e-07</td>\n",
       "    </tr>\n",
       "    <tr>\n",
       "      <th>1</th>\n",
       "      <td>...c.wam</td>\n",
       "      <td>d.fqu.wam</td>\n",
       "      <td>1</td>\n",
       "      <td>0.000002</td>\n",
       "      <td>8.762884e-07</td>\n",
       "    </tr>\n",
       "    <tr>\n",
       "      <th>2</th>\n",
       "      <td>...rc.wam</td>\n",
       "      <td>.v.qy.wam</td>\n",
       "      <td>1</td>\n",
       "      <td>0.000017</td>\n",
       "      <td>1.075619e-06</td>\n",
       "    </tr>\n",
       "    <tr>\n",
       "      <th>3</th>\n",
       "      <td>...rc.wam</td>\n",
       "      <td>5jtra.wam</td>\n",
       "      <td>1</td>\n",
       "      <td>0.000017</td>\n",
       "      <td>1.075619e-06</td>\n",
       "    </tr>\n",
       "    <tr>\n",
       "      <th>4</th>\n",
       "      <td>...rc.wam</td>\n",
       "      <td>bbubg.wam</td>\n",
       "      <td>1</td>\n",
       "      <td>0.000017</td>\n",
       "      <td>1.075619e-06</td>\n",
       "    </tr>\n",
       "  </tbody>\n",
       "</table>\n",
       "</div>"
      ],
      "text/plain": [
       "  Seller_address Buyer_address  trans_count  deg_centrality_seller  \\\n",
       "0      ...bu.wam     kilb2.wam            1               0.000002   \n",
       "1       ...c.wam     d.fqu.wam            1               0.000002   \n",
       "2      ...rc.wam     .v.qy.wam            1               0.000017   \n",
       "3      ...rc.wam     5jtra.wam            1               0.000017   \n",
       "4      ...rc.wam     bbubg.wam            1               0.000017   \n",
       "\n",
       "   pgrank_seller  \n",
       "0   8.762884e-07  \n",
       "1   8.762884e-07  \n",
       "2   1.075619e-06  \n",
       "3   1.075619e-06  \n",
       "4   1.075619e-06  "
      ]
     },
     "execution_count": 24,
     "metadata": {},
     "output_type": "execute_result"
    }
   ],
   "source": [
    "# merge with sellernetwork\n",
    "df_sellernetwork_values = pd.merge(df_sellernetwork, df_network_centrality_seller, on='Seller_address', how='left')\n",
    "df_sellernetwork_values = pd.merge(df_sellernetwork_values, df_network_pgrank_seller, on='Seller_address', how='left')\n",
    "df_sellernetwork_values.head(5)"
   ]
  },
  {
   "cell_type": "code",
   "execution_count": 25,
   "id": "f2441b7b-362a-4318-9fed-51993961220e",
   "metadata": {},
   "outputs": [
    {
     "name": "stdout",
     "output_type": "stream",
     "text": [
      "2991602\n",
      "2991602\n"
     ]
    }
   ],
   "source": [
    "print(len(df_sellernetwork))\n",
    "print(len(df_sellernetwork_values))"
   ]
  },
  {
   "cell_type": "code",
   "execution_count": 26,
   "id": "f1b2d951-3ca1-4063-aaa2-b7489d6661d9",
   "metadata": {},
   "outputs": [
    {
     "data": {
      "text/html": [
       "<div>\n",
       "<style scoped>\n",
       "    .dataframe tbody tr th:only-of-type {\n",
       "        vertical-align: middle;\n",
       "    }\n",
       "\n",
       "    .dataframe tbody tr th {\n",
       "        vertical-align: top;\n",
       "    }\n",
       "\n",
       "    .dataframe thead th {\n",
       "        text-align: right;\n",
       "    }\n",
       "</style>\n",
       "<table border=\"1\" class=\"dataframe\">\n",
       "  <thead>\n",
       "    <tr style=\"text-align: right;\">\n",
       "      <th></th>\n",
       "      <th>Buyer_address</th>\n",
       "      <th>Seller_address</th>\n",
       "      <th>trans_count</th>\n",
       "      <th>deg_centrality_buyer</th>\n",
       "      <th>pgrank_buyer</th>\n",
       "    </tr>\n",
       "  </thead>\n",
       "  <tbody>\n",
       "    <tr>\n",
       "      <th>0</th>\n",
       "      <td>...rc.wam</td>\n",
       "      <td>egnqy.waa</td>\n",
       "      <td>1</td>\n",
       "      <td>0.000017</td>\n",
       "      <td>1.236485e-06</td>\n",
       "    </tr>\n",
       "    <tr>\n",
       "      <th>1</th>\n",
       "      <td>...rc.wam</td>\n",
       "      <td>nbxqy.wam</td>\n",
       "      <td>2</td>\n",
       "      <td>0.000017</td>\n",
       "      <td>1.236485e-06</td>\n",
       "    </tr>\n",
       "    <tr>\n",
       "      <th>2</th>\n",
       "      <td>..1s.wam</td>\n",
       "      <td>o1lbu.wam</td>\n",
       "      <td>1</td>\n",
       "      <td>0.000002</td>\n",
       "      <td>7.669013e-07</td>\n",
       "    </tr>\n",
       "    <tr>\n",
       "      <th>3</th>\n",
       "      <td>..24.wam</td>\n",
       "      <td>4u.b2.wam</td>\n",
       "      <td>1</td>\n",
       "      <td>0.000028</td>\n",
       "      <td>1.304048e-06</td>\n",
       "    </tr>\n",
       "    <tr>\n",
       "      <th>4</th>\n",
       "      <td>..24.wam</td>\n",
       "      <td>5zfqw.wam</td>\n",
       "      <td>1</td>\n",
       "      <td>0.000028</td>\n",
       "      <td>1.304048e-06</td>\n",
       "    </tr>\n",
       "  </tbody>\n",
       "</table>\n",
       "</div>"
      ],
      "text/plain": [
       "  Buyer_address Seller_address  trans_count  deg_centrality_buyer  \\\n",
       "0     ...rc.wam      egnqy.waa            1              0.000017   \n",
       "1     ...rc.wam      nbxqy.wam            2              0.000017   \n",
       "2      ..1s.wam      o1lbu.wam            1              0.000002   \n",
       "3      ..24.wam      4u.b2.wam            1              0.000028   \n",
       "4      ..24.wam      5zfqw.wam            1              0.000028   \n",
       "\n",
       "   pgrank_buyer  \n",
       "0  1.236485e-06  \n",
       "1  1.236485e-06  \n",
       "2  7.669013e-07  \n",
       "3  1.304048e-06  \n",
       "4  1.304048e-06  "
      ]
     },
     "execution_count": 26,
     "metadata": {},
     "output_type": "execute_result"
    }
   ],
   "source": [
    "# merge with buyernetwork\n",
    "df_buyernetwork_values = pd.merge(df_buyernetwork, df_network_centrality_buyer, on='Buyer_address', how='left')\n",
    "df_buyernetwork_values = pd.merge(df_buyernetwork_values, df_network_pgrank_buyer, on='Buyer_address', how='left')\n",
    "df_buyernetwork_values.head(5)"
   ]
  },
  {
   "cell_type": "code",
   "execution_count": 27,
   "id": "f468d7b5-adb7-437b-b52b-fd5ef05856bd",
   "metadata": {},
   "outputs": [
    {
     "name": "stdout",
     "output_type": "stream",
     "text": [
      "2991602\n",
      "2991602\n"
     ]
    }
   ],
   "source": [
    "print(len(df_buyernetwork))\n",
    "print(len(df_buyernetwork_values))"
   ]
  },
  {
   "cell_type": "code",
   "execution_count": 29,
   "id": "fd46955d-0ebd-4ca1-9218-9cf1ee05f50b",
   "metadata": {},
   "outputs": [
    {
     "name": "stdout",
     "output_type": "stream",
     "text": [
      "2991602\n",
      "2991602\n"
     ]
    }
   ],
   "source": [
    "print(df_sellernetwork_values.index.nunique())\n",
    "print(df_buyernetwork_values.index.nunique())"
   ]
  },
  {
   "cell_type": "code",
   "execution_count": 30,
   "id": "f776ef6b-175d-4e6a-a314-735784daa78d",
   "metadata": {},
   "outputs": [
    {
     "name": "stdout",
     "output_type": "stream",
     "text": [
      "Index(['Seller_address', 'Buyer_address', 'trans_count'], dtype='object')\n",
      "Index(['Seller_address', 'Buyer_address', 'trans_count',\n",
      "       'deg_centrality_seller', 'pgrank_seller'],\n",
      "      dtype='object')\n",
      "Index(['Buyer_address', 'Seller_address', 'trans_count'], dtype='object')\n",
      "Index(['Buyer_address', 'Seller_address', 'trans_count',\n",
      "       'deg_centrality_buyer', 'pgrank_buyer'],\n",
      "      dtype='object')\n"
     ]
    }
   ],
   "source": [
    "print(df_sellernetwork.columns)\n",
    "print(df_sellernetwork_values.columns)\n",
    "print(df_buyernetwork.columns)\n",
    "print(df_buyernetwork_values.columns)"
   ]
  },
  {
   "cell_type": "code",
   "execution_count": 34,
   "id": "77de8daf-769e-4111-9725-44ab67b8e133",
   "metadata": {},
   "outputs": [
    {
     "name": "stdout",
     "output_type": "stream",
     "text": [
      "2991602\n"
     ]
    },
    {
     "data": {
      "text/html": [
       "<div>\n",
       "<style scoped>\n",
       "    .dataframe tbody tr th:only-of-type {\n",
       "        vertical-align: middle;\n",
       "    }\n",
       "\n",
       "    .dataframe tbody tr th {\n",
       "        vertical-align: top;\n",
       "    }\n",
       "\n",
       "    .dataframe thead th {\n",
       "        text-align: right;\n",
       "    }\n",
       "</style>\n",
       "<table border=\"1\" class=\"dataframe\">\n",
       "  <thead>\n",
       "    <tr style=\"text-align: right;\">\n",
       "      <th></th>\n",
       "      <th>Seller_address</th>\n",
       "      <th>Buyer_address</th>\n",
       "      <th>trans_count_seller</th>\n",
       "      <th>deg_centrality_seller</th>\n",
       "      <th>pgrank_seller</th>\n",
       "      <th>trans_count_buyer</th>\n",
       "      <th>deg_centrality_buyer</th>\n",
       "      <th>pgrank_buyer</th>\n",
       "    </tr>\n",
       "  </thead>\n",
       "  <tbody>\n",
       "    <tr>\n",
       "      <th>0</th>\n",
       "      <td>...bu.wam</td>\n",
       "      <td>kilb2.wam</td>\n",
       "      <td>1</td>\n",
       "      <td>0.000002</td>\n",
       "      <td>8.762884e-07</td>\n",
       "      <td>1</td>\n",
       "      <td>0.001302</td>\n",
       "      <td>7.669013e-07</td>\n",
       "    </tr>\n",
       "    <tr>\n",
       "      <th>1</th>\n",
       "      <td>...c.wam</td>\n",
       "      <td>d.fqu.wam</td>\n",
       "      <td>1</td>\n",
       "      <td>0.000002</td>\n",
       "      <td>8.762884e-07</td>\n",
       "      <td>1</td>\n",
       "      <td>0.000979</td>\n",
       "      <td>2.953358e-06</td>\n",
       "    </tr>\n",
       "    <tr>\n",
       "      <th>2</th>\n",
       "      <td>...rc.wam</td>\n",
       "      <td>.v.qy.wam</td>\n",
       "      <td>1</td>\n",
       "      <td>0.000017</td>\n",
       "      <td>1.075619e-06</td>\n",
       "      <td>1</td>\n",
       "      <td>0.001372</td>\n",
       "      <td>6.215006e-06</td>\n",
       "    </tr>\n",
       "    <tr>\n",
       "      <th>3</th>\n",
       "      <td>...rc.wam</td>\n",
       "      <td>5jtra.wam</td>\n",
       "      <td>1</td>\n",
       "      <td>0.000017</td>\n",
       "      <td>1.075619e-06</td>\n",
       "      <td>1</td>\n",
       "      <td>0.000203</td>\n",
       "      <td>1.874846e-06</td>\n",
       "    </tr>\n",
       "    <tr>\n",
       "      <th>4</th>\n",
       "      <td>...rc.wam</td>\n",
       "      <td>bbubg.wam</td>\n",
       "      <td>1</td>\n",
       "      <td>0.000017</td>\n",
       "      <td>1.075619e-06</td>\n",
       "      <td>1</td>\n",
       "      <td>0.000008</td>\n",
       "      <td>7.669013e-07</td>\n",
       "    </tr>\n",
       "  </tbody>\n",
       "</table>\n",
       "</div>"
      ],
      "text/plain": [
       "  Seller_address Buyer_address  trans_count_seller  deg_centrality_seller  \\\n",
       "0      ...bu.wam     kilb2.wam                   1               0.000002   \n",
       "1       ...c.wam     d.fqu.wam                   1               0.000002   \n",
       "2      ...rc.wam     .v.qy.wam                   1               0.000017   \n",
       "3      ...rc.wam     5jtra.wam                   1               0.000017   \n",
       "4      ...rc.wam     bbubg.wam                   1               0.000017   \n",
       "\n",
       "   pgrank_seller  trans_count_buyer  deg_centrality_buyer  pgrank_buyer  \n",
       "0   8.762884e-07                  1              0.001302  7.669013e-07  \n",
       "1   8.762884e-07                  1              0.000979  2.953358e-06  \n",
       "2   1.075619e-06                  1              0.001372  6.215006e-06  \n",
       "3   1.075619e-06                  1              0.000203  1.874846e-06  \n",
       "4   1.075619e-06                  1              0.000008  7.669013e-07  "
      ]
     },
     "execution_count": 34,
     "metadata": {},
     "output_type": "execute_result"
    }
   ],
   "source": [
    "df_network_values = pd.merge(df_sellernetwork, df_sellernetwork_values, how='left', on=['Seller_address', 'Buyer_address', 'trans_count']).rename(columns={'trans_count': 'trans_count_seller'})\n",
    "df_network_values = pd.merge(df_network_values, df_buyernetwork_values, how='left', on=['Seller_address', 'Buyer_address']).rename(columns={'trans_count': 'trans_count_buyer'})\n",
    "print(len(df_network_values))\n",
    "df_network_values.head(5)"
   ]
  },
  {
   "cell_type": "code",
   "execution_count": 36,
   "id": "9ecc2a7a-4af0-4f6e-bbc2-77eed3bef041",
   "metadata": {},
   "outputs": [
    {
     "data": {
      "text/html": [
       "<div>\n",
       "<style scoped>\n",
       "    .dataframe tbody tr th:only-of-type {\n",
       "        vertical-align: middle;\n",
       "    }\n",
       "\n",
       "    .dataframe tbody tr th {\n",
       "        vertical-align: top;\n",
       "    }\n",
       "\n",
       "    .dataframe thead th {\n",
       "        text-align: right;\n",
       "    }\n",
       "</style>\n",
       "<table border=\"1\" class=\"dataframe\">\n",
       "  <thead>\n",
       "    <tr style=\"text-align: right;\">\n",
       "      <th></th>\n",
       "      <th>Seller_address</th>\n",
       "      <th>Buyer_address</th>\n",
       "      <th>trans_count_seller</th>\n",
       "      <th>deg_centrality_seller</th>\n",
       "      <th>pgrank_seller</th>\n",
       "      <th>trans_count_buyer</th>\n",
       "      <th>deg_centrality_buyer</th>\n",
       "      <th>pgrank_buyer</th>\n",
       "    </tr>\n",
       "  </thead>\n",
       "  <tbody>\n",
       "    <tr>\n",
       "      <th>2991597</th>\n",
       "      <td>zzzr.wam</td>\n",
       "      <td>vbequ.wam</td>\n",
       "      <td>1</td>\n",
       "      <td>0.000375</td>\n",
       "      <td>0.00002</td>\n",
       "      <td>1</td>\n",
       "      <td>0.002790</td>\n",
       "      <td>0.000085</td>\n",
       "    </tr>\n",
       "    <tr>\n",
       "      <th>2991598</th>\n",
       "      <td>zzzr.wam</td>\n",
       "      <td>x4iqw.wam</td>\n",
       "      <td>2</td>\n",
       "      <td>0.000375</td>\n",
       "      <td>0.00002</td>\n",
       "      <td>2</td>\n",
       "      <td>0.002100</td>\n",
       "      <td>0.000017</td>\n",
       "    </tr>\n",
       "    <tr>\n",
       "      <th>2991599</th>\n",
       "      <td>zzzr.wam</td>\n",
       "      <td>xdfqy.wam</td>\n",
       "      <td>1</td>\n",
       "      <td>0.000375</td>\n",
       "      <td>0.00002</td>\n",
       "      <td>1</td>\n",
       "      <td>0.000242</td>\n",
       "      <td>0.000014</td>\n",
       "    </tr>\n",
       "    <tr>\n",
       "      <th>2991600</th>\n",
       "      <td>zzzr.wam</td>\n",
       "      <td>xjsb2.wam</td>\n",
       "      <td>1</td>\n",
       "      <td>0.000375</td>\n",
       "      <td>0.00002</td>\n",
       "      <td>1</td>\n",
       "      <td>0.000274</td>\n",
       "      <td>0.000001</td>\n",
       "    </tr>\n",
       "    <tr>\n",
       "      <th>2991601</th>\n",
       "      <td>zzzr.wam</td>\n",
       "      <td>ybub.wam</td>\n",
       "      <td>2</td>\n",
       "      <td>0.000375</td>\n",
       "      <td>0.00002</td>\n",
       "      <td>2</td>\n",
       "      <td>0.001852</td>\n",
       "      <td>0.000173</td>\n",
       "    </tr>\n",
       "  </tbody>\n",
       "</table>\n",
       "</div>"
      ],
      "text/plain": [
       "        Seller_address Buyer_address  trans_count_seller  \\\n",
       "2991597       zzzr.wam     vbequ.wam                   1   \n",
       "2991598       zzzr.wam     x4iqw.wam                   2   \n",
       "2991599       zzzr.wam     xdfqy.wam                   1   \n",
       "2991600       zzzr.wam     xjsb2.wam                   1   \n",
       "2991601       zzzr.wam      ybub.wam                   2   \n",
       "\n",
       "         deg_centrality_seller  pgrank_seller  trans_count_buyer  \\\n",
       "2991597               0.000375        0.00002                  1   \n",
       "2991598               0.000375        0.00002                  2   \n",
       "2991599               0.000375        0.00002                  1   \n",
       "2991600               0.000375        0.00002                  1   \n",
       "2991601               0.000375        0.00002                  2   \n",
       "\n",
       "         deg_centrality_buyer  pgrank_buyer  \n",
       "2991597              0.002790      0.000085  \n",
       "2991598              0.002100      0.000017  \n",
       "2991599              0.000242      0.000014  \n",
       "2991600              0.000274      0.000001  \n",
       "2991601              0.001852      0.000173  "
      ]
     },
     "execution_count": 36,
     "metadata": {},
     "output_type": "execute_result"
    }
   ],
   "source": [
    "df_network_values.tail(5)"
   ]
  },
  {
   "cell_type": "markdown",
   "id": "a23b3bff-904a-4179-b5ee-836e9ed5734f",
   "metadata": {},
   "source": [
    "## Write Network Values to pickle file"
   ]
  },
  {
   "cell_type": "code",
   "execution_count": 35,
   "id": "5bbe7fdf-046d-4ffc-9981-6b99c8b89147",
   "metadata": {},
   "outputs": [],
   "source": [
    "df_network_values.to_pickle('df_network_values.pkl')"
   ]
  },
  {
   "cell_type": "markdown",
   "id": "fe73d26a-4f6f-420f-a9ec-93a52c04b99c",
   "metadata": {},
   "source": [
    "## Network Graph"
   ]
  },
  {
   "cell_type": "code",
   "execution_count": 41,
   "id": "7e293089-b78d-4edb-b3fa-5a338fe83132",
   "metadata": {},
   "outputs": [
    {
     "data": {
      "image/png": "[encoded data removed]",
      "text/plain": [
       "<Figure size 432x288 with 1 Axes>"
      ]
     },
     "metadata": {
      "needs_background": "light"
     },
     "output_type": "display_data"
    }
   ],
   "source": [
    "import numpy as np\n",
    "import matplotlib.pyplot as plt\n",
    "\n",
    "# Fixing random state for reproducibility\n",
    "# np.random.seed(19680801)\n",
    "\n",
    "\n",
    "# N = 50\n",
    "x = df_network_values.deg_centrality_seller\n",
    "y = df_network_values.pgrank_seller\n",
    "# colors = np.random.rand(N)\n",
    "area = df_network_values.trans_count_seller  # 0 to 15 point radii\n",
    "\n",
    "plt.xscale('log')\n",
    "plt.yscale('log')\n",
    "plt.scatter(x, y, s=area, alpha=0.5)\n",
    "plt.show()"
   ]
  },
  {
   "cell_type": "code",
   "execution_count": 40,
   "id": "ad111541-ff77-4d52-b7e0-02af190bd882",
   "metadata": {},
   "outputs": [
    {
     "data": {
      "image/png": "[encoded data removed]",
      "text/plain": [
       "<Figure size 432x288 with 1 Axes>"
      ]
     },
     "metadata": {
      "needs_background": "light"
     },
     "output_type": "display_data"
    }
   ],
   "source": [
    "x = df_network_values.deg_centrality_buyer\n",
    "y = df_network_values.pgrank_buyer\n",
    "# colors = np.random.rand(N)\n",
    "area = df_network_values.trans_count_buyer  # 0 to 15 point radii\n",
    "\n",
    "plt.xscale('log')\n",
    "plt.yscale('log')\n",
    "plt.scatter(x, y, s=area, alpha=0.5)\n",
    "plt.show()"
   ]
  },
  {
   "cell_type": "code",
   "execution_count": 47,
   "id": "85a5c34d-ffdf-475d-b6ca-2f2f3c797ffe",
   "metadata": {},
   "outputs": [
    {
     "data": {
      "image/png": "[encoded data removed]",
      "text/plain": [
       "<Figure size 432x288 with 1 Axes>"
      ]
     },
     "metadata": {
      "needs_background": "light"
     },
     "output_type": "display_data"
    }
   ],
   "source": [
    "data = df_network_values.deg_centrality_seller\n",
    "plt.xscale('log')\n",
    "# plt.yscale('log')\n",
    "plt.hist(data, bins = 50)\n",
    "plt.show()"
   ]
  },
  {
   "cell_type": "code",
   "execution_count": 48,
   "id": "d1748b5e-e278-4e49-a85a-dcd7a44ccc63",
   "metadata": {},
   "outputs": [
    {
     "data": {
      "image/png": "[encoded data removed]",
      "text/plain": [
       "<Figure size 432x288 with 1 Axes>"
      ]
     },
     "metadata": {
      "needs_background": "light"
     },
     "output_type": "display_data"
    }
   ],
   "source": [
    "data = df_network_values.pgrank_seller\n",
    "plt.xscale('log')\n",
    "# plt.yscale('log')\n",
    "plt.hist(data, bins = 50)\n",
    "plt.show()"
   ]
  },
  {
   "cell_type": "code",
   "execution_count": 49,
   "id": "aba6fe8d-b472-44f9-af93-14554bde3da9",
   "metadata": {},
   "outputs": [
    {
     "data": {
      "image/png": "[encoded data removed]",
      "text/plain": [
       "<Figure size 432x288 with 1 Axes>"
      ]
     },
     "metadata": {
      "needs_background": "light"
     },
     "output_type": "display_data"
    }
   ],
   "source": [
    "data = df_network_values.deg_centrality_buyer\n",
    "plt.xscale('log')\n",
    "# plt.yscale('log')\n",
    "plt.hist(data, bins = 50)\n",
    "plt.show()"
   ]
  },
  {
   "cell_type": "code",
   "execution_count": 50,
   "id": "aa2c1db5-3ae4-4d63-89b2-edc2c24cee8e",
   "metadata": {},
   "outputs": [
    {
     "data": {
      "image/png": "[encoded data removed]",
      "text/plain": [
       "<Figure size 432x288 with 1 Axes>"
      ]
     },
     "metadata": {
      "needs_background": "light"
     },
     "output_type": "display_data"
    }
   ],
   "source": [
    "data = df_network_values.pgrank_buyer\n",
    "plt.xscale('log')\n",
    "# plt.yscale('log')\n",
    "plt.hist(data, bins = 50)\n",
    "plt.show()"
   ]
  },
  {
   "cell_type": "code",
   "execution_count": null,
   "id": "d7ec584d-5b13-45c6-a0b5-4d9d1613c916",
   "metadata": {},
   "outputs": [],
   "source": [
    "# import altair as alt\n",
    "\n",
    "# alt.data_transformers.disable_max_rows()\n",
    "\n",
    "# source = df_network_values\n",
    "\n",
    "# alt.Chart(source).mark_circle().encode(\n",
    "#     x=alt.X('Category:N'), #, axis=alt.Axis(format='~s')\n",
    "#     y=alt.Y(\n",
    "#         'sum(ID_token):Q',\n",
    "#         title='Num_assets',\n",
    "#         scale=alt.Scale(type='log')\n",
    "#     ),\n",
    "#     facet=alt.Facet('Collection_cleaned:N', columns=6),\n",
    "#     size='sum(ID_token):Q',\n",
    "#     color='Category:N'\n",
    "# ).properties(\n",
    "#     title='Unique tokens by Category and Collection',\n",
    "#     width=90,\n",
    "#     height=80\n",
    "# ).configure_axis(grid=False)"
   ]
  }
 ],
 "metadata": {
  "environment": {
   "kernel": "python3",
   "name": "common-cpu.m87",
   "type": "gcloud",
   "uri": "gcr.io/deeplearning-platform-release/base-cpu:m87"
  },
  "kernelspec": {
   "display_name": "Python 3",
   "language": "python",
   "name": "python3"
  },
  "language_info": {
   "codemirror_mode": {
    "name": "ipython",
    "version": 3
   },
   "file_extension": ".py",
   "mimetype": "text/x-python",
   "name": "python",
   "nbconvert_exporter": "python",
   "pygments_lexer": "ipython3",
   "version": "3.7.12"
  }
 },
 "nbformat": 4,
 "nbformat_minor": 5
}
